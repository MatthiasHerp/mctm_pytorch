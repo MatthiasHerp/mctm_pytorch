{
 "cells": [
  {
   "cell_type": "code",
   "execution_count": 7,
   "metadata": {
    "collapsed": true
   },
   "outputs": [],
   "source": [
    "import torch\n",
    "!pip install wandb -Uq"
   ]
  },
  {
   "cell_type": "code",
   "execution_count": 8,
   "outputs": [
    {
     "name": "stderr",
     "output_type": "stream",
     "text": [
      "\u001B[34m\u001B[1mwandb\u001B[0m: Currently logged in as: \u001B[33mmatthias-herp\u001B[0m. Use \u001B[1m`wandb login --relogin`\u001B[0m to force relogin\n"
     ]
    },
    {
     "data": {
      "text/plain": "True"
     },
     "execution_count": 8,
     "metadata": {},
     "output_type": "execute_result"
    }
   ],
   "source": [
    "import wandb\n",
    "\n",
    "wandb.login()"
   ],
   "metadata": {
    "collapsed": false,
    "pycharm": {
     "name": "#%%\n"
    }
   }
  },
  {
   "cell_type": "code",
   "execution_count": 37,
   "outputs": [],
   "source": [
    "sweep_config = {\n",
    "    'method': 'random'\n",
    "    }\n",
    "metric = {\n",
    "    'name': 'kl_divergence',\n",
    "    'goal': 'minimize'\n",
    "    }\n",
    "sweep_config['metric'] = metric"
   ],
   "metadata": {
    "collapsed": false,
    "pycharm": {
     "name": "#%%\n"
    }
   }
  },
  {
   "cell_type": "code",
   "execution_count": 38,
   "outputs": [],
   "source": [
    "parameters_dict = {\n",
    "    'penvalueridge': {\n",
    "        'distribution': 'uniform',\n",
    "        'min': 0,\n",
    "        'max': 10\n",
    "      },\n",
    "    'penfirstridge': {\n",
    "        'distribution': 'uniform',\n",
    "        'min': 0,\n",
    "        'max': 10\n",
    "      },\n",
    "    'pensecondridge': {\n",
    "        'distribution': 'uniform',\n",
    "        'min': 0,\n",
    "        'max': 10\n",
    "      },\n",
    "    }\n",
    "\n",
    "sweep_config['parameters'] = parameters_dict"
   ],
   "metadata": {
    "collapsed": false,
    "pycharm": {
     "name": "#%%\n"
    }
   }
  },
  {
   "cell_type": "code",
   "execution_count": 39,
   "outputs": [
    {
     "name": "stdout",
     "output_type": "stream",
     "text": [
      "{'method': 'random',\n",
      " 'metric': {'goal': 'minimize', 'name': 'kl_divergence'},\n",
      " 'parameters': {'penfirstridge': {'distribution': 'uniform',\n",
      "                                  'max': 10,\n",
      "                                  'min': 0},\n",
      "                'pensecondridge': {'distribution': 'uniform',\n",
      "                                   'max': 10,\n",
      "                                   'min': 0},\n",
      "                'penvalueridge': {'distribution': 'uniform',\n",
      "                                  'max': 10,\n",
      "                                  'min': 0}}}\n"
     ]
    }
   ],
   "source": [
    "import pprint\n",
    "\n",
    "pprint.pprint(sweep_config)"
   ],
   "metadata": {
    "collapsed": false,
    "pycharm": {
     "name": "#%%\n"
    }
   }
  },
  {
   "cell_type": "code",
   "execution_count": 40,
   "outputs": [
    {
     "name": "stdout",
     "output_type": "stream",
     "text": [
      "Create sweep with ID: f0lkmk88\n",
      "Sweep URL: https://wandb.ai/matthias-herp/sweeps-nf-mctm-test/sweeps/f0lkmk88\n"
     ]
    }
   ],
   "source": [
    "sweep_id = wandb.sweep(sweep_config, project=\"sweeps-nf-mctm-test\")"
   ],
   "metadata": {
    "collapsed": false,
    "pycharm": {
     "name": "#%%\n"
    }
   }
  },
  {
   "cell_type": "code",
   "execution_count": 50,
   "outputs": [],
   "source": [
    "from training_helpers import *\n",
    "from nf_mctm import *\n",
    "from torch.distributions.multivariate_normal import MultivariateNormal"
   ],
   "metadata": {
    "collapsed": false,
    "pycharm": {
     "name": "#%%\n"
    }
   }
  },
  {
   "cell_type": "code",
   "execution_count": 51,
   "outputs": [],
   "source": [
    "def create_data(sample_num=2000):\n",
    "    loc = torch.zeros(3)\n",
    "    lam = torch.Tensor([[1, 0, 0],\n",
    "                        [3, 1, 0],\n",
    "                        [0, 0, 1]])\n",
    "    scale = lam @ torch.eye(3) @ torch.transpose(lam, 0, 1)\n",
    "    y_distribution = MultivariateNormal(loc, scale)\n",
    "    y = y_distribution.sample((sample_num, 1))  # Generate training data\n",
    "    log_likelihood = y_distribution.log_prob(y)\n",
    "    y = y.reshape((sample_num, 3))\n",
    "\n",
    "    return y,log_likelihood"
   ],
   "metadata": {
    "collapsed": false,
    "pycharm": {
     "name": "#%%\n"
    }
   }
  },
  {
   "cell_type": "code",
   "execution_count": 53,
   "outputs": [],
   "source": [
    "def test(model,test_data, test_likelihood):\n",
    "    z = model.forward(test_data,train=False)\n",
    "    loc = torch.zeros(3)\n",
    "    scale = torch.eye(3)\n",
    "    y_distribution = MultivariateNormal(loc, scale)\n",
    "    pred_log_likelihood = y_distribution.log_prob(z)\n",
    "\n",
    "    kl_loss = nn.KLDivLoss(reduction=\"batchmean\", log_target=True)\n",
    "    #both input and target need to be in log likelihood\n",
    "    return kl_loss(pred_log_likelihood, test_likelihood)"
   ],
   "metadata": {
    "collapsed": false,
    "pycharm": {
     "name": "#%%\n"
    }
   }
  },
  {
   "cell_type": "code",
   "execution_count": 54,
   "outputs": [],
   "source": [
    "def hyperparameter_tuning(config=None):\n",
    "    # Initialize a new wandb run\n",
    "    with wandb.init(config=config):\n",
    "        # If called by wandb.agent, as below,\n",
    "        # this config will be set by Sweep Controller\n",
    "        config = wandb.config\n",
    "\n",
    "        y_train, train_likelihood = create_data(2000)\n",
    "        y_test, test_likelihood = create_data(1000)\n",
    "        nf_mctm = NF_MCTM(polynomial_range=torch.tensor([[-15], [15]]),\n",
    "                          number_variables=3,\n",
    "                          spline_decorrelation=\"bspline\")\n",
    "        penalty_params = torch.tensor([config.penvalueridge,\n",
    "                                      config.penfirstridge,\n",
    "                                      config.pensecondridge])\n",
    "\n",
    "        #no epochs required\n",
    "        train(model=nf_mctm,\n",
    "              train_data=y_train,\n",
    "              penalty_params=penalty_params,\n",
    "              iterations=200,\n",
    "              verbose=False)\n",
    "        kl_divergence = test(model=nf_mctm,\n",
    "                             test_data=y_test,\n",
    "                             test_likelihood=test_likelihood)\n",
    "        wandb.log({\"kl_divergence\": kl_divergence})"
   ],
   "metadata": {
    "collapsed": false,
    "pycharm": {
     "name": "#%%\n"
    }
   }
  },
  {
   "cell_type": "code",
   "execution_count": 55,
   "outputs": [
    {
     "name": "stderr",
     "output_type": "stream",
     "text": [
      "\u001B[34m\u001B[1mwandb\u001B[0m: Agent Starting Run: 1b95oj73 with config:\n",
      "\u001B[34m\u001B[1mwandb\u001B[0m: \tpenfirstridge: 4.908471893757293\n",
      "\u001B[34m\u001B[1mwandb\u001B[0m: \tpensecondridge: 8.489520137240552\n",
      "\u001B[34m\u001B[1mwandb\u001B[0m: \tpenvalueridge: 6.8143733643823605\n"
     ]
    },
    {
     "data": {
      "text/plain": "<IPython.core.display.HTML object>",
      "text/html": "Tracking run with wandb version 0.13.9"
     },
     "metadata": {},
     "output_type": "display_data"
    },
    {
     "data": {
      "text/plain": "<IPython.core.display.HTML object>",
      "text/html": "Run data is saved locally in <code>/Users/maherp/Desktop/Universitaet/Goettingen/5_Semester/master_thesis/mctm_pytorch/wandb/run-20230123_165421-1b95oj73</code>"
     },
     "metadata": {},
     "output_type": "display_data"
    },
    {
     "data": {
      "text/plain": "<IPython.core.display.HTML object>",
      "text/html": "Syncing run <strong><a href=\"https://wandb.ai/matthias-herp/sweeps-nf-mctm-test/runs/1b95oj73\" target=\"_blank\">classic-sweep-7</a></strong> to <a href=\"https://wandb.ai/matthias-herp/sweeps-nf-mctm-test\" target=\"_blank\">Weights & Biases</a> (<a href=\"https://wandb.me/run\" target=\"_blank\">docs</a>)<br/>Sweep page: <a href=\"https://wandb.ai/matthias-herp/sweeps-nf-mctm-test/sweeps/f0lkmk88\" target=\"_blank\">https://wandb.ai/matthias-herp/sweeps-nf-mctm-test/sweeps/f0lkmk88</a>"
     },
     "metadata": {},
     "output_type": "display_data"
    },
    {
     "data": {
      "text/plain": "<IPython.core.display.HTML object>",
      "text/html": " View project at <a href=\"https://wandb.ai/matthias-herp/sweeps-nf-mctm-test\" target=\"_blank\">https://wandb.ai/matthias-herp/sweeps-nf-mctm-test</a>"
     },
     "metadata": {},
     "output_type": "display_data"
    },
    {
     "data": {
      "text/plain": "<IPython.core.display.HTML object>",
      "text/html": " View sweep at <a href=\"https://wandb.ai/matthias-herp/sweeps-nf-mctm-test/sweeps/f0lkmk88\" target=\"_blank\">https://wandb.ai/matthias-herp/sweeps-nf-mctm-test/sweeps/f0lkmk88</a>"
     },
     "metadata": {},
     "output_type": "display_data"
    },
    {
     "data": {
      "text/plain": "<IPython.core.display.HTML object>",
      "text/html": " View run at <a href=\"https://wandb.ai/matthias-herp/sweeps-nf-mctm-test/runs/1b95oj73\" target=\"_blank\">https://wandb.ai/matthias-herp/sweeps-nf-mctm-test/runs/1b95oj73</a>"
     },
     "metadata": {},
     "output_type": "display_data"
    },
    {
     "name": "stderr",
     "output_type": "stream",
     "text": [
      "100%|██████████| 200/200 [01:06<00:00,  3.03it/s]\n",
      "/opt/anaconda3/envs/mctm_pytorch_37/lib/python3.7/site-packages/torch/nn/functional.py:2917: UserWarning: reduction: 'mean' divides the total loss by both the batch size and the support size.'batchmean' divides only by the batch size, and aligns with the KL div math definition.'mean' will be changed to behave the same as 'batchmean' in the next major release.\n",
      "  \"reduction: 'mean' divides the total loss by both the batch size and the support size.\"\n"
     ]
    },
    {
     "data": {
      "text/plain": "<IPython.core.display.HTML object>",
      "text/html": "Waiting for W&B process to finish... <strong style=\"color:green\">(success).</strong>"
     },
     "metadata": {},
     "output_type": "display_data"
    },
    {
     "data": {
      "text/plain": "<IPython.core.display.HTML object>",
      "text/html": "<style>\n    table.wandb td:nth-child(1) { padding: 0 10px; text-align: left ; width: auto;} td:nth-child(2) {text-align: left ; width: 100%}\n    .wandb-row { display: flex; flex-direction: row; flex-wrap: wrap; justify-content: flex-start; width: 100% }\n    .wandb-col { display: flex; flex-direction: column; flex-basis: 100%; flex: 1; padding: 10px; }\n    </style>\n<div class=\"wandb-row\"><div class=\"wandb-col\"><h3>Run history:</h3><br/><table class=\"wandb\"><tr><td>kl_divergence</td><td>▁</td></tr></table><br/></div><div class=\"wandb-col\"><h3>Run summary:</h3><br/><table class=\"wandb\"><tr><td>kl_divergence</td><td>0.01619</td></tr></table><br/></div></div>"
     },
     "metadata": {},
     "output_type": "display_data"
    },
    {
     "data": {
      "text/plain": "<IPython.core.display.HTML object>",
      "text/html": " View run <strong style=\"color:#cdcd00\">classic-sweep-7</strong> at: <a href=\"https://wandb.ai/matthias-herp/sweeps-nf-mctm-test/runs/1b95oj73\" target=\"_blank\">https://wandb.ai/matthias-herp/sweeps-nf-mctm-test/runs/1b95oj73</a><br/>Synced 6 W&B file(s), 0 media file(s), 0 artifact file(s) and 0 other file(s)"
     },
     "metadata": {},
     "output_type": "display_data"
    },
    {
     "data": {
      "text/plain": "<IPython.core.display.HTML object>",
      "text/html": "Find logs at: <code>./wandb/run-20230123_165421-1b95oj73/logs</code>"
     },
     "metadata": {},
     "output_type": "display_data"
    },
    {
     "name": "stderr",
     "output_type": "stream",
     "text": [
      "\u001B[34m\u001B[1mwandb\u001B[0m: Agent Starting Run: cwqfbzig with config:\n",
      "\u001B[34m\u001B[1mwandb\u001B[0m: \tpenfirstridge: 7.273503764740443\n",
      "\u001B[34m\u001B[1mwandb\u001B[0m: \tpensecondridge: 5.945431007247846\n",
      "\u001B[34m\u001B[1mwandb\u001B[0m: \tpenvalueridge: 1.9382298541075016\n"
     ]
    },
    {
     "data": {
      "text/plain": "<IPython.core.display.HTML object>",
      "text/html": "Tracking run with wandb version 0.13.9"
     },
     "metadata": {},
     "output_type": "display_data"
    },
    {
     "data": {
      "text/plain": "<IPython.core.display.HTML object>",
      "text/html": "Run data is saved locally in <code>/Users/maherp/Desktop/Universitaet/Goettingen/5_Semester/master_thesis/mctm_pytorch/wandb/run-20230123_165545-cwqfbzig</code>"
     },
     "metadata": {},
     "output_type": "display_data"
    },
    {
     "data": {
      "text/plain": "<IPython.core.display.HTML object>",
      "text/html": "Syncing run <strong><a href=\"https://wandb.ai/matthias-herp/sweeps-nf-mctm-test/runs/cwqfbzig\" target=\"_blank\">faithful-sweep-8</a></strong> to <a href=\"https://wandb.ai/matthias-herp/sweeps-nf-mctm-test\" target=\"_blank\">Weights & Biases</a> (<a href=\"https://wandb.me/run\" target=\"_blank\">docs</a>)<br/>Sweep page: <a href=\"https://wandb.ai/matthias-herp/sweeps-nf-mctm-test/sweeps/f0lkmk88\" target=\"_blank\">https://wandb.ai/matthias-herp/sweeps-nf-mctm-test/sweeps/f0lkmk88</a>"
     },
     "metadata": {},
     "output_type": "display_data"
    },
    {
     "data": {
      "text/plain": "<IPython.core.display.HTML object>",
      "text/html": " View project at <a href=\"https://wandb.ai/matthias-herp/sweeps-nf-mctm-test\" target=\"_blank\">https://wandb.ai/matthias-herp/sweeps-nf-mctm-test</a>"
     },
     "metadata": {},
     "output_type": "display_data"
    },
    {
     "data": {
      "text/plain": "<IPython.core.display.HTML object>",
      "text/html": " View sweep at <a href=\"https://wandb.ai/matthias-herp/sweeps-nf-mctm-test/sweeps/f0lkmk88\" target=\"_blank\">https://wandb.ai/matthias-herp/sweeps-nf-mctm-test/sweeps/f0lkmk88</a>"
     },
     "metadata": {},
     "output_type": "display_data"
    },
    {
     "data": {
      "text/plain": "<IPython.core.display.HTML object>",
      "text/html": " View run at <a href=\"https://wandb.ai/matthias-herp/sweeps-nf-mctm-test/runs/cwqfbzig\" target=\"_blank\">https://wandb.ai/matthias-herp/sweeps-nf-mctm-test/runs/cwqfbzig</a>"
     },
     "metadata": {},
     "output_type": "display_data"
    },
    {
     "name": "stderr",
     "output_type": "stream",
     "text": [
      " 66%|██████▌   | 131/200 [00:47<00:24,  2.79it/s]"
     ]
    },
    {
     "name": "stdout",
     "output_type": "stream",
     "text": [
      "Early Stop!\n"
     ]
    },
    {
     "name": "stderr",
     "output_type": "stream",
     "text": [
      "\n",
      "/opt/anaconda3/envs/mctm_pytorch_37/lib/python3.7/site-packages/torch/nn/functional.py:2917: UserWarning: reduction: 'mean' divides the total loss by both the batch size and the support size.'batchmean' divides only by the batch size, and aligns with the KL div math definition.'mean' will be changed to behave the same as 'batchmean' in the next major release.\n",
      "  \"reduction: 'mean' divides the total loss by both the batch size and the support size.\"\n"
     ]
    },
    {
     "data": {
      "text/plain": "<IPython.core.display.HTML object>",
      "text/html": "Waiting for W&B process to finish... <strong style=\"color:green\">(success).</strong>"
     },
     "metadata": {},
     "output_type": "display_data"
    },
    {
     "data": {
      "text/plain": "VBox(children=(Label(value='0.001 MB of 0.001 MB uploaded (0.000 MB deduped)\\r'), FloatProgress(value=1.0, max…",
      "application/vnd.jupyter.widget-view+json": {
       "version_major": 2,
       "version_minor": 0,
       "model_id": "0545533bffe640e584f53dbd037a2c12"
      }
     },
     "metadata": {},
     "output_type": "display_data"
    },
    {
     "data": {
      "text/plain": "<IPython.core.display.HTML object>",
      "text/html": "<style>\n    table.wandb td:nth-child(1) { padding: 0 10px; text-align: left ; width: auto;} td:nth-child(2) {text-align: left ; width: 100%}\n    .wandb-row { display: flex; flex-direction: row; flex-wrap: wrap; justify-content: flex-start; width: 100% }\n    .wandb-col { display: flex; flex-direction: column; flex-basis: 100%; flex: 1; padding: 10px; }\n    </style>\n<div class=\"wandb-row\"><div class=\"wandb-col\"><h3>Run history:</h3><br/><table class=\"wandb\"><tr><td>kl_divergence</td><td>▁</td></tr></table><br/></div><div class=\"wandb-col\"><h3>Run summary:</h3><br/><table class=\"wandb\"><tr><td>kl_divergence</td><td>0.01586</td></tr></table><br/></div></div>"
     },
     "metadata": {},
     "output_type": "display_data"
    },
    {
     "data": {
      "text/plain": "<IPython.core.display.HTML object>",
      "text/html": " View run <strong style=\"color:#cdcd00\">faithful-sweep-8</strong> at: <a href=\"https://wandb.ai/matthias-herp/sweeps-nf-mctm-test/runs/cwqfbzig\" target=\"_blank\">https://wandb.ai/matthias-herp/sweeps-nf-mctm-test/runs/cwqfbzig</a><br/>Synced 6 W&B file(s), 0 media file(s), 0 artifact file(s) and 0 other file(s)"
     },
     "metadata": {},
     "output_type": "display_data"
    },
    {
     "data": {
      "text/plain": "<IPython.core.display.HTML object>",
      "text/html": "Find logs at: <code>./wandb/run-20230123_165545-cwqfbzig/logs</code>"
     },
     "metadata": {},
     "output_type": "display_data"
    },
    {
     "name": "stderr",
     "output_type": "stream",
     "text": [
      "\u001B[34m\u001B[1mwandb\u001B[0m: Agent Starting Run: upddm8xu with config:\n",
      "\u001B[34m\u001B[1mwandb\u001B[0m: \tpenfirstridge: 5.658528937403709\n",
      "\u001B[34m\u001B[1mwandb\u001B[0m: \tpensecondridge: 2.887033564156974\n",
      "\u001B[34m\u001B[1mwandb\u001B[0m: \tpenvalueridge: 0.4236399320122208\n"
     ]
    },
    {
     "data": {
      "text/plain": "<IPython.core.display.HTML object>",
      "text/html": "Tracking run with wandb version 0.13.9"
     },
     "metadata": {},
     "output_type": "display_data"
    },
    {
     "data": {
      "text/plain": "<IPython.core.display.HTML object>",
      "text/html": "Run data is saved locally in <code>/Users/maherp/Desktop/Universitaet/Goettingen/5_Semester/master_thesis/mctm_pytorch/wandb/run-20230123_165649-upddm8xu</code>"
     },
     "metadata": {},
     "output_type": "display_data"
    },
    {
     "data": {
      "text/plain": "<IPython.core.display.HTML object>",
      "text/html": "Syncing run <strong><a href=\"https://wandb.ai/matthias-herp/sweeps-nf-mctm-test/runs/upddm8xu\" target=\"_blank\">spring-sweep-9</a></strong> to <a href=\"https://wandb.ai/matthias-herp/sweeps-nf-mctm-test\" target=\"_blank\">Weights & Biases</a> (<a href=\"https://wandb.me/run\" target=\"_blank\">docs</a>)<br/>Sweep page: <a href=\"https://wandb.ai/matthias-herp/sweeps-nf-mctm-test/sweeps/f0lkmk88\" target=\"_blank\">https://wandb.ai/matthias-herp/sweeps-nf-mctm-test/sweeps/f0lkmk88</a>"
     },
     "metadata": {},
     "output_type": "display_data"
    },
    {
     "data": {
      "text/plain": "<IPython.core.display.HTML object>",
      "text/html": " View project at <a href=\"https://wandb.ai/matthias-herp/sweeps-nf-mctm-test\" target=\"_blank\">https://wandb.ai/matthias-herp/sweeps-nf-mctm-test</a>"
     },
     "metadata": {},
     "output_type": "display_data"
    },
    {
     "data": {
      "text/plain": "<IPython.core.display.HTML object>",
      "text/html": " View sweep at <a href=\"https://wandb.ai/matthias-herp/sweeps-nf-mctm-test/sweeps/f0lkmk88\" target=\"_blank\">https://wandb.ai/matthias-herp/sweeps-nf-mctm-test/sweeps/f0lkmk88</a>"
     },
     "metadata": {},
     "output_type": "display_data"
    },
    {
     "data": {
      "text/plain": "<IPython.core.display.HTML object>",
      "text/html": " View run at <a href=\"https://wandb.ai/matthias-herp/sweeps-nf-mctm-test/runs/upddm8xu\" target=\"_blank\">https://wandb.ai/matthias-herp/sweeps-nf-mctm-test/runs/upddm8xu</a>"
     },
     "metadata": {},
     "output_type": "display_data"
    },
    {
     "name": "stderr",
     "output_type": "stream",
     "text": [
      " 96%|█████████▌| 192/200 [01:28<00:03,  2.18it/s]"
     ]
    },
    {
     "name": "stdout",
     "output_type": "stream",
     "text": [
      "Early Stop!\n"
     ]
    },
    {
     "name": "stderr",
     "output_type": "stream",
     "text": [
      "\n",
      "/opt/anaconda3/envs/mctm_pytorch_37/lib/python3.7/site-packages/torch/nn/functional.py:2917: UserWarning: reduction: 'mean' divides the total loss by both the batch size and the support size.'batchmean' divides only by the batch size, and aligns with the KL div math definition.'mean' will be changed to behave the same as 'batchmean' in the next major release.\n",
      "  \"reduction: 'mean' divides the total loss by both the batch size and the support size.\"\n"
     ]
    },
    {
     "data": {
      "text/plain": "<IPython.core.display.HTML object>",
      "text/html": "Waiting for W&B process to finish... <strong style=\"color:green\">(success).</strong>"
     },
     "metadata": {},
     "output_type": "display_data"
    },
    {
     "data": {
      "text/plain": "<IPython.core.display.HTML object>",
      "text/html": "<style>\n    table.wandb td:nth-child(1) { padding: 0 10px; text-align: left ; width: auto;} td:nth-child(2) {text-align: left ; width: 100%}\n    .wandb-row { display: flex; flex-direction: row; flex-wrap: wrap; justify-content: flex-start; width: 100% }\n    .wandb-col { display: flex; flex-direction: column; flex-basis: 100%; flex: 1; padding: 10px; }\n    </style>\n<div class=\"wandb-row\"><div class=\"wandb-col\"><h3>Run history:</h3><br/><table class=\"wandb\"><tr><td>kl_divergence</td><td>▁</td></tr></table><br/></div><div class=\"wandb-col\"><h3>Run summary:</h3><br/><table class=\"wandb\"><tr><td>kl_divergence</td><td>0.01601</td></tr></table><br/></div></div>"
     },
     "metadata": {},
     "output_type": "display_data"
    },
    {
     "data": {
      "text/plain": "<IPython.core.display.HTML object>",
      "text/html": " View run <strong style=\"color:#cdcd00\">spring-sweep-9</strong> at: <a href=\"https://wandb.ai/matthias-herp/sweeps-nf-mctm-test/runs/upddm8xu\" target=\"_blank\">https://wandb.ai/matthias-herp/sweeps-nf-mctm-test/runs/upddm8xu</a><br/>Synced 6 W&B file(s), 0 media file(s), 0 artifact file(s) and 0 other file(s)"
     },
     "metadata": {},
     "output_type": "display_data"
    },
    {
     "data": {
      "text/plain": "<IPython.core.display.HTML object>",
      "text/html": "Find logs at: <code>./wandb/run-20230123_165649-upddm8xu/logs</code>"
     },
     "metadata": {},
     "output_type": "display_data"
    },
    {
     "name": "stderr",
     "output_type": "stream",
     "text": [
      "\u001B[34m\u001B[1mwandb\u001B[0m: Agent Starting Run: 2erhhbhi with config:\n",
      "\u001B[34m\u001B[1mwandb\u001B[0m: \tpenfirstridge: 9.998761098005923\n",
      "\u001B[34m\u001B[1mwandb\u001B[0m: \tpensecondridge: 1.3479699551597946\n",
      "\u001B[34m\u001B[1mwandb\u001B[0m: \tpenvalueridge: 8.233071313416286\n"
     ]
    },
    {
     "data": {
      "text/plain": "<IPython.core.display.HTML object>",
      "text/html": "Tracking run with wandb version 0.13.9"
     },
     "metadata": {},
     "output_type": "display_data"
    },
    {
     "data": {
      "text/plain": "<IPython.core.display.HTML object>",
      "text/html": "Run data is saved locally in <code>/Users/maherp/Desktop/Universitaet/Goettingen/5_Semester/master_thesis/mctm_pytorch/wandb/run-20230123_165837-2erhhbhi</code>"
     },
     "metadata": {},
     "output_type": "display_data"
    },
    {
     "data": {
      "text/plain": "<IPython.core.display.HTML object>",
      "text/html": "Syncing run <strong><a href=\"https://wandb.ai/matthias-herp/sweeps-nf-mctm-test/runs/2erhhbhi\" target=\"_blank\">copper-sweep-10</a></strong> to <a href=\"https://wandb.ai/matthias-herp/sweeps-nf-mctm-test\" target=\"_blank\">Weights & Biases</a> (<a href=\"https://wandb.me/run\" target=\"_blank\">docs</a>)<br/>Sweep page: <a href=\"https://wandb.ai/matthias-herp/sweeps-nf-mctm-test/sweeps/f0lkmk88\" target=\"_blank\">https://wandb.ai/matthias-herp/sweeps-nf-mctm-test/sweeps/f0lkmk88</a>"
     },
     "metadata": {},
     "output_type": "display_data"
    },
    {
     "data": {
      "text/plain": "<IPython.core.display.HTML object>",
      "text/html": " View project at <a href=\"https://wandb.ai/matthias-herp/sweeps-nf-mctm-test\" target=\"_blank\">https://wandb.ai/matthias-herp/sweeps-nf-mctm-test</a>"
     },
     "metadata": {},
     "output_type": "display_data"
    },
    {
     "data": {
      "text/plain": "<IPython.core.display.HTML object>",
      "text/html": " View sweep at <a href=\"https://wandb.ai/matthias-herp/sweeps-nf-mctm-test/sweeps/f0lkmk88\" target=\"_blank\">https://wandb.ai/matthias-herp/sweeps-nf-mctm-test/sweeps/f0lkmk88</a>"
     },
     "metadata": {},
     "output_type": "display_data"
    },
    {
     "data": {
      "text/plain": "<IPython.core.display.HTML object>",
      "text/html": " View run at <a href=\"https://wandb.ai/matthias-herp/sweeps-nf-mctm-test/runs/2erhhbhi\" target=\"_blank\">https://wandb.ai/matthias-herp/sweeps-nf-mctm-test/runs/2erhhbhi</a>"
     },
     "metadata": {},
     "output_type": "display_data"
    },
    {
     "name": "stderr",
     "output_type": "stream",
     "text": [
      " 59%|█████▉    | 118/200 [00:50<00:34,  2.35it/s]"
     ]
    },
    {
     "name": "stdout",
     "output_type": "stream",
     "text": [
      "Early Stop!\n"
     ]
    },
    {
     "name": "stderr",
     "output_type": "stream",
     "text": [
      "\n",
      "/opt/anaconda3/envs/mctm_pytorch_37/lib/python3.7/site-packages/torch/nn/functional.py:2917: UserWarning: reduction: 'mean' divides the total loss by both the batch size and the support size.'batchmean' divides only by the batch size, and aligns with the KL div math definition.'mean' will be changed to behave the same as 'batchmean' in the next major release.\n",
      "  \"reduction: 'mean' divides the total loss by both the batch size and the support size.\"\n"
     ]
    },
    {
     "data": {
      "text/plain": "<IPython.core.display.HTML object>",
      "text/html": "Waiting for W&B process to finish... <strong style=\"color:green\">(success).</strong>"
     },
     "metadata": {},
     "output_type": "display_data"
    },
    {
     "data": {
      "text/plain": "<IPython.core.display.HTML object>",
      "text/html": "<style>\n    table.wandb td:nth-child(1) { padding: 0 10px; text-align: left ; width: auto;} td:nth-child(2) {text-align: left ; width: 100%}\n    .wandb-row { display: flex; flex-direction: row; flex-wrap: wrap; justify-content: flex-start; width: 100% }\n    .wandb-col { display: flex; flex-direction: column; flex-basis: 100%; flex: 1; padding: 10px; }\n    </style>\n<div class=\"wandb-row\"><div class=\"wandb-col\"><h3>Run history:</h3><br/><table class=\"wandb\"><tr><td>kl_divergence</td><td>▁</td></tr></table><br/></div><div class=\"wandb-col\"><h3>Run summary:</h3><br/><table class=\"wandb\"><tr><td>kl_divergence</td><td>0.01868</td></tr></table><br/></div></div>"
     },
     "metadata": {},
     "output_type": "display_data"
    },
    {
     "data": {
      "text/plain": "<IPython.core.display.HTML object>",
      "text/html": " View run <strong style=\"color:#cdcd00\">copper-sweep-10</strong> at: <a href=\"https://wandb.ai/matthias-herp/sweeps-nf-mctm-test/runs/2erhhbhi\" target=\"_blank\">https://wandb.ai/matthias-herp/sweeps-nf-mctm-test/runs/2erhhbhi</a><br/>Synced 6 W&B file(s), 0 media file(s), 0 artifact file(s) and 0 other file(s)"
     },
     "metadata": {},
     "output_type": "display_data"
    },
    {
     "data": {
      "text/plain": "<IPython.core.display.HTML object>",
      "text/html": "Find logs at: <code>./wandb/run-20230123_165837-2erhhbhi/logs</code>"
     },
     "metadata": {},
     "output_type": "display_data"
    },
    {
     "name": "stderr",
     "output_type": "stream",
     "text": [
      "\u001B[34m\u001B[1mwandb\u001B[0m: Agent Starting Run: flpyb8dh with config:\n",
      "\u001B[34m\u001B[1mwandb\u001B[0m: \tpenfirstridge: 5.173282820405745\n",
      "\u001B[34m\u001B[1mwandb\u001B[0m: \tpensecondridge: 8.04658212224308\n",
      "\u001B[34m\u001B[1mwandb\u001B[0m: \tpenvalueridge: 7.740164112413897\n"
     ]
    },
    {
     "data": {
      "text/plain": "<IPython.core.display.HTML object>",
      "text/html": "Tracking run with wandb version 0.13.9"
     },
     "metadata": {},
     "output_type": "display_data"
    },
    {
     "data": {
      "text/plain": "<IPython.core.display.HTML object>",
      "text/html": "Run data is saved locally in <code>/Users/maherp/Desktop/Universitaet/Goettingen/5_Semester/master_thesis/mctm_pytorch/wandb/run-20230123_165950-flpyb8dh</code>"
     },
     "metadata": {},
     "output_type": "display_data"
    },
    {
     "data": {
      "text/plain": "<IPython.core.display.HTML object>",
      "text/html": "Syncing run <strong><a href=\"https://wandb.ai/matthias-herp/sweeps-nf-mctm-test/runs/flpyb8dh\" target=\"_blank\">smooth-sweep-11</a></strong> to <a href=\"https://wandb.ai/matthias-herp/sweeps-nf-mctm-test\" target=\"_blank\">Weights & Biases</a> (<a href=\"https://wandb.me/run\" target=\"_blank\">docs</a>)<br/>Sweep page: <a href=\"https://wandb.ai/matthias-herp/sweeps-nf-mctm-test/sweeps/f0lkmk88\" target=\"_blank\">https://wandb.ai/matthias-herp/sweeps-nf-mctm-test/sweeps/f0lkmk88</a>"
     },
     "metadata": {},
     "output_type": "display_data"
    },
    {
     "data": {
      "text/plain": "<IPython.core.display.HTML object>",
      "text/html": " View project at <a href=\"https://wandb.ai/matthias-herp/sweeps-nf-mctm-test\" target=\"_blank\">https://wandb.ai/matthias-herp/sweeps-nf-mctm-test</a>"
     },
     "metadata": {},
     "output_type": "display_data"
    },
    {
     "data": {
      "text/plain": "<IPython.core.display.HTML object>",
      "text/html": " View sweep at <a href=\"https://wandb.ai/matthias-herp/sweeps-nf-mctm-test/sweeps/f0lkmk88\" target=\"_blank\">https://wandb.ai/matthias-herp/sweeps-nf-mctm-test/sweeps/f0lkmk88</a>"
     },
     "metadata": {},
     "output_type": "display_data"
    },
    {
     "data": {
      "text/plain": "<IPython.core.display.HTML object>",
      "text/html": " View run at <a href=\"https://wandb.ai/matthias-herp/sweeps-nf-mctm-test/runs/flpyb8dh\" target=\"_blank\">https://wandb.ai/matthias-herp/sweeps-nf-mctm-test/runs/flpyb8dh</a>"
     },
     "metadata": {},
     "output_type": "display_data"
    },
    {
     "name": "stderr",
     "output_type": "stream",
     "text": [
      " 57%|█████▊    | 115/200 [00:45<00:33,  2.54it/s]"
     ]
    },
    {
     "name": "stdout",
     "output_type": "stream",
     "text": [
      "Early Stop!\n"
     ]
    },
    {
     "name": "stderr",
     "output_type": "stream",
     "text": [
      "\n",
      "/opt/anaconda3/envs/mctm_pytorch_37/lib/python3.7/site-packages/torch/nn/functional.py:2917: UserWarning: reduction: 'mean' divides the total loss by both the batch size and the support size.'batchmean' divides only by the batch size, and aligns with the KL div math definition.'mean' will be changed to behave the same as 'batchmean' in the next major release.\n",
      "  \"reduction: 'mean' divides the total loss by both the batch size and the support size.\"\n"
     ]
    },
    {
     "data": {
      "text/plain": "<IPython.core.display.HTML object>",
      "text/html": "Waiting for W&B process to finish... <strong style=\"color:green\">(success).</strong>"
     },
     "metadata": {},
     "output_type": "display_data"
    },
    {
     "data": {
      "text/plain": "VBox(children=(Label(value='0.001 MB of 0.001 MB uploaded (0.000 MB deduped)\\r'), FloatProgress(value=1.0, max…",
      "application/vnd.jupyter.widget-view+json": {
       "version_major": 2,
       "version_minor": 0,
       "model_id": "6d3d6f981c884fb8add6e29eacea8a4e"
      }
     },
     "metadata": {},
     "output_type": "display_data"
    },
    {
     "data": {
      "text/plain": "<IPython.core.display.HTML object>",
      "text/html": "<style>\n    table.wandb td:nth-child(1) { padding: 0 10px; text-align: left ; width: auto;} td:nth-child(2) {text-align: left ; width: 100%}\n    .wandb-row { display: flex; flex-direction: row; flex-wrap: wrap; justify-content: flex-start; width: 100% }\n    .wandb-col { display: flex; flex-direction: column; flex-basis: 100%; flex: 1; padding: 10px; }\n    </style>\n<div class=\"wandb-row\"><div class=\"wandb-col\"><h3>Run history:</h3><br/><table class=\"wandb\"><tr><td>kl_divergence</td><td>▁</td></tr></table><br/></div><div class=\"wandb-col\"><h3>Run summary:</h3><br/><table class=\"wandb\"><tr><td>kl_divergence</td><td>0.01709</td></tr></table><br/></div></div>"
     },
     "metadata": {},
     "output_type": "display_data"
    },
    {
     "data": {
      "text/plain": "<IPython.core.display.HTML object>",
      "text/html": " View run <strong style=\"color:#cdcd00\">smooth-sweep-11</strong> at: <a href=\"https://wandb.ai/matthias-herp/sweeps-nf-mctm-test/runs/flpyb8dh\" target=\"_blank\">https://wandb.ai/matthias-herp/sweeps-nf-mctm-test/runs/flpyb8dh</a><br/>Synced 6 W&B file(s), 0 media file(s), 0 artifact file(s) and 0 other file(s)"
     },
     "metadata": {},
     "output_type": "display_data"
    },
    {
     "data": {
      "text/plain": "<IPython.core.display.HTML object>",
      "text/html": "Find logs at: <code>./wandb/run-20230123_165950-flpyb8dh/logs</code>"
     },
     "metadata": {},
     "output_type": "display_data"
    },
    {
     "data": {
      "text/plain": "<Figure size 640x480 with 1 Axes>",
      "image/png": "[encoded data removed]"
     },
     "metadata": {},
     "output_type": "display_data"
    }
   ],
   "source": [
    "wandb.agent(sweep_id, hyperparameter_tuning, count=5)"
   ],
   "metadata": {
    "collapsed": false,
    "pycharm": {
     "name": "#%%\n"
    }
   }
  }
 ],
 "metadata": {
  "kernelspec": {
   "display_name": "Python 3",
   "language": "python",
   "name": "python3"
  },
  "language_info": {
   "codemirror_mode": {
    "name": "ipython",
    "version": 2
   },
   "file_extension": ".py",
   "mimetype": "text/x-python",
   "name": "python",
   "nbconvert_exporter": "python",
   "pygments_lexer": "ipython2",
   "version": "2.7.6"
  }
 },
 "nbformat": 4,
 "nbformat_minor": 0
}