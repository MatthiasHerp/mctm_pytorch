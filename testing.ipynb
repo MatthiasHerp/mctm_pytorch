{
 "cells": [
  {
   "cell_type": "code",
   "execution_count": 134,
   "metadata": {
    "collapsed": true
   },
   "outputs": [],
   "source": [
    "import torch\n",
    "from torch import nn\n",
    "import numpy as np\n",
    "from matplotlib import pyplot as plt"
   ]
  },
  {
   "cell_type": "code",
   "execution_count": 107,
   "outputs": [],
   "source": [
    "# https://github.com/pytorch/pytorch/issues/47841\n",
    "# https://docs.scipy.org/doc/scipy/reference/generated/scipy.special.binom.html\n",
    "def torch_binom(n, v):\n",
    "    #mask = n.detach() >= v.detach()\n",
    "    #n = mask * n\n",
    "    #v = mask * v\n",
    "    a = torch.lgamma(n + 1) - torch.lgamma((n - v) + 1) - torch.lgamma(v + 1)\n",
    "    return torch.exp(a)# * mask"
   ],
   "metadata": {
    "collapsed": false,
    "pycharm": {
     "name": "#%%\n"
    }
   }
  },
  {
   "cell_type": "code",
   "execution_count": 108,
   "outputs": [],
   "source": [
    "# https://en.wikipedia.org/wiki/Bernstein_polynomial\n",
    "# https://docs.scipy.org/doc/scipy/reference/generated/scipy.interpolate.BPoly.html\n",
    "def b(v, n, x):\n",
    "    return torch_binom(n, v) * x**v * (1 - x)**(n - v)"
   ],
   "metadata": {
    "collapsed": false,
    "pycharm": {
     "name": "#%%\n"
    }
   }
  },
  {
   "cell_type": "code",
   "execution_count": 132,
   "outputs": [
    {
     "data": {
      "text/plain": "tensor([1.])"
     },
     "execution_count": 132,
     "metadata": {},
     "output_type": "execute_result"
    }
   ],
   "source": [
    "torch_binom(n=torch.tensor([5]), v=torch.tensor([2]))#10\n",
    "torch_binom(n=torch.tensor([10]), v=torch.tensor([2]))#45\n",
    "torch_binom(n=torch.tensor([1]), v=torch.tensor([1]))#1"
   ],
   "metadata": {
    "collapsed": false,
    "pycharm": {
     "name": "#%%\n"
    }
   }
  },
  {
   "cell_type": "code",
   "execution_count": 109,
   "outputs": [
    {
     "data": {
      "text/plain": "tensor([-729000.])"
     },
     "execution_count": 109,
     "metadata": {},
     "output_type": "execute_result"
    }
   ],
   "source": [
    "b(v = torch.tensor([2]),\n",
    "  n = torch.tensor([5]),\n",
    "  x = torch.tensor([10]))"
   ],
   "metadata": {
    "collapsed": false,
    "pycharm": {
     "name": "#%%\n"
    }
   }
  },
  {
   "cell_type": "code",
   "execution_count": 228,
   "outputs": [
    {
     "data": {
      "text/plain": "<Figure size 432x288 with 1 Axes>",
      "image/png": "[encoded data removed]"
     },
     "metadata": {
      "needs_background": "light"
     },
     "output_type": "display_data"
    }
   ],
   "source": [
    "x_space = torch.tensor(np.linspace(0, 1, 100))\n",
    "n=4\n",
    "\n",
    "fig, ax = plt.subplots()\n",
    "\n",
    "for v in range(n+1):\n",
    "    ax.plot(x_space, b(v = torch.tensor([v]),n = torch.tensor([n]), x = x_space), 'r-', lw=3, label=str(v))\n",
    "\n",
    "ax.grid(True)\n",
    "ax.legend(loc='best')\n",
    "plt.show()"
   ],
   "metadata": {
    "collapsed": false,
    "pycharm": {
     "name": "#%%\n"
    }
   }
  },
  {
   "cell_type": "code",
   "execution_count": 79,
   "outputs": [],
   "source": [
    "n = torch.tensor([5])\n",
    "x = torch.tensor([10])\n",
    "params = torch.tensor([1.5,1.5,1.5,1.5,1.5], requires_grad=True)\n",
    "true = torch.tensor([1])\n",
    "\n",
    "prediction = sum(params[v-1] * b(torch.tensor([v]), n, x) for v in range(n+1))\n",
    "\n",
    "loss = true - prediction"
   ],
   "metadata": {
    "collapsed": false,
    "pycharm": {
     "name": "#%%\n"
    }
   }
  },
  {
   "cell_type": "code",
   "execution_count": 317,
   "outputs": [],
   "source": [
    "def bernstein_prediction(params, input, degree):\n",
    "    n = degree\n",
    "    return sum(params[v-1] * b(torch.FloatTensor([v]), torch.FloatTensor([n]), input) for v in range(n+1))"
   ],
   "metadata": {
    "collapsed": false,
    "pycharm": {
     "name": "#%%\n"
    }
   }
  },
  {
   "cell_type": "code",
   "execution_count": 329,
   "outputs": [],
   "source": [
    "def bernstein_inverse(params, input, degree):\n",
    "    n = degree\n",
    "    k = 1\n",
    "    return 1 / torch_binom(torch.FloatTensor([n]), torch.FloatTensor([k])) * \\\n",
    "           sum(1 / params[j-1] * torch_binom(torch.FloatTensor([j]), torch.FloatTensor([k])) * b(torch.FloatTensor([j]), torch.FloatTensor([n]), input) for j in range(k,n+1))"
   ],
   "metadata": {
    "collapsed": false,
    "pycharm": {
     "name": "#%%\n"
    }
   }
  },
  {
   "cell_type": "code",
   "execution_count": 330,
   "outputs": [
    {
     "data": {
      "text/plain": "tensor([1.])"
     },
     "execution_count": 330,
     "metadata": {},
     "output_type": "execute_result"
    }
   ],
   "source": [
    "x = torch.FloatTensor([1])\n",
    "p = torch.ones(6,dtype=torch.float)\n",
    "d = 5\n",
    "\n",
    "z = bernstein_prediction(params=p, input=x, degree=d)\n",
    "x_2 = bernstein_inverse(params=p, input=z, degree=d)\n",
    "\n",
    "x_2"
   ],
   "metadata": {
    "collapsed": false,
    "pycharm": {
     "name": "#%%\n"
    }
   }
  },
  {
   "cell_type": "code",
   "execution_count": 331,
   "outputs": [],
   "source": [
    "x = torch.FloatTensor(np.linspace(0,1,100))\n",
    "p = torch.FloatTensor([1,2,3,4,5,6])\n",
    "d = 5\n",
    "\n",
    "z = bernstein_prediction(params=p, input=x, degree=d)\n",
    "x_2 = bernstein_inverse(params=p, input=z, degree=d)"
   ],
   "metadata": {
    "collapsed": false,
    "pycharm": {
     "name": "#%%\n"
    }
   }
  },
  {
   "cell_type": "code",
   "execution_count": null,
   "outputs": [],
   "source": [
    "x_2"
   ],
   "metadata": {
    "collapsed": false,
    "pycharm": {
     "name": "#%%\n"
    }
   }
  },
  {
   "cell_type": "code",
   "execution_count": 332,
   "outputs": [
    {
     "data": {
      "text/plain": "<Figure size 432x288 with 1 Axes>",
      "image/png": "[encoded data removed]"
     },
     "metadata": {
      "needs_background": "light"
     },
     "output_type": "display_data"
    }
   ],
   "source": [
    "fig, ax = plt.subplots()\n",
    "\n",
    "ax.plot(x, x, 'r-', lw=3, label=\"x\")\n",
    "ax.plot(x, x_2, 'r-', lw=3, label=\"x_2\")\n",
    "\n",
    "ax.grid(True)\n",
    "ax.legend(loc='best')\n",
    "plt.show()"
   ],
   "metadata": {
    "collapsed": false,
    "pycharm": {
     "name": "#%%\n"
    }
   }
  },
  {
   "cell_type": "code",
   "execution_count": null,
   "outputs": [],
   "source": [],
   "metadata": {
    "collapsed": false,
    "pycharm": {
     "name": "#%%\n"
    }
   }
  },
  {
   "cell_type": "code",
   "execution_count": 226,
   "outputs": [
    {
     "data": {
      "text/plain": "5"
     },
     "execution_count": 226,
     "metadata": {},
     "output_type": "execute_result"
    }
   ],
   "source": [
    "5 ** 1"
   ],
   "metadata": {
    "collapsed": false,
    "pycharm": {
     "name": "#%%\n"
    }
   }
  },
  {
   "cell_type": "code",
   "execution_count": 150,
   "outputs": [
    {
     "data": {
      "text/plain": "tensor([1.])"
     },
     "execution_count": 150,
     "metadata": {},
     "output_type": "execute_result"
    }
   ],
   "source": [
    "torch.FloatTensor([1])"
   ],
   "metadata": {
    "collapsed": false,
    "pycharm": {
     "name": "#%%\n"
    }
   }
  },
  {
   "cell_type": "code",
   "execution_count": 138,
   "outputs": [
    {
     "data": {
      "text/plain": "[5, 6, 7, 8, 9]"
     },
     "execution_count": 138,
     "metadata": {},
     "output_type": "execute_result"
    }
   ],
   "source": [
    "list(range(5,10))"
   ],
   "metadata": {
    "collapsed": false,
    "pycharm": {
     "name": "#%%\n"
    }
   }
  },
  {
   "cell_type": "code",
   "execution_count": 84,
   "outputs": [
    {
     "name": "stdout",
     "output_type": "stream",
     "text": [
      "tensor([-328050.,  729000., -810000.,  450000.,  -40951.])\n"
     ]
    }
   ],
   "source": [
    "loss.backward()\n",
    "print(params.grad)"
   ],
   "metadata": {
    "collapsed": false,
    "pycharm": {
     "name": "#%%\n"
    }
   }
  },
  {
   "cell_type": "code",
   "execution_count": 80,
   "outputs": [
    {
     "name": "stdout",
     "output_type": "stream",
     "text": [
      "None\n"
     ]
    }
   ],
   "source": [
    "print(loss.grad)"
   ],
   "metadata": {
    "collapsed": false,
    "pycharm": {
     "name": "#%%\n"
    }
   }
  },
  {
   "cell_type": "code",
   "execution_count": 136,
   "outputs": [
    {
     "data": {
      "text/plain": "array([0.1, 0.1, 0.1, 0.1, 0.1])"
     },
     "execution_count": 136,
     "metadata": {},
     "output_type": "execute_result"
    }
   ],
   "source": [
    "np.repeat(0.1,5)"
   ],
   "metadata": {
    "collapsed": false,
    "pycharm": {
     "name": "#%%\n"
    }
   }
  },
  {
   "cell_type": "code",
   "execution_count": null,
   "outputs": [],
   "source": [
    "class Transformation(nn.Module):\n",
    "    def __init__(self, degree):\n",
    "        super().__init__()\n",
    "        self.degree  = torch.FloatTensor(degree).normal_()\n",
    "        self.params = nn.Parameter(torch.FloatTensor(np.repeat(0.1,degree)))\n",
    "\n",
    "    def forward(self, input, log_d = 0, inverse = False):\n",
    "        if not inverse:\n",
    "            output = bernstein_prediction(self.params, input, self.degree)\n",
    "            log_d = torch.log(torch.abs(output))\n",
    "        else:\n",
    "            z     = (x - self.beta) / self.alpha\n",
    "            log_d = log_d + torch.log(torch.abs(self.alpha))\n",
    "        return z, log_d\n",
    "\n",
    "\n",
    "\n",
    "    def __repr__(self):\n",
    "        return \"Affine(alpha={alpha:.2f}, beta={beta:.2f})\".format(alpha = self.alpha[0], beta = self.beta[0])"
   ],
   "metadata": {
    "collapsed": false,
    "pycharm": {
     "name": "#%%\n"
    }
   }
  },
  {
   "cell_type": "code",
   "execution_count": null,
   "outputs": [],
   "source": [
    "class Decorrelation(nn.Module):\n",
    "    def __init__(self):\n",
    "        super().__init__()\n",
    "        self.alpha = nn.Parameter(torch.FloatTensor(1).normal_())\n",
    "        self.beta  = nn.Parameter(torch.FloatTensor(1).normal_())\n",
    "\n",
    "    def forward(self, x, log_d = 0, inverse = False):\n",
    "        if not inverse:\n",
    "            z     = self.alpha * x + self.beta\n",
    "            log_d = log_d + torch.log(torch.abs(self.alpha))\n",
    "        else:\n",
    "            z     = (x - self.beta) / self.alpha\n",
    "            log_d = log_d + torch.log(torch.abs(self.alpha))\n",
    "        return z, log_d\n",
    "\n",
    "    def __repr__(self):\n",
    "        return \"Affine(alpha={alpha:.2f}, beta={beta:.2f})\".format(alpha = self.alpha[0], beta = self.beta[0])"
   ],
   "metadata": {
    "collapsed": false,
    "pycharm": {
     "name": "#%%\n"
    }
   }
  }
 ],
 "metadata": {
  "kernelspec": {
   "display_name": "Python 3",
   "language": "python",
   "name": "python3"
  },
  "language_info": {
   "codemirror_mode": {
    "name": "ipython",
    "version": 2
   },
   "file_extension": ".py",
   "mimetype": "text/x-python",
   "name": "python",
   "nbconvert_exporter": "python",
   "pygments_lexer": "ipython2",
   "version": "2.7.6"
  }
 },
 "nbformat": 4,
 "nbformat_minor": 0
}