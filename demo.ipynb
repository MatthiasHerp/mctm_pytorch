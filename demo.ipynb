{
 "cells": [
  {
   "cell_type": "code",
   "execution_count": 7,
   "metadata": {
    "collapsed": true
   },
   "outputs": [
    {
     "ename": "ModuleNotFoundError",
     "evalue": "No module named 'torch'",
     "output_type": "error",
     "traceback": [
      "\u001B[0;31m---------------------------------------------------------------------------\u001B[0m",
      "\u001B[0;31mModuleNotFoundError\u001B[0m                       Traceback (most recent call last)",
      "\u001B[0;32m/var/folders/cz/5x11gwq96ks_cqwqdky646540000gn/T/ipykernel_13775/2547660668.py\u001B[0m in \u001B[0;36m<module>\u001B[0;34m\u001B[0m\n\u001B[0;32m----> 1\u001B[0;31m \u001B[0;32mimport\u001B[0m \u001B[0mtorch\u001B[0m\u001B[0;34m\u001B[0m\u001B[0;34m\u001B[0m\u001B[0m\n\u001B[0m\u001B[1;32m      2\u001B[0m \u001B[0;32mfrom\u001B[0m \u001B[0mtorch\u001B[0m \u001B[0;32mimport\u001B[0m \u001B[0mnn\u001B[0m\u001B[0;34m\u001B[0m\u001B[0;34m\u001B[0m\u001B[0m\n\u001B[1;32m      3\u001B[0m \u001B[0;32mimport\u001B[0m \u001B[0mnumpy\u001B[0m \u001B[0;32mas\u001B[0m \u001B[0mnp\u001B[0m\u001B[0;34m\u001B[0m\u001B[0;34m\u001B[0m\u001B[0m\n\u001B[1;32m      4\u001B[0m \u001B[0;32mfrom\u001B[0m \u001B[0mtorch\u001B[0m\u001B[0;34m.\u001B[0m\u001B[0mdistributions\u001B[0m \u001B[0;32mimport\u001B[0m \u001B[0mNormal\u001B[0m\u001B[0;34m,\u001B[0m \u001B[0mLaplace\u001B[0m\u001B[0;34m\u001B[0m\u001B[0;34m\u001B[0m\u001B[0m\n\u001B[1;32m      5\u001B[0m \u001B[0;32mimport\u001B[0m \u001B[0mmatplotlib\u001B[0m\u001B[0;34m.\u001B[0m\u001B[0mpyplot\u001B[0m \u001B[0;32mas\u001B[0m \u001B[0mplt\u001B[0m\u001B[0;34m\u001B[0m\u001B[0;34m\u001B[0m\u001B[0m\n",
      "\u001B[0;31mModuleNotFoundError\u001B[0m: No module named 'torch'"
     ]
    }
   ],
   "source": [
    "import torch\n",
    "from torch import nn\n",
    "import numpy as np\n",
    "from torch.distributions import Normal, Laplace\n",
    "import matplotlib.pyplot as plt\n",
    "from torch import optim\n",
    "from tqdm import tqdm\n",
    "import seaborn as sns"
   ]
  },
  {
   "cell_type": "code",
   "execution_count": 1,
   "metadata": {
    "pycharm": {
     "is_executing": true,
     "name": "#%%\n"
    }
   },
   "outputs": [],
   "source": [
    "from bernstein_transformation_layer import *\n",
    "from training_helpers import *"
   ]
  },
  {
   "cell_type": "code",
   "execution_count": 2,
   "metadata": {
    "pycharm": {
     "name": "#%%\n"
    }
   },
   "outputs": [
    {
     "data": {
      "image/png": "[encoded data removed]",
      "text/plain": [
       "<Figure size 432x288 with 1 Axes>"
      ]
     },
     "metadata": {
      "needs_background": "light"
     },
     "output_type": "display_data"
    }
   ],
   "source": [
    "y_distribution = Laplace(5, 3)\n",
    "y = y_distribution.sample((2000,2)) # Generate training data\n",
    "plt.hist(y[:,0].numpy(), bins=100)\n",
    "plt.hist(y[:,1].numpy(), bins=100)\n",
    "plt.show()"
   ]
  },
  {
   "cell_type": "code",
   "execution_count": 4,
   "metadata": {
    "pycharm": {
     "name": "#%%\n"
    }
   },
   "outputs": [],
   "source": [
    "polynomial_range = torch.FloatTensor([[-30, -30],\n",
    "                                          [40, 40]])\n",
    "mctm = Transformation(degree=10, number_variables=2, polynomial_range=polynomial_range)"
   ]
  },
  {
   "cell_type": "code",
   "execution_count": 5,
   "metadata": {
    "pycharm": {
     "name": "#%%\n"
    }
   },
   "outputs": [
    {
     "name": "stderr",
     "output_type": "stream",
     "text": [
      "  1%|          | 13/2000 [00:00<00:30, 64.46it/s]"
     ]
    },
    {
     "name": "stdout",
     "output_type": "stream",
     "text": [
      "105.03205108642578\n",
      "102.91436767578125\n",
      "100.83853912353516\n",
      "98.80442810058594\n",
      "96.81196594238281\n",
      "94.86087799072266\n",
      "92.95098876953125\n",
      "91.08195495605469\n",
      "89.25352478027344\n",
      "87.46528625488281\n",
      "85.71686553955078\n",
      "84.00779724121094\n",
      "82.33766174316406\n",
      "80.7059097290039\n",
      "79.11204528808594\n",
      "77.55548858642578\n",
      "76.03567504882812\n",
      "74.55197143554688\n"
     ]
    },
    {
     "name": "stderr",
     "output_type": "stream",
     "text": [
      "  1%|▏         | 29/2000 [00:00<00:26, 74.10it/s]"
     ]
    },
    {
     "name": "stdout",
     "output_type": "stream",
     "text": [
      "73.1037826538086\n",
      "71.69044494628906\n",
      "70.31132507324219\n",
      "68.96572875976562\n",
      "67.65299224853516\n",
      "66.3724136352539\n",
      "65.1233139038086\n",
      "63.90497589111328\n",
      "62.71668243408203\n",
      "61.55775833129883\n",
      "60.427494049072266\n",
      "59.3251838684082\n",
      "58.25013732910156\n",
      "57.20164489746094\n",
      "56.179039001464844\n",
      "55.1816520690918\n",
      "54.20879364013672\n"
     ]
    },
    {
     "name": "stderr",
     "output_type": "stream",
     "text": [
      "  2%|▏         | 47/2000 [00:00<00:24, 78.47it/s]"
     ]
    },
    {
     "name": "stdout",
     "output_type": "stream",
     "text": [
      "53.25981903076172\n",
      "52.33407974243164\n",
      "51.430938720703125\n",
      "50.549774169921875\n",
      "49.689971923828125\n",
      "48.85093307495117\n",
      "48.032073974609375\n",
      "47.23280715942383\n",
      "46.45259475708008\n",
      "45.690879821777344\n",
      "44.94712829589844\n",
      "44.220829010009766\n",
      "43.511478424072266\n",
      "42.818580627441406\n",
      "42.14166259765625\n",
      "41.48025894165039\n",
      "40.833927154541016\n"
     ]
    },
    {
     "name": "stderr",
     "output_type": "stream",
     "text": [
      "  3%|▎         | 63/2000 [00:00<00:24, 77.76it/s]"
     ]
    },
    {
     "name": "stdout",
     "output_type": "stream",
     "text": [
      "40.20222854614258\n",
      "39.5847282409668\n",
      "38.98103332519531\n",
      "38.39073181152344\n",
      "37.81344223022461\n",
      "37.24880599975586\n",
      "36.696434020996094\n",
      "36.156002044677734\n",
      "35.62715148925781\n",
      "35.10956573486328\n",
      "34.60292434692383\n",
      "34.106903076171875\n",
      "33.62123107910156\n",
      "33.14561080932617\n",
      "32.67974853515625\n",
      "32.2234001159668\n"
     ]
    },
    {
     "name": "stderr",
     "output_type": "stream",
     "text": [
      "  4%|▍         | 79/2000 [00:01<00:25, 76.19it/s]"
     ]
    },
    {
     "name": "stdout",
     "output_type": "stream",
     "text": [
      "31.776287078857422\n",
      "31.338157653808594\n",
      "30.908782958984375\n",
      "30.48790740966797\n",
      "30.0753116607666\n",
      "29.670774459838867\n",
      "29.27408218383789\n",
      "28.885025024414062\n",
      "28.50341033935547\n",
      "28.1290340423584\n",
      "27.7617130279541\n",
      "27.401268005371094\n",
      "27.047527313232422\n",
      "26.70030403137207\n",
      "26.359451293945312\n"
     ]
    },
    {
     "name": "stderr",
     "output_type": "stream",
     "text": [
      "  5%|▍         | 95/2000 [00:01<00:25, 75.75it/s]"
     ]
    },
    {
     "name": "stdout",
     "output_type": "stream",
     "text": [
      "26.024797439575195\n",
      "25.696195602416992\n",
      "25.373493194580078\n",
      "25.056543350219727\n",
      "24.745210647583008\n",
      "24.439350128173828\n",
      "24.138837814331055\n",
      "23.843542098999023\n",
      "23.553340911865234\n",
      "23.268110275268555\n",
      "22.98773956298828\n",
      "22.712108612060547\n",
      "22.44110870361328\n",
      "22.174633026123047\n",
      "21.912586212158203\n"
     ]
    },
    {
     "name": "stderr",
     "output_type": "stream",
     "text": [
      "  6%|▌         | 112/2000 [00:01<00:24, 76.09it/s]"
     ]
    },
    {
     "name": "stdout",
     "output_type": "stream",
     "text": [
      "21.65485954284668\n",
      "21.401355743408203\n",
      "21.1519832611084\n",
      "20.906648635864258\n",
      "20.665258407592773\n",
      "20.427736282348633\n",
      "20.19398307800293\n",
      "19.963930130004883\n",
      "19.73749351501465\n",
      "19.514589309692383\n",
      "19.29515266418457\n",
      "19.079099655151367\n",
      "18.866365432739258\n",
      "18.656883239746094\n",
      "18.450576782226562\n",
      "18.24738883972168\n"
     ]
    },
    {
     "name": "stderr",
     "output_type": "stream",
     "text": [
      "  6%|▋         | 129/2000 [00:01<00:23, 79.04it/s]"
     ]
    },
    {
     "name": "stdout",
     "output_type": "stream",
     "text": [
      "18.04724884033203\n",
      "17.850095748901367\n",
      "17.655872344970703\n",
      "17.464513778686523\n",
      "17.27597427368164\n",
      "17.090187072753906\n",
      "16.90709686279297\n",
      "16.72665786743164\n",
      "16.548809051513672\n",
      "16.37350845336914\n",
      "16.200698852539062\n",
      "16.03034210205078\n",
      "15.862381935119629\n",
      "15.696778297424316\n",
      "15.53348445892334\n",
      "15.372454643249512\n",
      "15.21364974975586\n"
     ]
    },
    {
     "name": "stderr",
     "output_type": "stream",
     "text": [
      "  7%|▋         | 147/2000 [00:01<00:22, 82.44it/s]"
     ]
    },
    {
     "name": "stdout",
     "output_type": "stream",
     "text": [
      "15.057025909423828\n",
      "14.902548789978027\n",
      "14.750168800354004\n",
      "14.59985637664795\n",
      "14.451568603515625\n",
      "14.305269241333008\n",
      "14.160924911499023\n",
      "14.018497467041016\n",
      "13.877954483032227\n",
      "13.739262580871582\n",
      "13.602385520935059\n",
      "13.467301368713379\n",
      "13.333964347839355\n",
      "13.202352523803711\n",
      "13.072439193725586\n",
      "12.944184303283691\n",
      "12.817569732666016\n",
      "12.692562103271484\n"
     ]
    },
    {
     "name": "stderr",
     "output_type": "stream",
     "text": [
      "  8%|▊         | 165/2000 [00:02<00:22, 81.41it/s]"
     ]
    },
    {
     "name": "stdout",
     "output_type": "stream",
     "text": [
      "12.569136619567871\n",
      "12.447264671325684\n",
      "12.326918601989746\n",
      "12.208076477050781\n",
      "12.09071159362793\n",
      "11.974801063537598\n",
      "11.860318183898926\n",
      "11.747239112854004\n",
      "11.635544776916504\n",
      "11.525206565856934\n",
      "11.416210174560547\n",
      "11.308526992797852\n",
      "11.202139854431152\n",
      "11.097025871276855\n",
      "10.99316692352295\n",
      "10.89054012298584\n",
      "10.789129257202148\n"
     ]
    },
    {
     "name": "stderr",
     "output_type": "stream",
     "text": [
      "  9%|▉         | 183/2000 [00:02<00:21, 82.93it/s]"
     ]
    },
    {
     "name": "stdout",
     "output_type": "stream",
     "text": [
      "10.688913345336914\n",
      "10.589873313903809\n",
      "10.49199390411377\n",
      "10.39525318145752\n",
      "10.299633979797363\n",
      "10.205121040344238\n",
      "10.111698150634766\n",
      "10.019346237182617\n",
      "9.928049087524414\n",
      "9.837791442871094\n",
      "9.74855899810791\n",
      "9.660333633422852\n",
      "9.573101997375488\n",
      "9.486851692199707\n",
      "9.401561737060547\n",
      "9.317225456237793\n",
      "9.2338228225708\n"
     ]
    },
    {
     "name": "stderr",
     "output_type": "stream",
     "text": [
      "\r",
      " 10%|▉         | 192/2000 [00:02<00:21, 82.25it/s]"
     ]
    },
    {
     "name": "stdout",
     "output_type": "stream",
     "text": [
      "9.151344299316406\n",
      "9.06977367401123\n",
      "8.98909854888916\n",
      "8.909303665161133\n",
      "8.830381393432617\n",
      "8.75231647491455\n",
      "8.67509937286377\n",
      "8.598711013793945\n",
      "8.523146629333496\n",
      "8.448391914367676\n",
      "8.374435424804688\n",
      "8.301263809204102\n",
      "8.228872299194336\n",
      "8.157243728637695\n",
      "8.086370468139648\n",
      "8.016242027282715\n",
      "7.946847438812256\n"
     ]
    },
    {
     "name": "stderr",
     "output_type": "stream",
     "text": [
      " 10%|█         | 210/2000 [00:02<00:21, 83.04it/s]"
     ]
    },
    {
     "name": "stdout",
     "output_type": "stream",
     "text": [
      "7.878177165985107\n",
      "7.810220718383789\n",
      "7.7429680824279785\n",
      "7.676410675048828\n",
      "7.610538959503174\n",
      "7.545343399047852\n",
      "7.480815887451172\n",
      "7.41694450378418\n",
      "7.353725433349609\n",
      "7.291145324707031\n",
      "7.229198932647705\n",
      "7.167875289916992\n",
      "7.107169151306152\n",
      "7.047069549560547\n",
      "6.9875712394714355\n",
      "6.928663730621338\n",
      "6.870342254638672\n",
      "6.812594890594482\n"
     ]
    },
    {
     "name": "stderr",
     "output_type": "stream",
     "text": [
      " 11%|█▏        | 228/2000 [00:02<00:20, 85.63it/s]"
     ]
    },
    {
     "name": "stdout",
     "output_type": "stream",
     "text": [
      "6.7554192543029785\n",
      "6.698805332183838\n",
      "6.642746925354004\n",
      "6.587235927581787\n",
      "6.532266616821289\n",
      "6.477829933166504\n",
      "6.423922061920166\n",
      "6.3705339431762695\n",
      "6.317661285400391\n",
      "6.265294551849365\n",
      "6.213430881500244\n",
      "6.1620635986328125\n",
      "6.111184597015381\n",
      "6.060788631439209\n",
      "6.010869979858398\n",
      "5.961421966552734\n",
      "5.912441730499268\n",
      "5.863919734954834\n"
     ]
    },
    {
     "name": "stderr",
     "output_type": "stream",
     "text": [
      " 12%|█▏        | 246/2000 [00:03<00:20, 84.47it/s]"
     ]
    },
    {
     "name": "stdout",
     "output_type": "stream",
     "text": [
      "5.815852642059326\n",
      "5.768234729766846\n",
      "5.721060752868652\n",
      "5.6743245124816895\n",
      "5.628019332885742\n",
      "5.582144737243652\n",
      "5.536693096160889\n",
      "5.491658687591553\n",
      "5.447036266326904\n",
      "5.402822017669678\n",
      "5.359010219573975\n",
      "5.315598964691162\n",
      "5.272579669952393\n",
      "5.229950428009033\n",
      "5.187704563140869\n",
      "5.145840167999268\n",
      "5.104351997375488\n"
     ]
    },
    {
     "name": "stderr",
     "output_type": "stream",
     "text": [
      " 13%|█▎        | 264/2000 [00:03<00:20, 82.83it/s]"
     ]
    },
    {
     "name": "stdout",
     "output_type": "stream",
     "text": [
      "5.063233852386475\n",
      "5.022483825683594\n",
      "4.98209810256958\n",
      "4.9420695304870605\n",
      "4.9023966789245605\n",
      "4.863073348999023\n",
      "4.824098110198975\n",
      "4.78546667098999\n",
      "4.747171878814697\n",
      "4.709213733673096\n",
      "4.6715874671936035\n",
      "4.634288311004639\n",
      "4.59731388092041\n",
      "4.560660362243652\n",
      "4.524323463439941\n",
      "4.488300800323486\n",
      "4.452586650848389\n"
     ]
    },
    {
     "name": "stderr",
     "output_type": "stream",
     "text": [
      " 14%|█▍        | 282/2000 [00:03<00:20, 82.90it/s]"
     ]
    },
    {
     "name": "stdout",
     "output_type": "stream",
     "text": [
      "4.417181015014648\n",
      "4.382078170776367\n",
      "4.347275733947754\n",
      "4.312769412994385\n",
      "4.278556823730469\n",
      "4.244636058807373\n",
      "4.211001396179199\n",
      "4.177650451660156\n",
      "4.144581317901611\n",
      "4.111791133880615\n",
      "4.079275608062744\n",
      "4.047032356262207\n",
      "4.015058517456055\n",
      "3.983350992202759\n",
      "3.9519073963165283\n",
      "3.920724630355835\n",
      "3.889800786972046\n"
     ]
    },
    {
     "name": "stderr",
     "output_type": "stream",
     "text": [
      " 15%|█▌        | 300/2000 [00:03<00:21, 79.53it/s]"
     ]
    },
    {
     "name": "stdout",
     "output_type": "stream",
     "text": [
      "3.859131097793579\n",
      "3.8287153244018555\n",
      "3.7985501289367676\n",
      "3.768632173538208\n",
      "3.7389588356018066\n",
      "3.709528923034668\n",
      "3.6803390979766846\n",
      "3.6513864994049072\n",
      "3.6226694583892822\n",
      "3.594184637069702\n",
      "3.565929651260376\n",
      "3.5379035472869873\n",
      "3.5101027488708496\n",
      "3.4825263023376465\n",
      "3.455169916152954\n"
     ]
    },
    {
     "name": "stderr",
     "output_type": "stream",
     "text": [
      "\r",
      " 15%|█▌        | 308/2000 [00:03<00:23, 72.04it/s]"
     ]
    },
    {
     "name": "stdout",
     "output_type": "stream",
     "text": [
      "3.428032875061035\n",
      "3.401113271713257\n",
      "3.3744075298309326\n",
      "3.347914457321167\n",
      "3.321631908416748\n",
      "3.2955574989318848\n",
      "3.269688129425049\n",
      "3.2440245151519775\n",
      "3.218561887741089\n",
      "3.193300485610962\n",
      "3.168236255645752\n",
      "3.1433684825897217\n"
     ]
    },
    {
     "name": "stderr",
     "output_type": "stream",
     "text": [
      " 16%|█▌        | 323/2000 [00:04<00:25, 64.64it/s]"
     ]
    },
    {
     "name": "stdout",
     "output_type": "stream",
     "text": [
      "3.118695020675659\n",
      "3.09421443939209\n",
      "3.0699243545532227\n",
      "3.0458219051361084\n",
      "3.021907329559326\n",
      "2.9981772899627686\n",
      "2.9746313095092773\n",
      "2.951266050338745\n",
      "2.9280805587768555\n",
      "2.905073404312134\n",
      "2.8822431564331055\n",
      "2.859586238861084\n",
      "2.8371026515960693\n",
      "2.814790964126587\n"
     ]
    },
    {
     "name": "stderr",
     "output_type": "stream",
     "text": [
      " 17%|█▋        | 340/2000 [00:04<00:22, 73.22it/s]"
     ]
    },
    {
     "name": "stdout",
     "output_type": "stream",
     "text": [
      "2.7926485538482666\n",
      "2.770674467086792\n",
      "2.7488677501678467\n",
      "2.727224588394165\n",
      "2.7057454586029053\n",
      "2.6844279766082764\n",
      "2.663271188735962\n",
      "2.642272472381592\n",
      "2.621432065963745\n",
      "2.6007473468780518\n",
      "2.580216884613037\n",
      "2.559839963912964\n",
      "2.5396149158477783\n",
      "2.5195388793945312\n",
      "2.499613046646118\n",
      "2.47983455657959\n",
      "2.4602017402648926\n",
      "2.440714120864868\n"
     ]
    },
    {
     "name": "stderr",
     "output_type": "stream",
     "text": [
      " 18%|█▊        | 357/2000 [00:04<00:21, 75.92it/s]"
     ]
    },
    {
     "name": "stdout",
     "output_type": "stream",
     "text": [
      "2.4213690757751465\n",
      "2.4021670818328857\n",
      "2.383106231689453\n",
      "2.364184617996216\n",
      "2.3454012870788574\n",
      "2.3267557621002197\n",
      "2.308245897293091\n",
      "2.289870500564575\n",
      "2.2716286182403564\n",
      "2.25351881980896\n",
      "2.2355403900146484\n",
      "2.217691421508789\n",
      "2.19997239112854\n"
     ]
    },
    {
     "name": "stderr",
     "output_type": "stream",
     "text": [
      " 19%|█▊        | 372/2000 [00:04<00:26, 61.93it/s]"
     ]
    },
    {
     "name": "stdout",
     "output_type": "stream",
     "text": [
      "2.182379722595215\n",
      "2.164914131164551\n",
      "2.1475741863250732\n",
      "2.1303586959838867\n",
      "2.1132657527923584\n",
      "2.0962953567504883\n",
      "2.0794453620910645\n",
      "2.062716245651245\n",
      "2.04610538482666\n",
      "2.0296127796173096\n",
      "2.0132369995117188\n",
      "1.996977686882019\n",
      "1.9808320999145508\n"
     ]
    },
    {
     "name": "stderr",
     "output_type": "stream",
     "text": [
      "\r",
      " 19%|█▉        | 379/2000 [00:05<00:27, 60.01it/s]"
     ]
    },
    {
     "name": "stdout",
     "output_type": "stream",
     "text": [
      "1.96480131149292\n",
      "1.948883295059204\n",
      "1.9330769777297974\n",
      "1.9173814058303833\n",
      "1.9017964601516724\n",
      "1.8863201141357422\n",
      "1.870951771736145\n",
      "1.855690598487854\n",
      "1.8405358791351318\n",
      "1.8254872560501099\n",
      "1.810542106628418\n",
      "1.795701265335083\n"
     ]
    },
    {
     "name": "stderr",
     "output_type": "stream",
     "text": [
      " 20%|█▉        | 393/2000 [00:05<00:26, 59.86it/s]"
     ]
    },
    {
     "name": "stdout",
     "output_type": "stream",
     "text": [
      "1.7809630632400513\n",
      "1.766326665878296\n",
      "1.7517911195755005\n",
      "1.7373555898666382\n",
      "1.7230198383331299\n",
      "1.708782434463501\n",
      "1.6946426630020142\n",
      "1.6806001663208008\n",
      "1.6666533946990967\n",
      "1.652801513671875\n",
      "1.6390444040298462\n",
      "1.6253809928894043\n",
      "1.6118102073669434\n",
      "1.598332166671753\n"
     ]
    },
    {
     "name": "stderr",
     "output_type": "stream",
     "text": [
      " 20%|██        | 410/2000 [00:05<00:23, 69.07it/s]"
     ]
    },
    {
     "name": "stdout",
     "output_type": "stream",
     "text": [
      "1.5849449634552002\n",
      "1.5716487169265747\n",
      "1.5584423542022705\n",
      "1.5453250408172607\n",
      "1.5322961807250977\n",
      "1.5193549394607544\n",
      "1.5065008401870728\n",
      "1.4937330484390259\n",
      "1.4810504913330078\n",
      "1.468453288078308\n",
      "1.4559401273727417\n",
      "1.4435102939605713\n",
      "1.4311633110046387\n",
      "1.4188988208770752\n",
      "1.4067151546478271\n",
      "1.3946131467819214\n",
      "1.3825912475585938\n"
     ]
    },
    {
     "name": "stderr",
     "output_type": "stream",
     "text": [
      " 21%|██▏       | 428/2000 [00:05<00:20, 77.34it/s]"
     ]
    },
    {
     "name": "stdout",
     "output_type": "stream",
     "text": [
      "1.3706483840942383\n",
      "1.3587846755981445\n",
      "1.3469994068145752\n",
      "1.335291862487793\n",
      "1.323661208152771\n",
      "1.312106728553772\n",
      "1.3006285429000854\n",
      "1.2892255783081055\n",
      "1.2778972387313843\n",
      "1.266642689704895\n",
      "1.2554619312286377\n",
      "1.2443537712097168\n",
      "1.2333183288574219\n",
      "1.2223540544509888\n",
      "1.2114614248275757\n",
      "1.2006393671035767\n",
      "1.1898874044418335\n"
     ]
    },
    {
     "name": "stderr",
     "output_type": "stream",
     "text": [
      " 22%|██▏       | 444/2000 [00:05<00:22, 68.71it/s]"
     ]
    },
    {
     "name": "stdout",
     "output_type": "stream",
     "text": [
      "1.1792049407958984\n",
      "1.1685913801193237\n",
      "1.1580466032028198\n",
      "1.1475695371627808\n",
      "1.1371597051620483\n",
      "1.126817226409912\n",
      "1.116540551185608\n",
      "1.1063299179077148\n",
      "1.0961843729019165\n",
      "1.0861040353775024\n",
      "1.0760881900787354\n",
      "1.066136121749878\n"
     ]
    },
    {
     "name": "stderr",
     "output_type": "stream",
     "text": [
      "\r",
      " 23%|██▎       | 452/2000 [00:06<00:23, 64.81it/s]"
     ]
    },
    {
     "name": "stdout",
     "output_type": "stream",
     "text": [
      "1.0562474727630615\n",
      "1.0464210510253906\n",
      "1.0366580486297607\n",
      "1.02695631980896\n",
      "1.0173161029815674\n",
      "1.007737159729004\n",
      "0.9982184171676636\n",
      "0.9887601137161255\n",
      "0.9793609380722046\n",
      "0.9700210094451904\n",
      "0.9607401490211487\n",
      "0.9515171647071838\n",
      "0.9423521757125854\n",
      "0.933244526386261\n"
     ]
    },
    {
     "name": "stderr",
     "output_type": "stream",
     "text": [
      " 23%|██▎       | 468/2000 [00:06<00:21, 70.17it/s]"
     ]
    },
    {
     "name": "stdout",
     "output_type": "stream",
     "text": [
      "0.9241939783096313\n",
      "0.915199875831604\n",
      "0.9062618017196655\n",
      "0.8973796963691711\n",
      "0.8885526657104492\n",
      "0.8797805309295654\n",
      "0.8710629343986511\n",
      "0.862399160861969\n",
      "0.8537893295288086\n",
      "0.8452326655387878\n",
      "0.8367288112640381\n",
      "0.828277587890625\n",
      "0.8198781609535217\n",
      "0.8115306496620178\n",
      "0.803234338760376\n",
      "0.7949888110160828\n",
      "0.7867942452430725\n"
     ]
    },
    {
     "name": "stderr",
     "output_type": "stream",
     "text": [
      " 24%|██▍       | 486/2000 [00:06<00:19, 76.82it/s]"
     ]
    },
    {
     "name": "stdout",
     "output_type": "stream",
     "text": [
      "0.778649628162384\n",
      "0.7705549001693726\n",
      "0.762509286403656\n",
      "0.7545132637023926\n",
      "0.7465659379959106\n",
      "0.7386669516563416\n",
      "0.7308159470558167\n",
      "0.7230126261711121\n",
      "0.7152565121650696\n",
      "0.7075477242469788\n",
      "0.699885368347168\n",
      "0.6922691464424133\n",
      "0.6846989989280701\n",
      "0.6771745681762695\n",
      "0.6696953177452087\n",
      "0.6622614860534668\n"
     ]
    },
    {
     "name": "stderr",
     "output_type": "stream",
     "text": [
      " 25%|██▌       | 502/2000 [00:06<00:19, 75.45it/s]"
     ]
    },
    {
     "name": "stdout",
     "output_type": "stream",
     "text": [
      "0.6548720002174377\n",
      "0.6475269198417664\n",
      "0.6402258276939392\n",
      "0.632968544960022\n",
      "0.6257544755935669\n",
      "0.6185834407806396\n",
      "0.6114556193351746\n",
      "0.6043697595596313\n",
      "0.5973264575004578\n",
      "0.590324878692627\n",
      "0.5847549438476562\n",
      "0.5792139768600464\n",
      "0.573700487613678\n",
      "0.5682146549224854\n",
      "0.5627565383911133\n",
      "0.5573253035545349\n"
     ]
    },
    {
     "name": "stderr",
     "output_type": "stream",
     "text": [
      " 26%|██▌       | 519/2000 [00:06<00:19, 77.44it/s]"
     ]
    },
    {
     "name": "stdout",
     "output_type": "stream",
     "text": [
      "0.5519200563430786\n",
      "0.5465412139892578\n",
      "0.5411878228187561\n",
      "0.5358598828315735\n",
      "0.5305571556091309\n",
      "0.5252794623374939\n",
      "0.5200259685516357\n",
      "0.5147969126701355\n",
      "0.5095920562744141\n",
      "0.504410982131958\n",
      "0.49925360083580017\n",
      "0.49411964416503906\n",
      "0.4890091121196747\n",
      "0.4839216470718384\n",
      "0.4788571000099182\n",
      "0.4738154411315918\n",
      "0.46879610419273376\n"
     ]
    },
    {
     "name": "stderr",
     "output_type": "stream",
     "text": [
      " 27%|██▋       | 536/2000 [00:07<00:18, 80.19it/s]"
     ]
    },
    {
     "name": "stdout",
     "output_type": "stream",
     "text": [
      "0.463799387216568\n",
      "0.45882490277290344\n",
      "0.45387277007102966\n",
      "0.44894254207611084\n",
      "0.4440341293811798\n",
      "0.43914732336997986\n",
      "0.4342822730541229\n",
      "0.4294385612010956\n",
      "0.4246163070201874\n",
      "0.41981539130210876\n",
      "0.4150356352329254\n",
      "0.4102768898010254\n",
      "0.4055391550064087\n",
      "0.40082189440727234\n",
      "0.39612531661987305\n",
      "0.39144960045814514\n",
      "0.3867940902709961\n"
     ]
    },
    {
     "name": "stderr",
     "output_type": "stream",
     "text": [
      " 28%|██▊       | 554/2000 [00:07<00:17, 81.83it/s]"
     ]
    },
    {
     "name": "stdout",
     "output_type": "stream",
     "text": [
      "0.382159024477005\n",
      "0.3775444030761719\n",
      "0.3729495406150818\n",
      "0.36837494373321533\n",
      "0.36381998658180237\n",
      "0.3592852056026459\n",
      "0.3547700345516205\n",
      "0.3502742052078247\n",
      "0.3457982838153839\n",
      "0.34134164452552795\n",
      "0.3369044363498688\n",
      "0.3324863016605377\n",
      "0.3280872404575348\n",
      "0.3237072229385376\n",
      "0.3193463087081909\n",
      "0.31500428915023804\n",
      "0.31068065762519836\n"
     ]
    },
    {
     "name": "stderr",
     "output_type": "stream",
     "text": [
      "\r",
      " 28%|██▊       | 563/2000 [00:07<00:18, 76.61it/s]"
     ]
    },
    {
     "name": "stdout",
     "output_type": "stream",
     "text": [
      "0.3063760995864868\n",
      "0.30208995938301086\n",
      "0.29782214760780334\n",
      "0.29357272386550903\n",
      "0.2893417179584503\n",
      "0.28512871265411377\n",
      "0.2809339463710785\n",
      "0.27675729990005493\n",
      "0.272598534822464\n",
      "0.2684575617313385\n",
      "0.26433423161506653\n"
     ]
    },
    {
     "name": "stderr",
     "output_type": "stream",
     "text": [
      " 29%|██▉       | 578/2000 [00:07<00:21, 65.97it/s]"
     ]
    },
    {
     "name": "stdout",
     "output_type": "stream",
     "text": [
      "0.26022881269454956\n",
      "0.25614070892333984\n",
      "0.2520703971385956\n",
      "0.2480173259973526\n",
      "0.24398161470890045\n",
      "0.23996303975582123\n",
      "0.2359616905450821\n",
      "0.23197734355926514\n",
      "0.2280101776123047\n",
      "0.22405970096588135\n",
      "0.22012633085250854\n",
      "0.2162095010280609\n",
      "0.21230927109718323\n",
      "0.20842567086219788\n",
      "0.2045585662126541\n"
     ]
    },
    {
     "name": "stderr",
     "output_type": "stream",
     "text": [
      " 30%|██▉       | 595/2000 [00:07<00:20, 70.01it/s]"
     ]
    },
    {
     "name": "stdout",
     "output_type": "stream",
     "text": [
      "0.20070798695087433\n",
      "0.19687366485595703\n",
      "0.19305558502674103\n",
      "0.18925370275974274\n",
      "0.1854679137468338\n",
      "0.18169789016246796\n",
      "0.1779441386461258\n",
      "0.17420606315135956\n",
      "0.1704838126897812\n",
      "0.16677729785442352\n",
      "0.1630864292383194\n",
      "0.1594110131263733\n",
      "0.1557510942220688\n",
      "0.1521066278219223\n"
     ]
    },
    {
     "name": "stderr",
     "output_type": "stream",
     "text": [
      " 30%|███       | 610/2000 [00:08<00:20, 67.42it/s]"
     ]
    },
    {
     "name": "stdout",
     "output_type": "stream",
     "text": [
      "0.14847739040851593\n",
      "0.1448635309934616\n",
      "0.141264870762825\n",
      "0.13768123090267181\n",
      "0.13411250710487366\n",
      "0.13055887818336487\n",
      "0.12702010571956635\n",
      "0.12349618226289749\n",
      "0.11998695880174637\n",
      "0.11649225652217865\n",
      "0.11301227658987045\n",
      "0.10954683274030685\n",
      "0.1060958281159401\n"
     ]
    },
    {
     "name": "stderr",
     "output_type": "stream",
     "text": [
      " 31%|███▏      | 626/2000 [00:08<00:19, 71.46it/s]"
     ]
    },
    {
     "name": "stdout",
     "output_type": "stream",
     "text": [
      "0.10265924036502838\n",
      "0.09923684597015381\n",
      "0.09582869708538055\n",
      "0.09243463724851608\n",
      "0.08905483037233353\n",
      "0.08568903803825378\n",
      "0.08233709633350372\n",
      "0.07899913936853409\n",
      "0.07567489147186279\n",
      "0.07236460596323013\n",
      "0.06906786561012268\n",
      "0.06578478962182999\n",
      "0.06251521408557892\n",
      "0.05925920978188515\n",
      "0.056016650050878525\n",
      "0.05278727039694786\n",
      "0.04957108572125435\n"
     ]
    },
    {
     "name": "stderr",
     "output_type": "stream",
     "text": [
      " 32%|███▏      | 644/2000 [00:08<00:17, 77.18it/s]"
     ]
    },
    {
     "name": "stdout",
     "output_type": "stream",
     "text": [
      "0.04636843129992485\n",
      "0.04317883402109146\n",
      "0.0400022454559803\n",
      "0.03683878108859062\n",
      "0.03368816152215004\n",
      "0.03055069036781788\n",
      "0.02742576040327549\n",
      "0.024313852190971375\n",
      "0.021214459091424942\n",
      "0.0181278008967638\n",
      "0.015053885988891125\n",
      "0.011992368847131729\n",
      "0.008943349123001099\n",
      "0.0059067062102258205\n",
      "0.0028823965694755316\n",
      "-0.0001294393587158993\n",
      "-0.0031292790081351995\n"
     ]
    },
    {
     "name": "stderr",
     "output_type": "stream",
     "text": [
      "\r",
      " 33%|███▎      | 652/2000 [00:08<00:19, 70.46it/s]"
     ]
    },
    {
     "name": "stdout",
     "output_type": "stream",
     "text": [
      "-0.006116811186075211\n",
      "-0.00909226294606924\n",
      "-0.01205572858452797\n",
      "-0.015007243491709232\n",
      "-0.017946898937225342\n",
      "-0.020874489098787308\n",
      "-0.02379029430449009\n",
      "-0.02669433131814003\n",
      "-0.02958674728870392\n",
      "-0.0324675515294075\n",
      "-0.035336680710315704\n"
     ]
    },
    {
     "name": "stderr",
     "output_type": "stream",
     "text": [
      " 33%|███▎      | 667/2000 [00:09<00:22, 58.78it/s]"
     ]
    },
    {
     "name": "stdout",
     "output_type": "stream",
     "text": [
      "-0.038194283843040466\n",
      "-0.04104044288396835\n",
      "-0.043875228613615036\n",
      "-0.046698566526174545\n",
      "-0.04951067641377449\n",
      "-0.05231156572699547\n",
      "-0.05510116368532181\n",
      "-0.05787983164191246\n",
      "-0.06064721569418907\n",
      "-0.0634036511182785\n",
      "-0.06614911556243896\n"
     ]
    },
    {
     "name": "stderr",
     "output_type": "stream",
     "text": [
      "\r",
      " 34%|███▎      | 674/2000 [00:09<00:22, 57.88it/s]"
     ]
    },
    {
     "name": "stdout",
     "output_type": "stream",
     "text": [
      "-0.06888356059789658\n",
      "-0.07160724699497223\n",
      "-0.07432007044553757\n",
      "-0.07702226936817169\n",
      "-0.0797135978937149\n",
      "-0.08239439874887466\n",
      "-0.08506454527378082\n",
      "-0.08772406727075577\n",
      "-0.090373195707798\n",
      "-0.09301187098026276\n",
      "-0.09564007818698883\n",
      "-0.09825796633958817\n",
      "-0.1008656919002533\n",
      "-0.10346303880214691\n"
     ]
    },
    {
     "name": "stderr",
     "output_type": "stream",
     "text": [
      " 34%|███▍      | 690/2000 [00:09<00:19, 66.06it/s]"
     ]
    },
    {
     "name": "stdout",
     "output_type": "stream",
     "text": [
      "-0.10605014115571976\n",
      "-0.10862714052200317\n",
      "-0.11119402945041656\n",
      "-0.1137508824467659\n",
      "-0.11629778891801834\n",
      "-0.1188347190618515\n",
      "-0.12136178463697433\n",
      "-0.123879075050354\n",
      "-0.12638644874095917\n",
      "-0.12888407707214355\n",
      "-0.13137204945087433\n",
      "-0.1338503360748291\n",
      "-0.13631904125213623\n",
      "-0.13877837359905243\n",
      "-0.1412280797958374\n",
      "-0.1436683088541031\n",
      "-0.1460990458726883\n"
     ]
    },
    {
     "name": "stderr",
     "output_type": "stream",
     "text": [
      " 35%|███▌      | 708/2000 [00:09<00:17, 75.84it/s]"
     ]
    },
    {
     "name": "stdout",
     "output_type": "stream",
     "text": [
      "-0.14852048456668854\n",
      "-0.15093250572681427\n",
      "-0.15333545207977295\n",
      "-0.15572898089885712\n",
      "-0.15811340510845184\n",
      "-0.16048869490623474\n",
      "-0.162854865193367\n",
      "-0.16521206498146057\n",
      "-0.16756026446819305\n",
      "-0.16989938914775848\n",
      "-0.1722295880317688\n",
      "-0.17455102503299713\n",
      "-0.1768636852502823\n",
      "-0.17916741967201233\n",
      "-0.18146249651908875\n",
      "-0.1837487667798996\n",
      "-0.186026468873024\n",
      "-0.18829546868801117\n"
     ]
    },
    {
     "name": "stderr",
     "output_type": "stream",
     "text": [
      " 36%|███▋      | 725/2000 [00:09<00:16, 76.54it/s]"
     ]
    },
    {
     "name": "stdout",
     "output_type": "stream",
     "text": [
      "-0.19055594503879547\n",
      "-0.19280794262886047\n",
      "-0.19505131244659424\n",
      "-0.19728641211986542\n",
      "-0.19951313734054565\n",
      "-0.20173142850399017\n",
      "-0.20394140481948853\n",
      "-0.2061430811882019\n",
      "-0.2083364725112915\n",
      "-0.2105218768119812\n",
      "-0.21269892156124115\n",
      "-0.21486805379390717\n",
      "-0.2170289158821106\n",
      "-0.21918179094791412\n"
     ]
    },
    {
     "name": "stderr",
     "output_type": "stream",
     "text": [
      " 37%|███▋      | 741/2000 [00:10<00:18, 69.37it/s]"
     ]
    },
    {
     "name": "stdout",
     "output_type": "stream",
     "text": [
      "-0.22132685780525208\n",
      "-0.22346381843090057\n",
      "-0.22559291124343872\n",
      "-0.22771404683589935\n",
      "-0.22982744872570038\n",
      "-0.23193304240703583\n",
      "-0.23403088748455048\n",
      "-0.2361210733652115\n",
      "-0.2382034808397293\n",
      "-0.2402782291173935\n",
      "-0.2423454076051712\n",
      "-0.24440500140190125\n",
      "-0.24645709991455078\n",
      "-0.24850168824195862\n",
      "-0.2505388557910919\n"
     ]
    },
    {
     "name": "stderr",
     "output_type": "stream",
     "text": [
      " 38%|███▊      | 757/2000 [00:10<00:16, 73.21it/s]"
     ]
    },
    {
     "name": "stdout",
     "output_type": "stream",
     "text": [
      "-0.25256872177124023\n",
      "-0.25459110736846924\n",
      "-0.25660625100135803\n",
      "-0.2586139142513275\n",
      "-0.26061439514160156\n",
      "-0.26260751485824585\n",
      "-0.26459360122680664\n",
      "-0.2665724754333496\n",
      "-0.2685443162918091\n",
      "-0.2705090641975403\n",
      "-0.2724667489528656\n",
      "-0.2744174599647522\n",
      "-0.2763611078262329\n",
      "-0.2782978415489197\n"
     ]
    },
    {
     "name": "stderr",
     "output_type": "stream",
     "text": [
      "\r",
      " 38%|███▊      | 765/2000 [00:10<00:19, 63.79it/s]"
     ]
    },
    {
     "name": "stdout",
     "output_type": "stream",
     "text": [
      "-0.2802276909351349\n",
      "-0.28215065598487854\n",
      "-0.2840668559074402\n",
      "-0.2859760522842407\n",
      "-0.2878786623477936\n",
      "-0.28977450728416443\n",
      "-0.2916635572910309\n",
      "-0.29354608058929443\n",
      "-0.29542189836502075\n",
      "-0.29729124903678894\n",
      "-0.2991539239883423\n"
     ]
    },
    {
     "name": "stderr",
     "output_type": "stream",
     "text": [
      " 39%|███▉      | 780/2000 [00:10<00:19, 62.14it/s]"
     ]
    },
    {
     "name": "stdout",
     "output_type": "stream",
     "text": [
      "-0.3010099530220032\n",
      "-0.30285969376564026\n",
      "-0.30470287799835205\n",
      "-0.3065395951271057\n",
      "-0.3083699643611908\n",
      "-0.3101939260959625\n",
      "-0.31201156973838806\n",
      "-0.3138229250907898\n",
      "-0.3156278729438782\n",
      "-0.31742674112319946\n",
      "-0.3192194402217865\n",
      "-0.3210058808326721\n",
      "-0.32278621196746826\n",
      "-0.32456040382385254\n",
      "-0.32632848620414734\n"
     ]
    },
    {
     "name": "stderr",
     "output_type": "stream",
     "text": [
      " 40%|███▉      | 797/2000 [00:10<00:16, 70.94it/s]"
     ]
    },
    {
     "name": "stdout",
     "output_type": "stream",
     "text": [
      "-0.32809051871299744\n",
      "-0.3298465609550476\n",
      "-0.3315965533256531\n",
      "-0.3333406448364258\n",
      "-0.3350789546966553\n",
      "-0.3368111848831177\n",
      "-0.3385375440120697\n",
      "-0.3402581214904785\n",
      "-0.3419729471206665\n",
      "-0.3436819612979889\n",
      "-0.34538528323173523\n",
      "-0.3470827043056488\n",
      "-0.3487745523452759\n",
      "-0.3504607379436493\n",
      "-0.3521413207054138\n",
      "-0.35381633043289185\n",
      "-0.3554856479167938\n"
     ]
    },
    {
     "name": "stderr",
     "output_type": "stream",
     "text": [
      " 41%|████      | 815/2000 [00:11<00:15, 77.42it/s]"
     ]
    },
    {
     "name": "stdout",
     "output_type": "stream",
     "text": [
      "-0.3571496307849884\n",
      "-0.3588079512119293\n",
      "-0.36046090722084045\n",
      "-0.3621082305908203\n",
      "-0.36375024914741516\n",
      "-0.36538684368133545\n",
      "-0.36701810359954834\n",
      "-0.3686439096927643\n",
      "-0.37026447057724\n",
      "-0.3718797564506531\n",
      "-0.3734896779060364\n",
      "-0.37509435415267944\n",
      "-0.376693993806839\n",
      "-0.3782883584499359\n",
      "-0.37987762689590454\n",
      "-0.3814616799354553\n",
      "-0.38304072618484497\n"
     ]
    },
    {
     "name": "stderr",
     "output_type": "stream",
     "text": [
      " 42%|████▏     | 831/2000 [00:11<00:15, 77.17it/s]"
     ]
    },
    {
     "name": "stdout",
     "output_type": "stream",
     "text": [
      "-0.38461461663246155\n",
      "-0.38618355989456177\n",
      "-0.3877474069595337\n",
      "-0.38930630683898926\n",
      "-0.3908602297306061\n",
      "-0.3924091160297394\n",
      "-0.3939531743526459\n",
      "-0.3954923450946808\n",
      "-0.3970266878604889\n",
      "-0.3985562324523926\n",
      "-0.4000808000564575\n",
      "-0.40160071849823\n",
      "-0.40311577916145325\n",
      "-0.40462619066238403\n",
      "-0.4061318337917328\n",
      "-0.40763282775878906\n"
     ]
    },
    {
     "name": "stderr",
     "output_type": "stream",
     "text": [
      " 42%|████▏     | 848/2000 [00:11<00:14, 78.56it/s]"
     ]
    },
    {
     "name": "stdout",
     "output_type": "stream",
     "text": [
      "-0.4091290533542633\n",
      "-0.4106208384037018\n",
      "-0.4121078848838806\n",
      "-0.4135904014110565\n",
      "-0.4150683879852295\n",
      "-0.41654172539711\n",
      "-0.4180106222629547\n",
      "-0.4194749593734741\n",
      "-0.42093491554260254\n",
      "-0.4223904311656952\n",
      "-0.4238414764404297\n",
      "-0.42528823018074036\n",
      "-0.4267304241657257\n",
      "-0.4281683564186096\n",
      "-0.4296019971370697\n",
      "-0.43103134632110596\n",
      "-0.43245646357536316\n"
     ]
    },
    {
     "name": "stderr",
     "output_type": "stream",
     "text": [
      " 43%|████▎     | 866/2000 [00:11<00:13, 81.01it/s]"
     ]
    },
    {
     "name": "stdout",
     "output_type": "stream",
     "text": [
      "-0.43387728929519653\n",
      "-0.4352938234806061\n",
      "-0.4367060959339142\n",
      "-0.43811434507369995\n",
      "-0.43951839208602905\n",
      "-0.4409181773662567\n",
      "-0.44231393933296204\n",
      "-0.44370564818382263\n",
      "-0.44509315490722656\n",
      "-0.4464767277240753\n",
      "-0.44785621762275696\n",
      "-0.44923165440559387\n",
      "-0.45060309767723083\n",
      "-0.4519707262516022\n",
      "-0.453334242105484\n",
      "-0.4546939432621002\n",
      "-0.45604968070983887\n"
     ]
    },
    {
     "name": "stderr",
     "output_type": "stream",
     "text": [
      " 44%|████▍     | 884/2000 [00:12<00:13, 81.37it/s]"
     ]
    },
    {
     "name": "stdout",
     "output_type": "stream",
     "text": [
      "-0.45740145444869995\n",
      "-0.45874959230422974\n",
      "-0.46009379625320435\n",
      "-0.4614342153072357\n",
      "-0.462770938873291\n",
      "-0.4641037881374359\n",
      "-0.46543288230895996\n",
      "-0.46675819158554077\n",
      "-0.4680798649787903\n",
      "-0.4693978726863861\n",
      "-0.47071218490600586\n",
      "-0.4720228612422943\n",
      "-0.4733298420906067\n",
      "-0.4746333062648773\n",
      "-0.47593313455581665\n",
      "-0.47722941637039185\n",
      "-0.4785221219062805\n"
     ]
    },
    {
     "name": "stderr",
     "output_type": "stream",
     "text": [
      " 45%|████▌     | 902/2000 [00:12<00:13, 82.03it/s]"
     ]
    },
    {
     "name": "stdout",
     "output_type": "stream",
     "text": [
      "-0.4798112213611603\n",
      "-0.48109695315361023\n",
      "-0.48237910866737366\n",
      "-0.4836578667163849\n",
      "-0.48493310809135437\n",
      "-0.48620501160621643\n",
      "-0.4874735176563263\n",
      "-0.4887385368347168\n",
      "-0.4900002181529999\n",
      "-0.49125850200653076\n",
      "-0.4925135374069214\n",
      "-0.4937652349472046\n",
      "-0.49501362442970276\n",
      "-0.4962586760520935\n",
      "-0.4975004494190216\n",
      "-0.4987391531467438\n",
      "-0.4999745488166809\n"
     ]
    },
    {
     "name": "stderr",
     "output_type": "stream",
     "text": [
      " 46%|████▌     | 920/2000 [00:12<00:12, 83.63it/s]"
     ]
    },
    {
     "name": "stdout",
     "output_type": "stream",
     "text": [
      "-0.5012067556381226\n",
      "-0.5024357438087463\n",
      "-0.503661572933197\n",
      "-0.5048841834068298\n",
      "-0.5061038136482239\n",
      "-0.5073202848434448\n",
      "-0.5085335969924927\n",
      "-0.5097439885139465\n",
      "-0.5109512209892273\n",
      "-0.512155294418335\n",
      "-0.5133565664291382\n",
      "-0.5145548582077026\n",
      "-0.5157499313354492\n",
      "-0.5169420838356018\n",
      "-0.5181313753128052\n",
      "-0.519317626953125\n",
      "-0.5205011963844299\n",
      "-0.5216816663742065\n"
     ]
    },
    {
     "name": "stderr",
     "output_type": "stream",
     "text": [
      " 47%|████▋     | 938/2000 [00:12<00:12, 83.69it/s]"
     ]
    },
    {
     "name": "stdout",
     "output_type": "stream",
     "text": [
      "-0.5228592753410339\n",
      "-0.5240340828895569\n",
      "-0.5252059698104858\n",
      "-0.5263751149177551\n",
      "-0.5275412797927856\n",
      "-0.5287047624588013\n",
      "-0.5298655033111572\n",
      "-0.5310234427452087\n",
      "-0.532178521156311\n",
      "-0.5333309769630432\n",
      "-0.534480631351471\n",
      "-0.5356276631355286\n",
      "-0.5367720723152161\n",
      "-0.5379137396812439\n",
      "-0.5390529036521912\n",
      "-0.5401891469955444\n",
      "-0.5413229465484619\n",
      "-0.5424541234970093\n"
     ]
    },
    {
     "name": "stderr",
     "output_type": "stream",
     "text": [
      "\r",
      " 47%|████▋     | 947/2000 [00:12<00:13, 76.36it/s]"
     ]
    },
    {
     "name": "stdout",
     "output_type": "stream",
     "text": [
      "-0.5435827374458313\n",
      "-0.5447088479995728\n",
      "-0.5458322763442993\n",
      "-0.5469532608985901\n",
      "-0.548071563243866\n",
      "-0.5491875410079956\n",
      "-0.5503009557723999\n",
      "-0.5514117479324341\n",
      "-0.5525202751159668\n",
      "-0.553626298904419\n",
      "-0.5547298789024353\n",
      "-0.5558311343193054\n",
      "-0.5569298267364502\n"
     ]
    },
    {
     "name": "stderr",
     "output_type": "stream",
     "text": [
      " 48%|████▊     | 963/2000 [00:13<00:14, 73.66it/s]"
     ]
    },
    {
     "name": "stdout",
     "output_type": "stream",
     "text": [
      "-0.5580262541770935\n",
      "-0.559120237827301\n",
      "-0.5602119565010071\n",
      "-0.5613011717796326\n",
      "-0.5623881220817566\n",
      "-0.5634729266166687\n",
      "-0.5645552277565002\n",
      "-0.5656353235244751\n",
      "-0.5667131543159485\n",
      "-0.5677887797355652\n",
      "-0.5688621401786804\n",
      "-0.5699331164360046\n",
      "-0.5710021257400513\n",
      "-0.5720688104629517\n",
      "-0.5731332302093506\n",
      "-0.5741956233978271\n",
      "-0.575255811214447\n"
     ]
    },
    {
     "name": "stderr",
     "output_type": "stream",
     "text": [
      " 49%|████▉     | 979/2000 [00:13<00:13, 74.99it/s]"
     ]
    },
    {
     "name": "stdout",
     "output_type": "stream",
     "text": [
      "-0.5763139128684998\n",
      "-0.5773699283599854\n",
      "-0.5784236788749695\n",
      "-0.5794753432273865\n",
      "-0.5805250406265259\n",
      "-0.5815725922584534\n",
      "-0.5826180577278137\n",
      "-0.5836615562438965\n",
      "-0.5847029089927673\n",
      "-0.5857423543930054\n",
      "-0.586779773235321\n",
      "-0.5878152251243591\n",
      "-0.5888485312461853\n",
      "-0.5898800492286682\n",
      "-0.5909096002578735\n"
     ]
    },
    {
     "name": "stderr",
     "output_type": "stream",
     "text": [
      " 50%|████▉     | 995/2000 [00:13<00:14, 69.64it/s]"
     ]
    },
    {
     "name": "stdout",
     "output_type": "stream",
     "text": [
      "-0.5919371247291565\n",
      "-0.5929627418518066\n",
      "-0.593986451625824\n",
      "-0.595008373260498\n",
      "-0.5960283279418945\n",
      "-0.5970464944839478\n",
      "-0.5980626344680786\n",
      "-0.599077045917511\n",
      "-0.6000896096229553\n",
      "-0.6011003851890564\n",
      "-0.6021092534065247\n",
      "-0.603116512298584\n",
      "-0.6041218638420105\n"
     ]
    },
    {
     "name": "stderr",
     "output_type": "stream",
     "text": [
      " 51%|█████     | 1012/2000 [00:13<00:14, 69.74it/s]"
     ]
    },
    {
     "name": "stdout",
     "output_type": "stream",
     "text": [
      "-0.605125367641449\n",
      "-0.6061272025108337\n",
      "-0.60712730884552\n",
      "-0.608125627040863\n",
      "-0.6089231371879578\n",
      "-0.6097193360328674\n",
      "-0.6105145812034607\n",
      "-0.6113084554672241\n",
      "-0.6121013760566711\n",
      "-0.6128933429718018\n",
      "-0.6136842370033264\n",
      "-0.6144739389419556\n",
      "-0.6152628064155579\n",
      "-0.6160505414009094\n",
      "-0.6168373823165894\n"
     ]
    },
    {
     "name": "stderr",
     "output_type": "stream",
     "text": [
      "\r",
      " 51%|█████     | 1021/2000 [00:13<00:13, 73.47it/s]"
     ]
    },
    {
     "name": "stdout",
     "output_type": "stream",
     "text": [
      "-0.6176233291625977\n",
      "-0.618408203125\n",
      "-0.6191922426223755\n",
      "-0.619975209236145\n",
      "-0.6207572817802429\n",
      "-0.6215384602546692\n",
      "-0.622318685054779\n",
      "-0.6230981349945068\n",
      "-0.6238765716552734\n",
      "-0.624654233455658\n",
      "-0.6254310011863708\n",
      "-0.6262068748474121\n",
      "-0.6269818544387817\n",
      "-0.6277559995651245\n",
      "-0.6285293698310852\n",
      "-0.6293018460273743\n"
     ]
    },
    {
     "name": "stderr",
     "output_type": "stream",
     "text": [
      " 52%|█████▏    | 1037/2000 [00:14<00:13, 69.06it/s]"
     ]
    },
    {
     "name": "stdout",
     "output_type": "stream",
     "text": [
      "-0.6300734281539917\n",
      "-0.6308444142341614\n",
      "-0.6316143870353699\n",
      "-0.6323836445808411\n",
      "-0.6331520080566406\n",
      "-0.6339195966720581\n",
      "-0.6346864104270935\n",
      "-0.6354524493217468\n",
      "-0.6362176537513733\n",
      "-0.6369822025299072\n",
      "-0.6377458572387695\n",
      "-0.6385087966918945\n",
      "-0.6392710208892822\n",
      "-0.6400324106216431\n",
      "-0.6407930850982666\n"
     ]
    },
    {
     "name": "stderr",
     "output_type": "stream",
     "text": [
      " 53%|█████▎    | 1054/2000 [00:14<00:12, 74.98it/s]"
     ]
    },
    {
     "name": "stdout",
     "output_type": "stream",
     "text": [
      "-0.6415529847145081\n",
      "-0.6423122882843018\n",
      "-0.6430706977844238\n",
      "-0.6438283920288086\n",
      "-0.6445854306221008\n",
      "-0.6453418135643005\n",
      "-0.6460973024368286\n",
      "-0.6468521356582642\n",
      "-0.647606372833252\n",
      "-0.6483598351478577\n",
      "-0.6491127014160156\n",
      "-0.649864673614502\n",
      "-0.6506159901618958\n",
      "-0.6513668298721313\n",
      "-0.6521168351173401\n",
      "-0.6528662443161011\n"
     ]
    },
    {
     "name": "stderr",
     "output_type": "stream",
     "text": [
      " 54%|█████▎    | 1070/2000 [00:14<00:12, 72.00it/s]"
     ]
    },
    {
     "name": "stdout",
     "output_type": "stream",
     "text": [
      "-0.6536149978637695\n",
      "-0.6543630957603455\n",
      "-0.6551105380058289\n",
      "-0.6558572053909302\n",
      "-0.6566033363342285\n",
      "-0.6573489308357239\n",
      "-0.6580936908721924\n",
      "-0.6588379740715027\n",
      "-0.6595816016197205\n",
      "-0.6603245139122009\n",
      "-0.6610668897628784\n",
      "-0.6618085503578186\n",
      "-0.6625497341156006\n",
      "-0.6632903218269348\n"
     ]
    },
    {
     "name": "stderr",
     "output_type": "stream",
     "text": [
      " 54%|█████▍    | 1086/2000 [00:14<00:13, 66.32it/s]"
     ]
    },
    {
     "name": "stdout",
     "output_type": "stream",
     "text": [
      "-0.6640303134918213\n",
      "-0.6647696495056152\n",
      "-0.6655083894729614\n",
      "-0.6662465333938599\n",
      "-0.6669841408729553\n",
      "-0.6677212119102478\n",
      "-0.6684576869010925\n",
      "-0.6691935658454895\n",
      "-0.6699289679527283\n",
      "-0.6706638336181641\n",
      "-0.6713981032371521\n",
      "-0.6721318364143372\n",
      "-0.6728650331497192\n"
     ]
    },
    {
     "name": "stderr",
     "output_type": "stream",
     "text": [
      "\r",
      " 55%|█████▍    | 1093/2000 [00:14<00:14, 62.37it/s]"
     ]
    },
    {
     "name": "stdout",
     "output_type": "stream",
     "text": [
      "-0.6735975742340088\n",
      "-0.6743296980857849\n",
      "-0.6750612854957581\n",
      "-0.675792396068573\n",
      "-0.6765228509902954\n",
      "-0.6772528290748596\n",
      "-0.6779823303222656\n",
      "-0.6787113547325134\n",
      "-0.6794398427009583\n",
      "-0.6801678538322449\n",
      "-0.6808953285217285\n",
      "-0.681622326374054\n"
     ]
    },
    {
     "name": "stderr",
     "output_type": "stream",
     "text": [
      " 55%|█████▌    | 1106/2000 [00:15<00:15, 58.09it/s]"
     ]
    },
    {
     "name": "stdout",
     "output_type": "stream",
     "text": [
      "-0.682348906993866\n",
      "-0.683074951171875\n",
      "-0.683800458908081\n",
      "-0.6845255494117737\n",
      "-0.6852501630783081\n",
      "-0.6859744787216187\n",
      "-0.6866980791091919\n",
      "-0.687421441078186\n",
      "-0.688144326210022\n",
      "-0.6888666152954102\n",
      "-0.6895886063575745\n",
      "-0.690310001373291\n",
      "-0.6910312175750732\n"
     ]
    },
    {
     "name": "stderr",
     "output_type": "stream",
     "text": [
      " 56%|█████▌    | 1123/2000 [00:15<00:12, 68.40it/s]"
     ]
    },
    {
     "name": "stdout",
     "output_type": "stream",
     "text": [
      "-0.6917518377304077\n",
      "-0.6924721002578735\n",
      "-0.6931918859481812\n",
      "-0.6939113140106201\n",
      "-0.6946302652359009\n",
      "-0.695348858833313\n",
      "-0.6960670351982117\n",
      "-0.6967849135398865\n",
      "-0.6975023150444031\n",
      "-0.698219358921051\n",
      "-0.6989359259605408\n",
      "-0.6996521353721619\n",
      "-0.7003679871559143\n",
      "-0.7010836005210876\n",
      "-0.7017987370491028\n",
      "-0.702513575553894\n"
     ]
    },
    {
     "name": "stderr",
     "output_type": "stream",
     "text": [
      " 57%|█████▋    | 1139/2000 [00:15<00:12, 71.17it/s]"
     ]
    },
    {
     "name": "stdout",
     "output_type": "stream",
     "text": [
      "-0.7032278776168823\n",
      "-0.703942060470581\n",
      "-0.7046557664871216\n",
      "-0.705369234085083\n",
      "-0.7060822248458862\n",
      "-0.7067950367927551\n",
      "-0.7075073719024658\n",
      "-0.7082194089889526\n",
      "-0.7089312076568604\n",
      "-0.7096425294876099\n",
      "-0.710353672504425\n",
      "-0.7110644578933716\n",
      "-0.711775004863739\n",
      "-0.7124851942062378\n"
     ]
    },
    {
     "name": "stderr",
     "output_type": "stream",
     "text": [
      "\r",
      " 57%|█████▋    | 1147/2000 [00:15<00:13, 61.21it/s]"
     ]
    },
    {
     "name": "stdout",
     "output_type": "stream",
     "text": [
      "-0.7131950855255127\n",
      "-0.713904619216919\n",
      "-0.7146139740943909\n",
      "-0.7153229117393494\n",
      "-0.7160317897796631\n",
      "-0.7167401313781738\n",
      "-0.7174484133720398\n",
      "-0.7181563377380371\n",
      "-0.7188639640808105\n",
      "-0.7195713520050049\n"
     ]
    },
    {
     "name": "stderr",
     "output_type": "stream",
     "text": [
      " 58%|█████▊    | 1161/2000 [00:16<00:14, 56.99it/s]"
     ]
    },
    {
     "name": "stdout",
     "output_type": "stream",
     "text": [
      "-0.7202785015106201\n",
      "-0.7209854125976562\n",
      "-0.7216919660568237\n",
      "-0.7223985195159912\n",
      "-0.72310471534729\n",
      "-0.7238104939460754\n",
      "-0.7245161533355713\n",
      "-0.7252216935157776\n",
      "-0.7259270548820496\n",
      "-0.7266319990158081\n",
      "-0.7273367047309875\n"
     ]
    },
    {
     "name": "stderr",
     "output_type": "stream",
     "text": [
      " 59%|█████▊    | 1174/2000 [00:16<00:13, 60.11it/s]"
     ]
    },
    {
     "name": "stdout",
     "output_type": "stream",
     "text": [
      "-0.7280412316322327\n",
      "-0.7287457585334778\n",
      "-0.7294499278068542\n",
      "-0.7301539182662964\n",
      "-0.730857789516449\n",
      "-0.7315613031387329\n",
      "-0.7322646975517273\n",
      "-0.7329679131507874\n",
      "-0.7336710095405579\n",
      "-0.7343738079071045\n",
      "-0.7350765466690063\n",
      "-0.7357791066169739\n",
      "-0.7364814281463623\n",
      "-0.737183690071106\n"
     ]
    },
    {
     "name": "stderr",
     "output_type": "stream",
     "text": [
      " 60%|█████▉    | 1191/2000 [00:16<00:11, 69.44it/s]"
     ]
    },
    {
     "name": "stdout",
     "output_type": "stream",
     "text": [
      "-0.7378857731819153\n",
      "-0.7385876774787903\n",
      "-0.739289402961731\n",
      "-0.7399910092353821\n",
      "-0.7406924962997437\n",
      "-0.7413939237594604\n",
      "-0.7420950531959534\n",
      "-0.7427961230278015\n",
      "-0.7434970736503601\n",
      "-0.7441979050636292\n",
      "-0.7448986768722534\n",
      "-0.7455993294715881\n",
      "-0.7462998628616333\n",
      "-0.7470002174377441\n",
      "-0.7477006316184998\n",
      "-0.748400866985321\n"
     ]
    },
    {
     "name": "stderr",
     "output_type": "stream",
     "text": [
      " 60%|██████    | 1207/2000 [00:16<00:10, 73.25it/s]"
     ]
    },
    {
     "name": "stdout",
     "output_type": "stream",
     "text": [
      "-0.7491008639335632\n",
      "-0.7498009204864502\n",
      "-0.7505009174346924\n",
      "-0.7512007355690002\n",
      "-0.7519006133079529\n",
      "-0.7526003122329712\n",
      "-0.7532999515533447\n",
      "-0.7539995908737183\n",
      "-0.754699170589447\n",
      "-0.7553985118865967\n",
      "-0.7560980319976807\n",
      "-0.7567974925041199\n",
      "-0.7574968934059143\n",
      "-0.7581961750984192\n",
      "-0.7588954567909241\n",
      "-0.759594738483429\n",
      "-0.7602940797805786\n"
     ]
    },
    {
     "name": "stderr",
     "output_type": "stream",
     "text": [
      " 61%|██████    | 1224/2000 [00:16<00:10, 77.01it/s]"
     ]
    },
    {
     "name": "stdout",
     "output_type": "stream",
     "text": [
      "-0.7609931826591492\n",
      "-0.7616924047470093\n",
      "-0.7623916268348694\n",
      "-0.7630907297134399\n",
      "-0.7637898921966553\n",
      "-0.7644891738891602\n",
      "-0.7651883363723755\n",
      "-0.7658875584602356\n",
      "-0.7665866017341614\n",
      "-0.7672858834266663\n",
      "-0.7679849863052368\n",
      "-0.7686842679977417\n",
      "-0.7693835496902466\n",
      "-0.7700827121734619\n",
      "-0.7707821130752563\n",
      "-0.771481454372406\n",
      "-0.77218097448349\n"
     ]
    },
    {
     "name": "stderr",
     "output_type": "stream",
     "text": [
      " 62%|██████▏   | 1241/2000 [00:17<00:09, 78.99it/s]"
     ]
    },
    {
     "name": "stdout",
     "output_type": "stream",
     "text": [
      "-0.7728804349899292\n",
      "-0.7735798954963684\n",
      "-0.7742794752120972\n",
      "-0.7749789953231812\n",
      "-0.7756786346435547\n",
      "-0.7763783931732178\n",
      "-0.7770782113075256\n",
      "-0.7777780890464783\n",
      "-0.7784781455993652\n",
      "-0.7791781425476074\n",
      "-0.7798782587051392\n",
      "-0.7805785536766052\n",
      "-0.7812787294387817\n",
      "-0.7819792628288269\n",
      "-0.7826797366142273\n",
      "-0.783380389213562\n",
      "-0.7840811610221863\n"
     ]
    },
    {
     "name": "stderr",
     "output_type": "stream",
     "text": [
      " 63%|██████▎   | 1257/2000 [00:17<00:10, 73.31it/s]"
     ]
    },
    {
     "name": "stdout",
     "output_type": "stream",
     "text": [
      "-0.7847819328308105\n",
      "-0.7854830026626587\n",
      "-0.7861839532852173\n",
      "-0.7868852615356445\n",
      "-0.787586510181427\n",
      "-0.7882879376411438\n",
      "-0.7889897227287292\n",
      "-0.7896914482116699\n",
      "-0.7903934121131897\n",
      "-0.7910954356193542\n",
      "-0.7917975783348083\n",
      "-0.7924998998641968\n",
      "-0.7932024598121643\n",
      "-0.7939051389694214\n"
     ]
    },
    {
     "name": "stderr",
     "output_type": "stream",
     "text": [
      " 64%|██████▎   | 1274/2000 [00:17<00:09, 77.67it/s]"
     ]
    },
    {
     "name": "stdout",
     "output_type": "stream",
     "text": [
      "-0.7946079969406128\n",
      "-0.7953110933303833\n",
      "-0.7960142493247986\n",
      "-0.7967177033424377\n",
      "-0.7974211573600769\n",
      "-0.7981250286102295\n",
      "-0.7988289594650269\n",
      "-0.7995331287384033\n",
      "-0.8002374768257141\n",
      "-0.800942063331604\n",
      "-0.8016468286514282\n",
      "-0.802351713180542\n",
      "-0.8030568957328796\n",
      "-0.8037622570991516\n",
      "-0.8044678568840027\n",
      "-0.8051736950874329\n",
      "-0.8058796525001526\n"
     ]
    },
    {
     "name": "stderr",
     "output_type": "stream",
     "text": [
      "\r",
      " 64%|██████▍   | 1282/2000 [00:17<00:10, 67.95it/s]"
     ]
    },
    {
     "name": "stdout",
     "output_type": "stream",
     "text": [
      "-0.806585967540741\n",
      "-0.8072925209999084\n",
      "-0.8079990744590759\n",
      "-0.8087061643600464\n",
      "-0.8094134330749512\n",
      "-0.8101208806037903\n",
      "-0.8108285665512085\n",
      "-0.8115365505218506\n",
      "-0.8122446537017822\n",
      "-0.8129531741142273\n",
      "-0.8136619925498962\n",
      "-0.81437087059021\n"
     ]
    },
    {
     "name": "stderr",
     "output_type": "stream",
     "text": [
      " 65%|██████▍   | 1298/2000 [00:17<00:10, 68.07it/s]"
     ]
    },
    {
     "name": "stdout",
     "output_type": "stream",
     "text": [
      "-0.8150801658630371\n",
      "-0.8157896399497986\n",
      "-0.8164994120597839\n",
      "-0.8172094821929932\n",
      "-0.8179198503494263\n",
      "-0.8186303973197937\n",
      "-0.8193413019180298\n",
      "-0.8200525045394897\n",
      "-0.820763885974884\n",
      "-0.8214755654335022\n",
      "-0.822187602519989\n",
      "-0.8228998184204102\n",
      "-0.8236125111579895\n",
      "-0.8243253231048584\n",
      "-0.8250383734703064\n"
     ]
    },
    {
     "name": "stderr",
     "output_type": "stream",
     "text": [
      " 66%|██████▌   | 1312/2000 [00:18<00:10, 68.22it/s]"
     ]
    },
    {
     "name": "stdout",
     "output_type": "stream",
     "text": [
      "-0.8257518410682678\n",
      "-0.8264656066894531\n",
      "-0.8271796107292175\n",
      "-0.8278939127922058\n",
      "-0.828608512878418\n",
      "-0.8293233513832092\n",
      "-0.8300386071205139\n",
      "-0.8307539224624634\n",
      "-0.831469714641571\n",
      "-0.8321858048439026\n",
      "-0.8329021334648132\n",
      "-0.833618700504303\n",
      "-0.8343356251716614\n",
      "-0.8350527286529541\n",
      "-0.8357701897621155\n"
     ]
    },
    {
     "name": "stderr",
     "output_type": "stream",
     "text": [
      " 66%|██████▋   | 1327/2000 [00:18<00:09, 69.03it/s]"
     ]
    },
    {
     "name": "stdout",
     "output_type": "stream",
     "text": [
      "-0.8364877700805664\n",
      "-0.8372058272361755\n",
      "-0.8379241228103638\n",
      "-0.8386425375938416\n",
      "-0.8393613696098328\n",
      "-0.8400803804397583\n",
      "-0.8407996892929077\n",
      "-0.8415192365646362\n",
      "-0.8422389030456543\n",
      "-0.842958927154541\n",
      "-0.8436791300773621\n",
      "-0.844399631023407\n",
      "-0.8451204299926758\n",
      "-0.8458411693572998\n"
     ]
    },
    {
     "name": "stderr",
     "output_type": "stream",
     "text": [
      " 67%|██████▋   | 1341/2000 [00:18<00:10, 63.08it/s]"
     ]
    },
    {
     "name": "stdout",
     "output_type": "stream",
     "text": [
      "-0.846562385559082\n",
      "-0.8472836017608643\n",
      "-0.8480049967765808\n",
      "-0.848726749420166\n",
      "-0.8494483828544617\n",
      "-0.8501704335212708\n",
      "-0.8508925437927246\n",
      "-0.8516147136688232\n",
      "-0.8523371815681458\n",
      "-0.8530595898628235\n",
      "-0.8537821173667908\n",
      "-0.8545047640800476\n"
     ]
    },
    {
     "name": "stderr",
     "output_type": "stream",
     "text": [
      "\r",
      " 67%|██████▋   | 1348/2000 [00:18<00:10, 59.76it/s]"
     ]
    },
    {
     "name": "stdout",
     "output_type": "stream",
     "text": [
      "-0.8552274107933044\n",
      "-0.8559500575065613\n",
      "-0.8566728830337524\n",
      "-0.857395589351654\n",
      "-0.8581183552742004\n",
      "-0.8588410019874573\n",
      "-0.8595637679100037\n",
      "-0.8602863550186157\n",
      "-0.8610090017318726\n",
      "-0.8617313504219055\n",
      "-0.8624536991119385\n"
     ]
    },
    {
     "name": "stderr",
     "output_type": "stream",
     "text": [
      " 68%|██████▊   | 1361/2000 [00:18<00:11, 56.66it/s]"
     ]
    },
    {
     "name": "stdout",
     "output_type": "stream",
     "text": [
      "-0.8631758689880371\n",
      "-0.8638978600502014\n",
      "-0.8646196722984314\n",
      "-0.8653411865234375\n",
      "-0.8660625219345093\n",
      "-0.8667833805084229\n",
      "-0.8675041794776917\n",
      "-0.8682244420051575\n",
      "-0.868944525718689\n",
      "-0.8696641325950623\n",
      "-0.8703832626342773\n"
     ]
    },
    {
     "name": "stderr",
     "output_type": "stream",
     "text": [
      " 69%|██████▊   | 1373/2000 [00:19<00:11, 52.42it/s]"
     ]
    },
    {
     "name": "stdout",
     "output_type": "stream",
     "text": [
      "-0.8711019158363342\n",
      "-0.8718200922012329\n",
      "-0.8725375533103943\n",
      "-0.873254656791687\n",
      "-0.8739711046218872\n",
      "-0.8746869564056396\n",
      "-0.8754019141197205\n",
      "-0.8761162757873535\n",
      "-0.8768299221992493\n",
      "-0.8775425553321838\n"
     ]
    },
    {
     "name": "stderr",
     "output_type": "stream",
     "text": [
      " 69%|██████▉   | 1385/2000 [00:19<00:11, 52.83it/s]"
     ]
    },
    {
     "name": "stdout",
     "output_type": "stream",
     "text": [
      "-0.8782543540000916\n",
      "-0.8789653778076172\n",
      "-0.8796752691268921\n",
      "-0.8803843855857849\n",
      "-0.8810921907424927\n",
      "-0.8817989826202393\n",
      "-0.8825047612190247\n",
      "-0.8832093477249146\n",
      "-0.8839124441146851\n",
      "-0.8846144080162048\n",
      "-0.8853150606155396\n",
      "-0.8860142230987549\n"
     ]
    },
    {
     "name": "stderr",
     "output_type": "stream",
     "text": [
      " 70%|██████▉   | 1398/2000 [00:19<00:10, 58.46it/s]"
     ]
    },
    {
     "name": "stdout",
     "output_type": "stream",
     "text": [
      "-0.8867119550704956\n",
      "-0.8874081969261169\n",
      "-0.8881028294563293\n",
      "-0.8887960314750671\n",
      "-0.8894872069358826\n",
      "-0.8901770114898682\n",
      "-0.8908648490905762\n",
      "-0.8915508985519409\n",
      "-0.8922350406646729\n",
      "-0.892917275428772\n",
      "-0.8935976028442383\n",
      "-0.8942756652832031\n",
      "-0.8949517607688904\n",
      "-0.8956257104873657\n"
     ]
    },
    {
     "name": "stderr",
     "output_type": "stream",
     "text": [
      " 70%|███████   | 1410/2000 [00:19<00:10, 55.72it/s]"
     ]
    },
    {
     "name": "stdout",
     "output_type": "stream",
     "text": [
      "-0.8962973952293396\n",
      "-0.8969668745994568\n",
      "-0.8976340293884277\n",
      "-0.8982987999916077\n",
      "-0.8989613056182861\n",
      "-0.899621307849884\n",
      "-0.9002788066864014\n",
      "-0.9009337425231934\n",
      "-0.90158611536026\n",
      "-0.9022358655929565\n"
     ]
    },
    {
     "name": "stderr",
     "output_type": "stream",
     "text": [
      "\r",
      " 71%|███████   | 1416/2000 [00:20<00:12, 47.35it/s]"
     ]
    },
    {
     "name": "stdout",
     "output_type": "stream",
     "text": [
      "-0.9028831124305725\n",
      "-0.9035276174545288\n",
      "-0.9041694402694702\n",
      "-0.9048084020614624\n",
      "-0.9054446816444397\n",
      "-0.9060782790184021\n",
      "-0.9067088961601257\n",
      "-0.9073368310928345\n"
     ]
    },
    {
     "name": "stderr",
     "output_type": "stream",
     "text": [
      " 71%|███████▏  | 1427/2000 [00:20<00:11, 48.88it/s]"
     ]
    },
    {
     "name": "stdout",
     "output_type": "stream",
     "text": [
      "-0.9079618453979492\n",
      "-0.90858393907547\n",
      "-0.9092034101486206\n",
      "-0.9098197221755981\n",
      "-0.910433292388916\n",
      "-0.9110438823699951\n",
      "-0.9116516709327698\n",
      "-0.91225665807724\n",
      "-0.9128586649894714\n",
      "-0.9134578704833984\n",
      "-0.9140540957450867\n",
      "-0.9146476984024048\n",
      "-0.9152384400367737\n"
     ]
    },
    {
     "name": "stderr",
     "output_type": "stream",
     "text": [
      " 72%|███████▏  | 1442/2000 [00:20<00:09, 59.24it/s]"
     ]
    },
    {
     "name": "stdout",
     "output_type": "stream",
     "text": [
      "-0.9158264398574829\n",
      "-0.9164116382598877\n",
      "-0.9169942736625671\n",
      "-0.9175741672515869\n",
      "-0.9181511402130127\n",
      "-0.9187259078025818\n",
      "-0.9192978143692017\n",
      "-0.9198673963546753\n",
      "-0.9204343557357788\n",
      "-0.9209989309310913\n",
      "-0.9215611815452576\n",
      "-0.9221211671829224\n",
      "-0.9226786494255066\n",
      "-0.9232339859008789\n",
      "-0.9237870573997498\n"
     ]
    },
    {
     "name": "stderr",
     "output_type": "stream",
     "text": [
      " 73%|███████▎  | 1457/2000 [00:20<00:08, 60.95it/s]"
     ]
    },
    {
     "name": "stdout",
     "output_type": "stream",
     "text": [
      "-0.924338161945343\n",
      "-0.9248871803283691\n",
      "-0.9254339933395386\n",
      "-0.9259791374206543\n",
      "-0.9265221357345581\n",
      "-0.9270632863044739\n",
      "-0.9276026487350464\n",
      "-0.9281402826309204\n",
      "-0.9286762475967407\n",
      "-0.9292105436325073\n",
      "-0.9297431707382202\n",
      "-0.9302744269371033\n"
     ]
    },
    {
     "name": "stderr",
     "output_type": "stream",
     "text": [
      "\r",
      " 73%|███████▎  | 1464/2000 [00:20<00:10, 53.18it/s]"
     ]
    },
    {
     "name": "stdout",
     "output_type": "stream",
     "text": [
      "-0.9308039546012878\n",
      "-0.9313320517539978\n",
      "-0.9318588972091675\n",
      "-0.9323843121528625\n",
      "-0.9329083561897278\n",
      "-0.933431088924408\n",
      "-0.9339526891708374\n",
      "-0.9344728589057922\n",
      "-0.9349920749664307\n",
      "-0.9355100393295288\n"
     ]
    },
    {
     "name": "stderr",
     "output_type": "stream",
     "text": [
      " 74%|███████▍  | 1476/2000 [00:21<00:09, 53.43it/s]"
     ]
    },
    {
     "name": "stdout",
     "output_type": "stream",
     "text": [
      "-0.9360268115997314\n",
      "-0.9365426301956177\n",
      "-0.9370573163032532\n",
      "-0.9375709295272827\n",
      "-0.9380836486816406\n",
      "-0.9385952949523926\n",
      "-0.9391059279441833\n",
      "-0.939615786075592\n",
      "-0.9401245713233948\n",
      "-0.9406324028968811\n",
      "-0.9411395192146301\n",
      "-0.941645622253418\n",
      "-0.9421509504318237\n"
     ]
    },
    {
     "name": "stderr",
     "output_type": "stream",
     "text": [
      " 74%|███████▍  | 1489/2000 [00:21<00:09, 54.76it/s]"
     ]
    },
    {
     "name": "stdout",
     "output_type": "stream",
     "text": [
      "-0.9426553249359131\n",
      "-0.9431589841842651\n",
      "-0.9436618089675903\n",
      "-0.9441636204719543\n",
      "-0.944664716720581\n",
      "-0.9451650977134705\n",
      "-0.945664644241333\n",
      "-0.9461632966995239\n",
      "-0.9466612339019775\n",
      "-0.9471583962440491\n",
      "-0.9476547837257385\n"
     ]
    },
    {
     "name": "stderr",
     "output_type": "stream",
     "text": [
      " 75%|███████▌  | 1504/2000 [00:21<00:07, 63.58it/s]"
     ]
    },
    {
     "name": "stdout",
     "output_type": "stream",
     "text": [
      "-0.9481503963470459\n",
      "-0.9486452341079712\n",
      "-0.9491392374038696\n",
      "-0.949632465839386\n",
      "-0.9501250982284546\n",
      "-0.9506168961524963\n",
      "-0.9511078000068665\n",
      "-0.9515979290008545\n",
      "-0.9520875215530396\n",
      "-0.9524785280227661\n",
      "-0.9528689980506897\n",
      "-0.9532590508460999\n",
      "-0.9536486268043518\n",
      "-0.9540376663208008\n",
      "-0.954426109790802\n",
      "-0.9548141956329346\n",
      "-0.9552018046379089\n"
     ]
    },
    {
     "name": "stderr",
     "output_type": "stream",
     "text": [
      " 76%|███████▌  | 1522/2000 [00:21<00:06, 75.18it/s]"
     ]
    },
    {
     "name": "stdout",
     "output_type": "stream",
     "text": [
      "-0.9555889368057251\n",
      "-0.9559756517410278\n",
      "-0.9563618898391724\n",
      "-0.9567475914955139\n",
      "-0.9571329355239868\n",
      "-0.957517683506012\n",
      "-0.9579021334648132\n",
      "-0.9582861661911011\n",
      "-0.9586696028709412\n",
      "-0.959052562713623\n",
      "-0.9594351649284363\n",
      "-0.9598173499107361\n",
      "-0.9601990580558777\n",
      "-0.9605803489685059\n",
      "-0.9609611630439758\n",
      "-0.9613415598869324\n",
      "-0.9617215394973755\n",
      "-0.9621009826660156\n"
     ]
    },
    {
     "name": "stderr",
     "output_type": "stream",
     "text": [
      " 77%|███████▋  | 1540/2000 [00:22<00:05, 78.90it/s]"
     ]
    },
    {
     "name": "stdout",
     "output_type": "stream",
     "text": [
      "-0.9624801278114319\n",
      "-0.9628586769104004\n",
      "-0.9632369875907898\n",
      "-0.963614821434021\n",
      "-0.9639919996261597\n",
      "-0.964368999004364\n",
      "-0.9647454023361206\n",
      "-0.9651214480400085\n",
      "-0.9654970169067383\n",
      "-0.9658721685409546\n",
      "-0.9662468433380127\n",
      "-0.9666212201118469\n",
      "-0.9669950604438782\n",
      "-0.9673685431480408\n",
      "-0.9677414298057556\n",
      "-0.9681139588356018\n",
      "-0.9684860110282898\n"
     ]
    },
    {
     "name": "stderr",
     "output_type": "stream",
     "text": [
      " 78%|███████▊  | 1558/2000 [00:22<00:05, 80.26it/s]"
     ]
    },
    {
     "name": "stdout",
     "output_type": "stream",
     "text": [
      "-0.9688577055931091\n",
      "-0.969228982925415\n",
      "-0.9695997834205627\n",
      "-0.9699702262878418\n",
      "-0.9703400731086731\n",
      "-0.9707096219062805\n",
      "-0.971078634262085\n",
      "-0.9714472889900208\n",
      "-0.9718155264854431\n",
      "-0.972183346748352\n",
      "-0.972550630569458\n",
      "-0.9729174971580505\n",
      "-0.9732840061187744\n",
      "-0.9736500978469849\n",
      "-0.9740155935287476\n",
      "-0.9743808507919312\n",
      "-0.9747456312179565\n"
     ]
    },
    {
     "name": "stderr",
     "output_type": "stream",
     "text": [
      " 79%|███████▉  | 1576/2000 [00:22<00:05, 78.79it/s]"
     ]
    },
    {
     "name": "stdout",
     "output_type": "stream",
     "text": [
      "-0.9751098155975342\n",
      "-0.9754737019538879\n",
      "-0.9758371710777283\n",
      "-0.9762001037597656\n",
      "-0.9765627384185791\n",
      "-0.9769247770309448\n",
      "-0.9772864580154419\n",
      "-0.9776477217674255\n",
      "-0.9780086278915405\n",
      "-0.9783690571784973\n",
      "-0.9787290096282959\n",
      "-0.9790884852409363\n",
      "-0.9794475436210632\n",
      "-0.9798063039779663\n",
      "-0.9801645278930664\n"
     ]
    },
    {
     "name": "stderr",
     "output_type": "stream",
     "text": [
      "\r",
      " 79%|███████▉  | 1584/2000 [00:22<00:06, 68.35it/s]"
     ]
    },
    {
     "name": "stdout",
     "output_type": "stream",
     "text": [
      "-0.9805224537849426\n",
      "-0.9808796644210815\n",
      "-0.9812366962432861\n",
      "-0.9815931916236877\n",
      "-0.9819491505622864\n",
      "-0.9823049306869507\n",
      "-0.9826600551605225\n",
      "-0.9830148220062256\n",
      "-0.9833691120147705\n",
      "-0.9837230443954468\n",
      "-0.9840764403343201\n",
      "-0.9844295382499695\n"
     ]
    },
    {
     "name": "stderr",
     "output_type": "stream",
     "text": [
      " 80%|████████  | 1600/2000 [00:22<00:05, 67.31it/s]"
     ]
    },
    {
     "name": "stdout",
     "output_type": "stream",
     "text": [
      "-0.9847821593284607\n",
      "-0.9851342439651489\n",
      "-0.9854860901832581\n",
      "-0.985837459564209\n",
      "-0.9861882328987122\n",
      "-0.9865387082099915\n",
      "-0.9868887066841125\n",
      "-0.9872382879257202\n",
      "-0.9875873923301697\n",
      "-0.9879361391067505\n",
      "-0.9882844686508179\n",
      "-0.9886322617530823\n",
      "-0.9889797568321228\n",
      "-0.9893267750740051\n",
      "-0.9896732568740845\n"
     ]
    },
    {
     "name": "stderr",
     "output_type": "stream",
     "text": [
      " 81%|████████  | 1617/2000 [00:23<00:05, 73.42it/s]"
     ]
    },
    {
     "name": "stdout",
     "output_type": "stream",
     "text": [
      "-0.9900194406509399\n",
      "-0.9903650879859924\n",
      "-0.9907103776931763\n",
      "-0.9910551905632019\n",
      "-0.9913996458053589\n",
      "-0.9917435646057129\n",
      "-0.9920870661735535\n",
      "-0.9924303293228149\n",
      "-0.9927730560302734\n",
      "-0.9931153655052185\n",
      "-0.9934571385383606\n",
      "-0.9937986135482788\n",
      "-0.994139552116394\n",
      "-0.9944801330566406\n",
      "-0.994820237159729\n",
      "-0.995159924030304\n",
      "-0.995499312877655\n"
     ]
    },
    {
     "name": "stderr",
     "output_type": "stream",
     "text": [
      "\r",
      " 81%|████████▏ | 1626/2000 [00:23<00:04, 75.43it/s]"
     ]
    },
    {
     "name": "stdout",
     "output_type": "stream",
     "text": [
      "-0.9958381056785583\n",
      "-0.9961766004562378\n",
      "-0.9965145587921143\n",
      "-0.9968522191047668\n",
      "-0.997189462184906\n",
      "-0.9975261688232422\n",
      "-0.9978625178337097\n",
      "-0.9981983304023743\n",
      "-0.9985339641571045\n",
      "-0.9988690614700317\n",
      "-0.9992038011550903\n",
      "-0.9995378255844116\n",
      "-0.9998716115951538\n"
     ]
    },
    {
     "name": "stderr",
     "output_type": "stream",
     "text": [
      " 82%|████████▏ | 1641/2000 [00:23<00:05, 66.58it/s]"
     ]
    },
    {
     "name": "stdout",
     "output_type": "stream",
     "text": [
      "-1.000205159187317\n",
      "-1.0005381107330322\n",
      "-1.0008705854415894\n",
      "-1.0012027025222778\n",
      "-1.0015344619750977\n",
      "-1.0018657445907593\n",
      "-1.0021965503692627\n",
      "-1.002527117729187\n",
      "-1.0028570890426636\n",
      "-1.0031867027282715\n",
      "-1.0035158395767212\n",
      "-1.0038447380065918\n",
      "-1.0041731595993042\n",
      "-1.0045011043548584\n",
      "-1.004828691482544\n"
     ]
    },
    {
     "name": "stderr",
     "output_type": "stream",
     "text": [
      " 83%|████████▎ | 1657/2000 [00:23<00:04, 69.72it/s]"
     ]
    },
    {
     "name": "stdout",
     "output_type": "stream",
     "text": [
      "-1.0051558017730713\n",
      "-1.00548255443573\n",
      "-1.0058088302612305\n",
      "-1.0061348676681519\n",
      "-1.0064603090286255\n",
      "-1.006785273551941\n",
      "-1.0071099996566772\n",
      "-1.0074342489242554\n",
      "-1.0077581405639648\n",
      "-1.0080815553665161\n",
      "-1.0084047317504883\n",
      "-1.0087273120880127\n",
      "-1.009049415588379\n"
     ]
    },
    {
     "name": "stderr",
     "output_type": "stream",
     "text": [
      " 84%|████████▎ | 1672/2000 [00:23<00:05, 61.57it/s]"
     ]
    },
    {
     "name": "stdout",
     "output_type": "stream",
     "text": [
      "-1.0093713998794556\n",
      "-1.0096927881240845\n",
      "-1.0100136995315552\n",
      "-1.0103343725204468\n",
      "-1.0106546878814697\n",
      "-1.010974407196045\n",
      "-1.011293888092041\n",
      "-1.0116130113601685\n",
      "-1.0119315385818481\n",
      "-1.0122497081756592\n",
      "-1.0125675201416016\n",
      "-1.0128849744796753\n"
     ]
    },
    {
     "name": "stderr",
     "output_type": "stream",
     "text": [
      "\r",
      " 84%|████████▍ | 1679/2000 [00:24<00:05, 59.26it/s]"
     ]
    },
    {
     "name": "stdout",
     "output_type": "stream",
     "text": [
      "-1.0132019519805908\n",
      "-1.0135185718536377\n",
      "-1.013834834098816\n",
      "-1.0141507387161255\n",
      "-1.0144662857055664\n",
      "-1.0147813558578491\n",
      "-1.0150959491729736\n",
      "-1.015410304069519\n",
      "-1.0157241821289062\n",
      "-1.0160378217697144\n",
      "-1.0163508653640747\n",
      "-1.0166635513305664\n"
     ]
    },
    {
     "name": "stderr",
     "output_type": "stream",
     "text": [
      " 85%|████████▍ | 1692/2000 [00:24<00:05, 57.55it/s]"
     ]
    },
    {
     "name": "stdout",
     "output_type": "stream",
     "text": [
      "-1.0169758796691895\n",
      "-1.0172879695892334\n",
      "-1.0175995826721191\n",
      "-1.0179107189178467\n",
      "-1.0182214975357056\n",
      "-1.0185319185256958\n",
      "-1.018842101097107\n",
      "-1.0191518068313599\n",
      "-1.0194610357284546\n",
      "-1.0197700262069702\n",
      "-1.0200785398483276\n",
      "-1.0203866958618164\n",
      "-1.020694613456726\n",
      "-1.0210020542144775\n"
     ]
    },
    {
     "name": "stderr",
     "output_type": "stream",
     "text": [
      " 85%|████████▌ | 1709/2000 [00:24<00:04, 67.81it/s]"
     ]
    },
    {
     "name": "stdout",
     "output_type": "stream",
     "text": [
      "-1.0213090181350708\n",
      "-1.021615743637085\n",
      "-1.0219218730926514\n",
      "-1.0222280025482178\n",
      "-1.0225335359573364\n",
      "-1.0228387117385864\n",
      "-1.0231435298919678\n",
      "-1.0234479904174805\n",
      "-1.023752212524414\n",
      "-1.0240559577941895\n",
      "-1.0243594646453857\n",
      "-1.0246622562408447\n",
      "-1.0249650478363037\n",
      "-1.0252673625946045\n",
      "-1.0255694389343262\n",
      "-1.0258709192276\n",
      "-1.0261722803115845\n"
     ]
    },
    {
     "name": "stderr",
     "output_type": "stream",
     "text": [
      " 86%|████████▋ | 1726/2000 [00:24<00:04, 65.96it/s]"
     ]
    },
    {
     "name": "stdout",
     "output_type": "stream",
     "text": [
      "-1.026473045349121\n",
      "-1.026773452758789\n",
      "-1.0270737409591675\n",
      "-1.0273736715316772\n",
      "-1.0276730060577393\n",
      "-1.0279723405838013\n",
      "-1.0282710790634155\n",
      "-1.0285694599151611\n",
      "-1.0288676023483276\n",
      "-1.0291653871536255\n",
      "-1.0294626951217651\n"
     ]
    },
    {
     "name": "stderr",
     "output_type": "stream",
     "text": [
      "\r",
      " 87%|████████▋ | 1733/2000 [00:24<00:04, 59.63it/s]"
     ]
    },
    {
     "name": "stdout",
     "output_type": "stream",
     "text": [
      "-1.0297597646713257\n",
      "-1.0300565958023071\n",
      "-1.0303529500961304\n",
      "-1.030648946762085\n",
      "-1.030944585800171\n",
      "-1.0312401056289673\n",
      "-1.0315351486206055\n",
      "-1.0318297147750854\n",
      "-1.0321242809295654\n",
      "-1.0324182510375977\n",
      "-1.0327119827270508\n"
     ]
    },
    {
     "name": "stderr",
     "output_type": "stream",
     "text": [
      " 87%|████████▋ | 1746/2000 [00:25<00:04, 54.63it/s]"
     ]
    },
    {
     "name": "stdout",
     "output_type": "stream",
     "text": [
      "-1.0330053567886353\n",
      "-1.033298373222351\n",
      "-1.0335911512374878\n",
      "-1.0338834524154663\n",
      "-1.0341755151748657\n",
      "-1.0344672203063965\n",
      "-1.0347588062286377\n",
      "-1.0350500345230103\n",
      "-1.035340666770935\n",
      "-1.0356311798095703\n",
      "-1.035921335220337\n"
     ]
    },
    {
     "name": "stderr",
     "output_type": "stream",
     "text": [
      " 88%|████████▊ | 1759/2000 [00:25<00:04, 56.18it/s]"
     ]
    },
    {
     "name": "stdout",
     "output_type": "stream",
     "text": [
      "-1.0362111330032349\n",
      "-1.0365006923675537\n",
      "-1.036789894104004\n",
      "-1.0370787382125854\n",
      "-1.037367343902588\n",
      "-1.0376555919647217\n",
      "-1.0379436016082764\n",
      "-1.0382312536239624\n",
      "-1.0385185480117798\n",
      "-1.0388057231903076\n",
      "-1.0390923023223877\n",
      "-1.0393788814544678\n",
      "-1.0396649837493896\n"
     ]
    },
    {
     "name": "stderr",
     "output_type": "stream",
     "text": [
      " 89%|████████▊ | 1774/2000 [00:25<00:03, 64.46it/s]"
     ]
    },
    {
     "name": "stdout",
     "output_type": "stream",
     "text": [
      "-1.0399507284164429\n",
      "-1.0402363538742065\n",
      "-1.0405216217041016\n",
      "-1.040806531906128\n",
      "-1.0410913228988647\n",
      "-1.0413755178451538\n",
      "-1.0416595935821533\n",
      "-1.0419434309005737\n",
      "-1.042226791381836\n",
      "-1.042509913444519\n",
      "-1.0427929162979126\n",
      "-1.043075442314148\n",
      "-1.0433577299118042\n",
      "-1.0436397790908813\n",
      "-1.0439215898513794\n",
      "-1.0442030429840088\n",
      "-1.044484257698059\n"
     ]
    },
    {
     "name": "stderr",
     "output_type": "stream",
     "text": [
      " 89%|████████▉ | 1789/2000 [00:25<00:03, 65.42it/s]"
     ]
    },
    {
     "name": "stdout",
     "output_type": "stream",
     "text": [
      "-1.0447651147842407\n",
      "-1.0450458526611328\n",
      "-1.0453259944915771\n",
      "-1.0456061363220215\n",
      "-1.0458859205245972\n",
      "-1.0461654663085938\n",
      "-1.0464447736740112\n",
      "-1.04672372341156\n",
      "-1.0470021963119507\n",
      "-1.0472807884216309\n",
      "-1.0475589036941528\n",
      "-1.0478368997573853\n",
      "-1.04811429977417\n"
     ]
    },
    {
     "name": "stderr",
     "output_type": "stream",
     "text": [
      " 90%|█████████ | 1803/2000 [00:26<00:03, 61.19it/s]"
     ]
    },
    {
     "name": "stdout",
     "output_type": "stream",
     "text": [
      "-1.0483918190002441\n",
      "-1.0486688613891602\n",
      "-1.0489457845687866\n",
      "-1.0492223501205444\n",
      "-1.049498438835144\n",
      "-1.049774408340454\n",
      "-1.0500502586364746\n",
      "-1.0503257513046265\n",
      "-1.0506008863449097\n",
      "-1.0508759021759033\n",
      "-1.0511506795883179\n",
      "-1.0514252185821533\n"
     ]
    },
    {
     "name": "stderr",
     "output_type": "stream",
     "text": [
      " 91%|█████████ | 1818/2000 [00:26<00:02, 66.31it/s]"
     ]
    },
    {
     "name": "stdout",
     "output_type": "stream",
     "text": [
      "-1.0516993999481201\n",
      "-1.0519734621047974\n",
      "-1.052247166633606\n",
      "-1.0525203943252563\n",
      "-1.0527937412261963\n",
      "-1.0530667304992676\n",
      "-1.0533392429351807\n",
      "-1.0536118745803833\n",
      "-1.0538840293884277\n",
      "-1.0541560649871826\n",
      "-1.0544277429580688\n",
      "-1.054699182510376\n",
      "-1.054970383644104\n",
      "-1.055241346359253\n",
      "-1.0555123090744019\n",
      "-1.055782675743103\n"
     ]
    },
    {
     "name": "stderr",
     "output_type": "stream",
     "text": [
      " 92%|█████████▏| 1834/2000 [00:26<00:02, 71.74it/s]"
     ]
    },
    {
     "name": "stdout",
     "output_type": "stream",
     "text": [
      "-1.0560529232025146\n",
      "-1.0563229322433472\n",
      "-1.0565927028656006\n",
      "-1.056862235069275\n",
      "-1.0571316480636597\n",
      "-1.0574007034301758\n",
      "-1.0576695203781128\n",
      "-1.0579379796981812\n",
      "-1.05820631980896\n",
      "-1.0584745407104492\n",
      "-1.0587425231933594\n",
      "-1.0590101480484009\n",
      "-1.0592776536941528\n",
      "-1.0595446825027466\n",
      "-1.0598117113113403\n",
      "-1.060078501701355\n",
      "-1.0603450536727905\n"
     ]
    },
    {
     "name": "stderr",
     "output_type": "stream",
     "text": [
      " 93%|█████████▎| 1851/2000 [00:26<00:01, 76.23it/s]"
     ]
    },
    {
     "name": "stdout",
     "output_type": "stream",
     "text": [
      "-1.0606112480163574\n",
      "-1.0608773231506348\n",
      "-1.0611432790756226\n",
      "-1.0614088773727417\n",
      "-1.0616742372512817\n",
      "-1.0619393587112427\n",
      "-1.0622042417526245\n",
      "-1.0624690055847168\n",
      "-1.0627334117889404\n",
      "-1.062997817993164\n",
      "-1.063261866569519\n",
      "-1.063525676727295\n",
      "-1.0637893676757812\n",
      "-1.064052700996399\n",
      "-1.064315676689148\n",
      "-1.0645787715911865\n"
     ]
    },
    {
     "name": "stderr",
     "output_type": "stream",
     "text": [
      "\r",
      " 93%|█████████▎| 1859/2000 [00:26<00:02, 67.73it/s]"
     ]
    },
    {
     "name": "stdout",
     "output_type": "stream",
     "text": [
      "-1.0648415088653564\n",
      "-1.0651040077209473\n",
      "-1.065366268157959\n",
      "-1.0656282901763916\n",
      "-1.0658903121948242\n",
      "-1.0661518573760986\n",
      "-1.0664132833480835\n",
      "-1.0666744709014893\n",
      "-1.0669353008270264\n",
      "-1.067196249961853\n",
      "-1.067456841468811\n"
     ]
    },
    {
     "name": "stderr",
     "output_type": "stream",
     "text": [
      " 94%|█████████▎| 1873/2000 [00:27<00:02, 61.31it/s]"
     ]
    },
    {
     "name": "stdout",
     "output_type": "stream",
     "text": [
      "-1.0677170753479004\n",
      "-1.0679773092269897\n",
      "-1.068237066268921\n",
      "-1.0684969425201416\n",
      "-1.0687564611434937\n",
      "-1.069015622138977\n",
      "-1.0692747831344604\n",
      "-1.0695335865020752\n",
      "-1.0697922706604004\n",
      "-1.070050835609436\n",
      "-1.0703089237213135\n"
     ]
    },
    {
     "name": "stderr",
     "output_type": "stream",
     "text": [
      " 94%|█████████▍| 1887/2000 [00:27<00:01, 59.84it/s]"
     ]
    },
    {
     "name": "stdout",
     "output_type": "stream",
     "text": [
      "-1.0705668926239014\n",
      "-1.0708247423171997\n",
      "-1.071082353591919\n",
      "-1.071339726448059\n",
      "-1.0715968608856201\n",
      "-1.071853756904602\n",
      "-1.0721105337142944\n",
      "-1.0723669528961182\n",
      "-1.072623372077942\n",
      "-1.0728795528411865\n",
      "-1.073135256767273\n",
      "-1.0733911991119385\n",
      "-1.0736465454101562\n"
     ]
    },
    {
     "name": "stderr",
     "output_type": "stream",
     "text": [
      "\r",
      " 95%|█████████▍| 1894/2000 [00:27<00:01, 56.00it/s]"
     ]
    },
    {
     "name": "stdout",
     "output_type": "stream",
     "text": [
      "-1.073901891708374\n",
      "-1.0741568803787231\n",
      "-1.0744117498397827\n",
      "-1.0746663808822632\n",
      "-1.0749207735061646\n",
      "-1.0751750469207764\n",
      "-1.075429081916809\n",
      "-1.0756827592849731\n",
      "-1.0759363174438477\n",
      "-1.0761897563934326\n"
     ]
    },
    {
     "name": "stderr",
     "output_type": "stream",
     "text": [
      " 95%|█████████▌| 1906/2000 [00:27<00:02, 46.85it/s]"
     ]
    },
    {
     "name": "stdout",
     "output_type": "stream",
     "text": [
      "-1.0764429569244385\n",
      "-1.0766957998275757\n",
      "-1.076948642730713\n",
      "-1.0772011280059814\n",
      "-1.0774534940719604\n",
      "-1.0777055025100708\n",
      "-1.077957272529602\n",
      "-1.0782092809677124\n"
     ]
    },
    {
     "name": "stderr",
     "output_type": "stream",
     "text": [
      " 96%|█████████▌| 1920/2000 [00:28<00:01, 55.92it/s]"
     ]
    },
    {
     "name": "stdout",
     "output_type": "stream",
     "text": [
      "-1.078460454940796\n",
      "-1.0787118673324585\n",
      "-1.078962802886963\n",
      "-1.0792137384414673\n",
      "-1.0794644355773926\n",
      "-1.0797146558761597\n",
      "-1.0799649953842163\n",
      "-1.0802148580551147\n",
      "-1.0804646015167236\n",
      "-1.080714225769043\n",
      "-1.0809637308120728\n",
      "-1.0812128782272339\n",
      "-1.0814616680145264\n",
      "-1.0817103385925293\n"
     ]
    },
    {
     "name": "stderr",
     "output_type": "stream",
     "text": [
      "\r",
      " 96%|█████████▋| 1926/2000 [00:28<00:01, 53.30it/s]"
     ]
    },
    {
     "name": "stdout",
     "output_type": "stream",
     "text": [
      "-1.0819587707519531\n",
      "-1.0822070837020874\n",
      "-1.0824552774429321\n",
      "-1.0827031135559082\n",
      "-1.0829505920410156\n",
      "-1.0831981897354126\n",
      "-1.0834451913833618\n",
      "-1.0836923122406006\n",
      "-1.0839390754699707\n",
      "-1.0841856002807617\n",
      "-1.0844318866729736\n",
      "-1.084678053855896\n",
      "-1.0849238634109497\n"
     ]
    },
    {
     "name": "stderr",
     "output_type": "stream",
     "text": [
      " 97%|█████████▋| 1943/2000 [00:28<00:00, 66.58it/s]"
     ]
    },
    {
     "name": "stdout",
     "output_type": "stream",
     "text": [
      "-1.0851696729660034\n",
      "-1.085415005683899\n",
      "-1.0856602191925049\n",
      "-1.0859053134918213\n",
      "-1.086150050163269\n",
      "-1.0863946676254272\n",
      "-1.0866389274597168\n",
      "-1.0868829488754272\n",
      "-1.0871269702911377\n",
      "-1.08737051486969\n",
      "-1.0876140594482422\n",
      "-1.0878573656082153\n",
      "-1.0881004333496094\n",
      "-1.0883430242538452\n",
      "-1.0885857343673706\n",
      "-1.0888279676437378\n",
      "-1.0890700817108154\n",
      "-1.089311957359314\n"
     ]
    },
    {
     "name": "stderr",
     "output_type": "stream",
     "text": [
      " 98%|█████████▊| 1960/2000 [00:28<00:00, 72.24it/s]"
     ]
    },
    {
     "name": "stdout",
     "output_type": "stream",
     "text": [
      "-1.0895534753799438\n",
      "-1.0897949934005737\n",
      "-1.090036153793335\n",
      "-1.0902773141860962\n",
      "-1.0905179977416992\n",
      "-1.0907583236694336\n",
      "-1.090998649597168\n",
      "-1.0912388563156128\n",
      "-1.0914785861968994\n",
      "-1.0917181968688965\n",
      "-1.091957449913025\n",
      "-1.0921967029571533\n",
      "-1.092435598373413\n"
     ]
    },
    {
     "name": "stderr",
     "output_type": "stream",
     "text": [
      " 99%|█████████▉| 1975/2000 [00:28<00:00, 61.23it/s]"
     ]
    },
    {
     "name": "stdout",
     "output_type": "stream",
     "text": [
      "-1.0926742553710938\n",
      "-1.0929126739501953\n",
      "-1.0931508541107178\n",
      "-1.0933886766433716\n",
      "-1.0936263799667358\n",
      "-1.093863844871521\n",
      "-1.094101071357727\n",
      "-1.094338059425354\n",
      "-1.0945749282836914\n",
      "-1.0948113203048706\n",
      "-1.0950477123260498\n"
     ]
    },
    {
     "name": "stderr",
     "output_type": "stream",
     "text": [
      "\r",
      " 99%|█████████▉| 1982/2000 [00:29<00:00, 57.98it/s]"
     ]
    },
    {
     "name": "stdout",
     "output_type": "stream",
     "text": [
      "-1.0952837467193604\n",
      "-1.0955195426940918\n",
      "-1.0957552194595337\n",
      "-1.095990538597107\n",
      "-1.0962255001068115\n",
      "-1.0964603424072266\n",
      "-1.0966949462890625\n",
      "-1.0969291925430298\n",
      "-1.0971635580062866\n",
      "-1.0973974466323853\n",
      "-1.0976308584213257\n"
     ]
    },
    {
     "name": "stderr",
     "output_type": "stream",
     "text": [
      "100%|██████████| 2000/2000 [00:29<00:00, 68.28it/s]"
     ]
    },
    {
     "name": "stdout",
     "output_type": "stream",
     "text": [
      "-1.0978642702102661\n",
      "-1.0980974435806274\n",
      "-1.0983303785324097\n",
      "-1.0985630750656128\n",
      "-1.0987954139709473\n",
      "-1.0990276336669922\n",
      "-1.099259614944458\n",
      "-1.0994912385940552\n",
      "-1.0997227430343628\n",
      "-1.0999537706375122\n",
      "-1.1001847982406616\n",
      "-1.1004153490066528\n",
      "-1.1006457805633545\n",
      "-1.100875973701477\n"
     ]
    },
    {
     "name": "stderr",
     "output_type": "stream",
     "text": [
      "\n"
     ]
    },
    {
     "data": {
      "image/png": "[encoded data removed]",
      "text/plain": [
       "<Figure size 432x288 with 1 Axes>"
      ]
     },
     "metadata": {},
     "output_type": "display_data"
    }
   ],
   "source": [
    "train(mctm, y)"
   ]
  },
  {
   "cell_type": "code",
   "execution_count": 6,
   "metadata": {
    "pycharm": {
     "name": "#%%\n"
    }
   },
   "outputs": [
    {
     "data": {
      "image/png": "[encoded data removed]",
      "text/plain": [
       "<Figure size 432x288 with 1 Axes>"
      ]
     },
     "metadata": {
      "needs_background": "light"
     },
     "output_type": "display_data"
    }
   ],
   "source": [
    "z, log_d = mctm.forward(y)\n",
    "plt.hist(z[:,0].detach().numpy(), bins=100)\n",
    "plt.hist(z[:,1].detach().numpy(), bins=100)\n",
    "plt.show()"
   ]
  },
  {
   "cell_type": "code",
   "execution_count": 7,
   "metadata": {
    "pycharm": {
     "name": "#%%\n"
    }
   },
   "outputs": [
    {
     "ename": "TypeError",
     "evalue": "approximate_inverse() got an unexpected keyword argument 'min_val'",
     "output_type": "error",
     "traceback": [
      "\u001B[0;31m---------------------------------------------------------------------------\u001B[0m",
      "\u001B[0;31mTypeError\u001B[0m                                 Traceback (most recent call last)",
      "\u001B[0;32m/var/folders/cz/5x11gwq96ks_cqwqdky646540000gn/T/ipykernel_18242/2158698975.py\u001B[0m in \u001B[0;36m<module>\u001B[0;34m\u001B[0m\n\u001B[0;32m----> 1\u001B[0;31m \u001B[0mmctm\u001B[0m\u001B[0;34m.\u001B[0m\u001B[0mapproximate_inverse\u001B[0m\u001B[0;34m(\u001B[0m\u001B[0my\u001B[0m\u001B[0;34m,\u001B[0m \u001B[0mmin_val\u001B[0m\u001B[0;34m=\u001B[0m \u001B[0mtorch\u001B[0m\u001B[0;34m.\u001B[0m\u001B[0mFloatTensor\u001B[0m\u001B[0;34m(\u001B[0m\u001B[0;34m[\u001B[0m\u001B[0;34m-\u001B[0m\u001B[0;36m7\u001B[0m\u001B[0;34m,\u001B[0m\u001B[0;34m-\u001B[0m\u001B[0;36m7\u001B[0m\u001B[0;34m]\u001B[0m\u001B[0;34m)\u001B[0m\u001B[0;34m,\u001B[0m \u001B[0mmax_val\u001B[0m\u001B[0;34m=\u001B[0m\u001B[0mtorch\u001B[0m\u001B[0;34m.\u001B[0m\u001B[0mFloatTensor\u001B[0m\u001B[0;34m(\u001B[0m\u001B[0;34m[\u001B[0m\u001B[0;36m7\u001B[0m\u001B[0;34m,\u001B[0m\u001B[0;36m7\u001B[0m\u001B[0;34m]\u001B[0m\u001B[0;34m)\u001B[0m\u001B[0;34m)\u001B[0m\u001B[0;34m\u001B[0m\u001B[0;34m\u001B[0m\u001B[0m\n\u001B[0m\u001B[1;32m      2\u001B[0m \u001B[0;31m# use cubic splines for approx?\u001B[0m\u001B[0;34m\u001B[0m\u001B[0;34m\u001B[0m\u001B[0m\n",
      "\u001B[0;31mTypeError\u001B[0m: approximate_inverse() got an unexpected keyword argument 'min_val'"
     ]
    }
   ],
   "source": [
    "polynomial_range = torch.FloatTensor([[-10, -10],\n",
    "                                          [10, 10]])\n",
    "mctm.approximate_inverse(y, polynomial_range= torch.FloatTensor([-7,-7]), max_val=torch.FloatTensor([7,7]))\n",
    "# use cubic splines for approx?"
   ]
  },
  {
   "cell_type": "code",
   "execution_count": 8,
   "metadata": {
    "pycharm": {
     "name": "#%%\n"
    }
   },
   "outputs": [
    {
     "data": {
      "image/png": "[encoded data removed]",
      "text/plain": [
       "<Figure size 600x600 with 1 Axes>"
      ]
     },
     "metadata": {},
     "output_type": "display_data"
    }
   ],
   "source": [
    "evaluate(mctm)"
   ]
  },
  {
   "cell_type": "code",
   "execution_count": 10,
   "metadata": {
    "pycharm": {
     "name": "#%%\n"
    }
   },
   "outputs": [],
   "source": [
    "def multivariable_lambda_prediction(input, degree, number_variables, params, min_val, max_val):\n",
    "\n",
    "    #steps\n",
    "    output = input.clone()\n",
    "    # loop over all variables\n",
    "    params_index = 1\n",
    "    for var_num in range(number_variables):\n",
    "        # loop over all before variables\n",
    "        for covar_num in range(var_num-1):\n",
    "\n",
    "            min_val = torch.min(input[:,covar_num])\n",
    "            max_val = torch.max(input[:,covar_num])\n",
    "\n",
    "            # compute lambda fct value using before variable\n",
    "            lambda_value = bernstein_prediction(params[:, params_index], input[:,covar_num], degree, min_val, max_val, monotonically_increasing=False, derivativ=0)\n",
    "\n",
    "            # update\n",
    "            # Cloning issue?\n",
    "            output[:,var_num] += lambda_value * input[:,covar_num]\n",
    "\n",
    "            params_index += 1\n",
    "\n",
    "    return output\n",
    "\n",
    "def inv_multivariable_lambda_prediction(input, degree, number_variables, params, min_val, max_val):\n",
    "    return 2\n",
    "\n",
    "class Decorrelation(nn.Module):\n",
    "    def __init__(self, degree, number_variables):\n",
    "        super().__init__()\n",
    "        self.degree  = degree\n",
    "        self.number_variables = number_variables\n",
    "        self.num_lambdas = number_variables * (number_variables-1) / 2 - number_variables\n",
    "        self.params = nn.Parameter(torch.reshape(p,(self.degree+1, self.num_lambdas)))\n",
    "\n",
    "    def forward(self, input, log_d = 0, inverse = False):\n",
    "        if not inverse:\n",
    "            z     = multivariable_lambda_prediction(input, self.degree, self.number_variables, self.params, min_val, max_val)\n",
    "        else:\n",
    "            z     = inv_multivariable_lambda_prediction(input, self.degree, self.number_variables, self.params, min_val, max_val)\n",
    "        return z, log_d\n",
    "\n",
    "    def __repr__(self):\n",
    "        return \"Affine(alpha={alpha:.2f}, beta={beta:.2f})\".format(alpha = self.alpha[0], beta = self.beta[0])"
   ]
  },
  {
   "cell_type": "code",
   "execution_count": null,
   "metadata": {
    "pycharm": {
     "name": "#%%\n"
    }
   },
   "outputs": [],
   "source": []
  }
 ],
 "metadata": {
  "kernelspec": {
   "display_name": "Python 3 (ipykernel)",
   "language": "python",
   "name": "python3"
  },
  "language_info": {
   "codemirror_mode": {
    "name": "ipython",
    "version": 3
   },
   "file_extension": ".py",
   "mimetype": "text/x-python",
   "name": "python",
   "nbconvert_exporter": "python",
   "pygments_lexer": "ipython3",
   "version": "3.9.7"
  }
 },
 "nbformat": 4,
 "nbformat_minor": 1
}