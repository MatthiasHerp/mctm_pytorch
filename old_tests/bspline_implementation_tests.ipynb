{
 "cells": [
  {
   "cell_type": "code",
   "execution_count": 5,
   "metadata": {},
   "outputs": [],
   "source": [
    "import numpy as np\n",
    "import time\n",
    "#import scipy.interpolate\n",
    "import torch\n",
    "#from bspline.BSpline import BSpline\n",
    "k = 2\n",
    "t = torch.FloatTensor([0, 1, 2, 3, 4, 5, 6])\n",
    "c = torch.FloatTensor([-1, 2, 0, -1])\n",
    "data = torch.FloatTensor([2.5,3])"
   ]
  },
  {
   "cell_type": "code",
   "execution_count": 163,
   "metadata": {
    "pycharm": {
     "name": "#%%\n"
    }
   },
   "outputs": [
    {
     "data": {
      "text/plain": "0.0057229999999997005"
     },
     "execution_count": 163,
     "metadata": {},
     "output_type": "execute_result"
    }
   ],
   "source": [
    "#Code to test how fast different implementations are\n",
    "def B(x, k, i, t):\n",
    "    if k == 0:\n",
    "       return 1.0 if t[i] <= x < t[i+1] else 0.0\n",
    "    if t[i+k] == t[i]:\n",
    "       c1 = 0.0\n",
    "    else:\n",
    "       c1 = (x - t[i])/(t[i+k] - t[i]) * B(x, k-1, i, t)\n",
    "    if t[i+k+1] == t[i+1]:\n",
    "       c2 = 0.0\n",
    "    else:\n",
    "       c2 = (t[i+k+1] - x)/(t[i+k+1] - t[i+1]) * B(x, k-1, i+1, t)\n",
    "    return c1 + c2\n",
    "\n",
    "def bspline(x, t, c, k):\n",
    "    n = len(t) - k - 1\n",
    "    assert (n >= k+1) and (len(c) >= n)\n",
    "    pred = x.clone()\n",
    "    for obs_num in range(x.size(0)):\n",
    "        pred[obs_num] = sum(c[i] * B(x[obs_num], k, i, t) for i in range(n))\n",
    "\n",
    "    return pred\n",
    "\n",
    "#vanilla\n",
    "start = time.process_time()\n",
    "prediction_1 = bspline(data, t, c, k)\n",
    "end = time.process_time()\n",
    "end-start"
   ]
  },
  {
   "cell_type": "code",
   "execution_count": 164,
   "outputs": [
    {
     "data": {
      "text/plain": "tensor([1.3750, 1.0000])"
     },
     "execution_count": 164,
     "metadata": {},
     "output_type": "execute_result"
    }
   ],
   "source": [
    "prediction_1"
   ],
   "metadata": {
    "collapsed": false,
    "pycharm": {
     "name": "#%%\n"
    }
   }
  },
  {
   "cell_type": "code",
   "execution_count": 165,
   "outputs": [
    {
     "data": {
      "text/plain": "tensor([[0.1250, 0.7500, 0.1250, 0.0000],\n        [0.0000, 0.5000, 0.5000, 0.0000]])"
     },
     "execution_count": 165,
     "metadata": {},
     "output_type": "execute_result"
    }
   ],
   "source": [
    "def bspline_basis(x, t, c, k):\n",
    "    n = len(t) - k - 1\n",
    "    #assert (n >= k+1) and (len(c) >= n)\n",
    "    pred = torch.zeros((x.size(0),n))\n",
    "    for obs_num in range(x.size(0)):\n",
    "        for i in range(n):\n",
    "            pred[obs_num,i] = B(x[obs_num], k, i, t)\n",
    "\n",
    "    return pred\n",
    "\n",
    "bspline_basis(data, t, c, k)"
   ],
   "metadata": {
    "collapsed": false,
    "pycharm": {
     "name": "#%%\n"
    }
   }
  },
  {
   "cell_type": "markdown",
   "source": [
    "using fcts of matthias luber"
   ],
   "metadata": {
    "collapsed": false,
    "pycharm": {
     "name": "#%% md\n"
    }
   }
  },
  {
   "cell_type": "code",
   "execution_count": 116,
   "outputs": [],
   "source": [
    "def torch_get_FS(xk):\n",
    "    \"\"\"\n",
    "    Create matrix F required to build the spline base and the penalizing matrix S,\n",
    "    based on a set of knots xk (ascending order). Pretty much directly from p.201 in Wood (2017)\n",
    "    :param xk: knots (for now always np.linspace(x.min(), x.max(), n_knots)\n",
    "    \"\"\"\n",
    "    k = len(xk)\n",
    "    h = torch.diff(xk)\n",
    "    h_shift_up = h[1:]\n",
    "    #probably need another one for shift down to work\n",
    "\n",
    "    D = torch.zeros((k - 2, k))\n",
    "    D[:,:k-2] += (1 / h[:k - 2])*torch.eye(k-2)\n",
    "    D[:,1:k-1] += (-1 / h[:k - 2] - 1 / h_shift_up)*torch.eye(k-2)\n",
    "    D[:,2:k] += (1 / h_shift_up)*torch.eye(k-2)\n",
    "\n",
    "    B = torch.zeros((k - 2, k - 2))\n",
    "    B += ((h[:k - 2] + h_shift_up) / 3) * torch.eye(k-2)\n",
    "    B[:-1,1:] += torch.eye(k-3) * (h_shift_up[:k - 3] / 6)\n",
    "    B[1:, :-1] += torch.eye(k-3) *(h_shift_up[:k - 3] / 6)\n",
    "    F_minus = torch.linalg.inv(B) @ D\n",
    "    F = torch.vstack([torch.zeros(k), F_minus, torch.zeros(k)])\n",
    "    S = D.T @ torch.linalg.inv(B) @ D\n",
    "    return F, S\n",
    "\n",
    "def torch_cr_spl_predict(x, knots, F):\n",
    "    \"\"\"\n",
    "    pretty much the same as cr_spl, this time evaluating it for already given knots and F\n",
    "    (could probably just be integrated into cr_spl)\n",
    "    \"\"\"\n",
    "\n",
    "    n = len(x)\n",
    "    k = len(knots)\n",
    "    base = torch.zeros((n, k))\n",
    "    #print(n,k,base.shape)\n",
    "    for i in range(0, len(x)):\n",
    "        if x[i] < min(knots):\n",
    "            j = 0\n",
    "            h = knots[1] - knots[0]\n",
    "            xik = x[i] - knots[0]\n",
    "            c_jm = -xik * h / 3\n",
    "            c_jp = -xik * h / 6\n",
    "            base[i, :] += c_jm * F[0, :] + c_jp * F[1, :]\n",
    "            base[i, 0] += 1 - xik / h\n",
    "            base[i, 1] += xik / h\n",
    "        elif x[i] > max(knots):\n",
    "            j = len(knots) - 1\n",
    "            h = knots[j] - knots[j - 1]\n",
    "            xik = x[i] - knots[j]\n",
    "            c_jm = xik * h / 6\n",
    "            c_jp = xik * h / 3\n",
    "            base[i, :] += c_jm * F[j - 1, :] + c_jp * F[j, 1]\n",
    "            base[i, j - 1] += -xik / h\n",
    "            base[i, j] += 1 + xik / h\n",
    "        # find interval in which x[i] lies and evaluate accordingly just like in cr_spl\n",
    "        else:\n",
    "\n",
    "            j = torch.searchsorted(knots, x[i])\n",
    "            #print(j)\n",
    "            x_j = knots[j - 1]\n",
    "            x_j1 = knots[j]\n",
    "            h = x_j1 - x_j\n",
    "            a_jm = (x_j1 - x[i]) / h\n",
    "            a_jp = (x[i] - x_j) / h\n",
    "            c_jm = ((x_j1 - x[i]) ** 3 / h - h * (x_j1 - x[i])) / 6\n",
    "            c_jp = ((x[i] - x_j) ** 3 / h - h * (x[i] - x_j)) / 6\n",
    "            base[i, :] += c_jm * F[j - 1, :] + c_jp * F[j, :]\n",
    "            base[i, j - 1] += a_jm\n",
    "            base[i, j] += a_jp\n",
    "    return base"
   ],
   "metadata": {
    "collapsed": false,
    "pycharm": {
     "name": "#%%\n"
    }
   }
  },
  {
   "cell_type": "code",
   "execution_count": 171,
   "outputs": [],
   "source": [
    "F,S = torch_get_FS(t)"
   ],
   "metadata": {
    "collapsed": false,
    "pycharm": {
     "name": "#%%\n"
    }
   }
  },
  {
   "cell_type": "code",
   "execution_count": 172,
   "outputs": [
    {
     "data": {
      "text/plain": "tensor([[ 0.0197, -0.1183,  0.5981,  0.6010, -0.1269,  0.0317, -0.0053],\n        [ 0.0000,  0.0000,  0.0000,  1.0000,  0.0000,  0.0000,  0.0000]])"
     },
     "execution_count": 172,
     "metadata": {},
     "output_type": "execute_result"
    }
   ],
   "source": [
    "torch_cr_spl_predict(data, t, F)"
   ],
   "metadata": {
    "collapsed": false,
    "pycharm": {
     "name": "#%%\n"
    }
   }
  },
  {
   "cell_type": "code",
   "execution_count": 166,
   "outputs": [
    {
     "data": {
      "text/plain": "tensor([-1.,  2.,  0., -1.])"
     },
     "execution_count": 166,
     "metadata": {},
     "output_type": "execute_result"
    }
   ],
   "source": [
    "c"
   ],
   "metadata": {
    "collapsed": false,
    "pycharm": {
     "name": "#%%\n"
    }
   }
  },
  {
   "cell_type": "code",
   "execution_count": 187,
   "outputs": [],
   "source": [
    "c2 = torch.tensor([0,-1., 2.,  0.,   -1, 0])"
   ],
   "metadata": {
    "collapsed": false,
    "pycharm": {
     "name": "#%%\n"
    }
   }
  },
  {
   "cell_type": "code",
   "execution_count": 191,
   "outputs": [
    {
     "name": "stdout",
     "output_type": "stream",
     "text": [
      "Requirement already satisfied: jax in /opt/anaconda3/envs/mctm_pytorch_37/lib/python3.7/site-packages (0.3.25)\r\n",
      "Requirement already satisfied: opt-einsum in /opt/anaconda3/envs/mctm_pytorch_37/lib/python3.7/site-packages (from jax) (3.3.0)\r\n",
      "Requirement already satisfied: typing-extensions in /opt/anaconda3/envs/mctm_pytorch_37/lib/python3.7/site-packages (from jax) (4.4.0)\r\n",
      "Requirement already satisfied: scipy>=1.5 in /opt/anaconda3/envs/mctm_pytorch_37/lib/python3.7/site-packages (from jax) (1.7.3)\r\n",
      "Requirement already satisfied: numpy>=1.20 in /opt/anaconda3/envs/mctm_pytorch_37/lib/python3.7/site-packages (from jax) (1.21.6)\r\n",
      "Note: you may need to restart the kernel to use updated packages.\n"
     ]
    }
   ],
   "source": [
    "pip install jax"
   ],
   "metadata": {
    "collapsed": false,
    "pycharm": {
     "name": "#%%\n"
    }
   }
  },
  {
   "cell_type": "code",
   "execution_count": 192,
   "outputs": [],
   "source": [
    "from functools import partial\n",
    "import jax.numpy as jnp\n",
    "from jax import jacfwd, jit, lax, vmap, Array\n",
    "\n",
    "\n",
    "def _check_equidistant_knots(knots: Array) -> bool:\n",
    "    \"\"\"\n",
    "    Checks if knots are equidistants.\n",
    "    \"\"\"\n",
    "    diff = jnp.diff(knots)\n",
    "\n",
    "    return jnp.allclose(diff, diff[0], 1e-3, 1e-3)\n",
    "\n",
    "\n",
    "def _check_data_range(x: Array, knots: Array, order: int) -> bool:\n",
    "    \"\"\"\n",
    "    Check that values in x are in the range\n",
    "    [knots[order - 1], knots[dim(knots) - order]].\n",
    "    \"\"\"\n",
    "\n",
    "    return (\n",
    "        jnp.min(x) >= knots[order - 1] and jnp.max(x) <= knots[knots.shape[0] - order]\n",
    "    )\n",
    "\n",
    "\n",
    "def _check_b_spline_inputs(x: Array, knots: Array, order: int) -> None:\n",
    "    if not order > 0:\n",
    "        raise ValueError(\"Order must be positive\")\n",
    "    if not _check_equidistant_knots(knots):\n",
    "        raise ValueError(\"Sorted knots are not equidistant\")\n",
    "    if not _check_data_range(x, knots, order):\n",
    "        raise ValueError(\n",
    "            f\"Data values are not in the range \\\n",
    "                [{knots[order - 1]}, {knots[knots.shape[0] - order]}]\"\n",
    "        )\n",
    "\n",
    "\n",
    "@partial(jit, static_argnums=(1, 2))\n",
    "def create_equidistant_knots(x: Array, order: int, internal_k: int) -> Array:\n",
    "    \"\"\"Create the equidistant knots of an (order - 1) B-Spline\n",
    "    given the data and the number of internal knots.\n",
    "    dim(knots) = internal_k + order * 2 - 1\"\"\"\n",
    "    min_x = jnp.min(x)\n",
    "    max_x = jnp.max(x)\n",
    "\n",
    "    internal_knots = jnp.linspace(min_x, max_x, internal_k)\n",
    "\n",
    "    step = internal_knots[1] - internal_knots[0]\n",
    "\n",
    "    left_knots = jnp.linspace(min_x - (step * order), min_x - step, order)\n",
    "    right_knots = jnp.linspace(max_x + step, max_x + (step * order), order)\n",
    "\n",
    "    return jnp.concatenate((left_knots, internal_knots, right_knots))\n",
    "\n",
    "\n",
    "@partial(jit, static_argnums=2)\n",
    "def _build_basis_vector(x: Array, knots: Array, order: int) -> Array:\n",
    "    \"\"\"\n",
    "    Builds a vector of length (dim(knots) - 1).\n",
    "    Each entry i is iterativaly updated. At time m,\n",
    "    the entry i is the evaluation of the basis function\n",
    "    at the observed value for the m-th order and for the i-th knot.\n",
    "    The creation of the matrix needs a row-wise (order) loop (f1)\n",
    "    and a column-wise (knot index) loop (f2).\n",
    "    \"\"\"\n",
    "    k = knots.shape[0] - order\n",
    "    bv = jnp.full(knots.shape[0] - 1, jnp.nan)\n",
    "\n",
    "    def basis_per_order(m, bv):\n",
    "        def basis_per_knot(i, bv):\n",
    "            def base_case(bv):\n",
    "                return bv.at[i].set(\n",
    "                    jnp.where(x >= knots[i], 1.0, 0.0)\n",
    "                    * jnp.where(x < knots[i + 1], 1.0, 0.0)\n",
    "                )\n",
    "\n",
    "            def recursive_case(bv):\n",
    "                b1 = (x - knots[i]) / (knots[i + m] - knots[i]) * bv[i]\n",
    "                b2 = (\n",
    "                    (knots[i + m + 1] - x)\n",
    "                    / (knots[i + m + 1] - knots[i + 1])\n",
    "                    * bv[i + 1]\n",
    "                )\n",
    "\n",
    "                return bv.at[i].set(b1 + b2)\n",
    "\n",
    "            return lax.cond(m == 0, base_case, recursive_case, bv)\n",
    "\n",
    "        return lax.fori_loop(0, k + order - 1, basis_per_knot, bv)\n",
    "\n",
    "    return lax.fori_loop(0, order, basis_per_order, bv)[:k]\n",
    "\n",
    "\n",
    "def build_design_matrix_b_spline(x: Array, knots: Array, order: int) -> Array:\n",
    "    \"\"\"\n",
    "    Builds the design matrix for an (order - 1) B-Splines defined by the knots\n",
    "    at the values in x in an optimized (but not in loco) way.\n",
    "    Instead of applying the recursive definition of B-splines,\n",
    "    a matrix of order rows and (dim(knots) - 1) columns for each value in x is created.\n",
    "    This matrix store the evaluation of the basis function\n",
    "    at the observed value for the m-th order and for the i-th knot.\n",
    "    \"\"\"\n",
    "    knots = jnp.sort(knots)\n",
    "\n",
    "    _check_b_spline_inputs(x, knots, order)\n",
    "\n",
    "    return _build_design_matrix_b_spline_aux(x, knots, order)\n",
    "\n",
    "\n",
    "@partial(jit, static_argnums=(2))\n",
    "def _build_design_matrix_b_spline_aux(x: Array, knots: Array, order: int) -> Array:\n",
    "    \"\"\"\n",
    "    Fills the design matrix taking the values in the order-th row and of the first\n",
    "    (dim(knots) - order) columns from the output of the build_basis_matrix function\n",
    "    called for each data point.\n",
    "    \"\"\"\n",
    "    return vmap(lambda x: _build_basis_vector(x, knots, order))(x)\n",
    "\n",
    "\n",
    "def _check_p_spline_matrix_inputs(d: int, r: int) -> None:\n",
    "    if not d > 0:\n",
    "        raise ValueError(\"Matix dimension must be positive\")\n",
    "    if not r >= 0:\n",
    "        raise ValueError(\"Difference order must be non-negative\")\n",
    "\n",
    "\n",
    "def build_p_spline_matrix(d: int, r: int = 1) -> Array:\n",
    "    _check_p_spline_matrix_inputs(d, r)\n",
    "\n",
    "    return _build_p_spline_matrix_aux(d, r)\n",
    "\n",
    "\n",
    "@partial(jit, static_argnums=(0, 1))\n",
    "def _build_p_spline_matrix_aux(d: int, r: int = 1) -> Array:\n",
    "    \"\"\"\n",
    "    Builds (d x d) a penalty matrix with differences of order r.\n",
    "    \"\"\"\n",
    "    D = jnp.diff(jnp.identity(d), r, axis=0)\n",
    "\n",
    "    return D.T @ D"
   ],
   "metadata": {
    "collapsed": false,
    "pycharm": {
     "name": "#%%\n"
    }
   }
  },
  {
   "cell_type": "code",
   "execution_count": 195,
   "outputs": [
    {
     "data": {
      "text/plain": "array([2.5, 3. ], dtype=float32)"
     },
     "execution_count": 195,
     "metadata": {},
     "output_type": "execute_result"
    }
   ],
   "source": [
    "data.numpy()"
   ],
   "metadata": {
    "collapsed": false,
    "pycharm": {
     "name": "#%%\n"
    }
   }
  },
  {
   "cell_type": "code",
   "execution_count": 233,
   "outputs": [
    {
     "data": {
      "text/plain": "(200, 17)"
     },
     "execution_count": 233,
     "metadata": {},
     "output_type": "execute_result"
    }
   ],
   "source": [
    "x = jnp.arange(0, 200)\n",
    "internal_k = 15\n",
    "order = 2\n",
    "\n",
    "knots = create_equidistant_knots(x, order, internal_k)\n",
    "\n",
    "X = build_design_matrix_b_spline(x, knots, order)\n",
    "beta = np.random.randn(X.shape[1])\n",
    "\n",
    "#scipy_spl = BSpline(knots, beta, order - 1)\n",
    "\n",
    "#assert np.allclose(X @ beta, scipy_spl(x), 1e-3, 1e-3)\n",
    "X.shape"
   ],
   "metadata": {
    "collapsed": false,
    "pycharm": {
     "name": "#%%\n"
    }
   }
  },
  {
   "cell_type": "code",
   "execution_count": 239,
   "outputs": [],
   "source": [
    "X = build_design_matrix_b_spline(x, knots, order)"
   ],
   "metadata": {
    "collapsed": false,
    "pycharm": {
     "name": "#%%\n"
    }
   }
  },
  {
   "cell_type": "code",
   "execution_count": 227,
   "outputs": [],
   "source": [
    "from scipy.interpolate import BSpline, splev"
   ],
   "metadata": {
    "collapsed": false,
    "pycharm": {
     "name": "#%%\n"
    }
   }
  },
  {
   "cell_type": "code",
   "execution_count": 230,
   "outputs": [
    {
     "data": {
      "text/plain": "array([0.00000000e+000, 0.00000000e+000, 0.00000000e+000, 0.00000000e+000,\n       0.00000000e+000, 0.00000000e+000, 0.00000000e+000, 0.00000000e+000,\n       0.00000000e+000, 0.00000000e+000, 0.00000000e+000, 0.00000000e+000,\n       0.00000000e+000, 0.00000000e+000, 0.00000000e+000, 0.00000000e+000,\n       0.00000000e+000, 0.00000000e+000, 0.00000000e+000, 0.00000000e+000,\n       0.00000000e+000, 0.00000000e+000, 0.00000000e+000, 0.00000000e+000,\n       0.00000000e+000, 0.00000000e+000, 0.00000000e+000, 0.00000000e+000,\n       0.00000000e+000, 0.00000000e+000, 0.00000000e+000, 0.00000000e+000,\n       0.00000000e+000, 0.00000000e+000, 0.00000000e+000, 0.00000000e+000,\n       0.00000000e+000, 0.00000000e+000, 0.00000000e+000, 0.00000000e+000,\n       0.00000000e+000, 0.00000000e+000, 0.00000000e+000, 0.00000000e+000,\n       0.00000000e+000, 0.00000000e+000, 0.00000000e+000, 0.00000000e+000,\n       0.00000000e+000, 0.00000000e+000, 0.00000000e+000, 0.00000000e+000,\n       0.00000000e+000, 0.00000000e+000, 0.00000000e+000, 0.00000000e+000,\n       0.00000000e+000, 0.00000000e+000, 0.00000000e+000, 0.00000000e+000,\n       0.00000000e+000, 0.00000000e+000, 0.00000000e+000, 0.00000000e+000,\n       0.00000000e+000, 0.00000000e+000, 0.00000000e+000, 0.00000000e+000,\n       0.00000000e+000, 0.00000000e+000, 0.00000000e+000, 0.00000000e+000,\n       0.00000000e+000, 0.00000000e+000, 0.00000000e+000, 0.00000000e+000,\n       0.00000000e+000, 0.00000000e+000, 0.00000000e+000, 0.00000000e+000,\n       0.00000000e+000, 0.00000000e+000, 0.00000000e+000, 0.00000000e+000,\n       0.00000000e+000, 0.00000000e+000, 0.00000000e+000, 0.00000000e+000,\n       0.00000000e+000, 0.00000000e+000, 0.00000000e+000, 0.00000000e+000,\n       0.00000000e+000, 0.00000000e+000, 0.00000000e+000, 0.00000000e+000,\n       0.00000000e+000, 0.00000000e+000, 0.00000000e+000, 0.00000000e+000,\n       0.00000000e+000, 0.00000000e+000, 0.00000000e+000, 0.00000000e+000,\n       0.00000000e+000, 0.00000000e+000, 0.00000000e+000, 0.00000000e+000,\n       0.00000000e+000, 0.00000000e+000, 0.00000000e+000, 0.00000000e+000,\n       0.00000000e+000, 0.00000000e+000, 0.00000000e+000, 0.00000000e+000,\n       0.00000000e+000, 0.00000000e+000, 0.00000000e+000, 0.00000000e+000,\n       0.00000000e+000, 0.00000000e+000, 0.00000000e+000, 0.00000000e+000,\n       0.00000000e+000, 0.00000000e+000, 0.00000000e+000, 0.00000000e+000,\n       0.00000000e+000, 0.00000000e+000, 0.00000000e+000, 0.00000000e+000,\n       0.00000000e+000, 0.00000000e+000, 0.00000000e+000, 0.00000000e+000,\n       0.00000000e+000, 0.00000000e+000, 0.00000000e+000, 0.00000000e+000,\n       0.00000000e+000, 0.00000000e+000, 0.00000000e+000, 0.00000000e+000,\n       0.00000000e+000, 0.00000000e+000, 0.00000000e+000, 0.00000000e+000,\n       0.00000000e+000, 0.00000000e+000, 0.00000000e+000, 0.00000000e+000,\n       0.00000000e+000, 0.00000000e+000, 0.00000000e+000, 0.00000000e+000,\n       0.00000000e+000, 0.00000000e+000, 0.00000000e+000, 0.00000000e+000,\n       0.00000000e+000, 0.00000000e+000, 0.00000000e+000, 1.08747781e-316,\n       2.98689081e-314, 1.87943764e-313, 5.82908182e-313, 1.32333703e-312,\n       2.51780517e-312, 4.27488746e-312, 6.70315878e-312, 9.91119399e-312,\n       1.40075680e-311, 1.91008555e-311, 2.52996316e-311, 3.27124710e-311,\n       4.14479487e-311, 5.16146394e-311, 6.33211181e-311, 7.66759596e-311,\n       9.17877388e-311, 1.08764976e-310, 1.27622440e-310, 1.48088789e-310,\n       1.69838300e-310, 1.92545248e-310, 2.15883907e-310, 2.39528552e-310,\n       2.63153460e-310, 2.86432904e-310, 3.09041161e-310, 3.30652504e-310,\n       3.50941210e-310, 3.69581554e-310, 3.86247810e-310, 4.00614253e-310,\n       4.12355160e-310, 4.21144804e-310, 4.26657462e-310, 4.28567408e-310])"
     },
     "execution_count": 230,
     "metadata": {},
     "output_type": "execute_result"
    }
   ],
   "source": [
    "#scipy_spl = BSpline(knots, beta, order - 1)\n",
    "#scipy_spl(x)\n",
    "splev(x, [knots, torch.zeros(12), 3], der=0)"
   ],
   "metadata": {
    "collapsed": false,
    "pycharm": {
     "name": "#%%\n"
    }
   }
  },
  {
   "cell_type": "code",
   "execution_count": 188,
   "outputs": [
    {
     "ename": "RuntimeError",
     "evalue": "size mismatch, got 2, 2x7,6",
     "output_type": "error",
     "traceback": [
      "\u001B[0;31m---------------------------------------------------------------------------\u001B[0m",
      "\u001B[0;31mRuntimeError\u001B[0m                              Traceback (most recent call last)",
      "\u001B[0;32m/var/folders/cz/5x11gwq96ks_cqwqdky646540000gn/T/ipykernel_6681/4099641249.py\u001B[0m in \u001B[0;36m<module>\u001B[0;34m\u001B[0m\n\u001B[1;32m      1\u001B[0m \u001B[0mbasis\u001B[0m \u001B[0;34m=\u001B[0m \u001B[0mtorch_cr_spl_predict\u001B[0m\u001B[0;34m(\u001B[0m\u001B[0mdata\u001B[0m\u001B[0;34m,\u001B[0m \u001B[0mt\u001B[0m\u001B[0;34m,\u001B[0m \u001B[0mF\u001B[0m\u001B[0;34m)\u001B[0m\u001B[0;34m\u001B[0m\u001B[0;34m\u001B[0m\u001B[0m\n\u001B[0;32m----> 2\u001B[0;31m \u001B[0mtorch\u001B[0m\u001B[0;34m.\u001B[0m\u001B[0mmatmul\u001B[0m\u001B[0;34m(\u001B[0m\u001B[0mbasis\u001B[0m\u001B[0;34m,\u001B[0m\u001B[0mc2\u001B[0m\u001B[0;34m)\u001B[0m\u001B[0;34m\u001B[0m\u001B[0;34m\u001B[0m\u001B[0m\n\u001B[0m",
      "\u001B[0;31mRuntimeError\u001B[0m: size mismatch, got 2, 2x7,6"
     ]
    }
   ],
   "source": [
    "basis = torch_cr_spl_predict(data, t, F)\n",
    "torch.matmul(basis,c2)"
   ],
   "metadata": {
    "collapsed": false,
    "pycharm": {
     "name": "#%%\n"
    }
   }
  },
  {
   "cell_type": "code",
   "execution_count": null,
   "outputs": [],
   "source": [],
   "metadata": {
    "collapsed": false,
    "pycharm": {
     "name": "#%%\n"
    }
   }
  },
  {
   "cell_type": "code",
   "execution_count": 47,
   "metadata": {
    "pycharm": {
     "name": "#%%\n"
    }
   },
   "outputs": [
    {
     "data": {
      "text/plain": [
       "0.00033092498779296875"
      ]
     },
     "execution_count": 47,
     "metadata": {},
     "output_type": "execute_result"
    }
   ],
   "source": [
    "#scipy\n",
    "start = time.time()\n",
    "spl = scipy.interpolate.BSpline(t, c, k)\n",
    "spl(data)\n",
    "end = time.time()\n",
    "end-start"
   ]
  },
  {
   "cell_type": "code",
   "execution_count": 48,
   "metadata": {
    "pycharm": {
     "name": "#%%\n"
    }
   },
   "outputs": [
    {
     "data": {
      "text/plain": [
       "0.012907999999999475"
      ]
     },
     "execution_count": 48,
     "metadata": {},
     "output_type": "execute_result"
    }
   ],
   "source": [
    "#pytorch based on scipy\n",
    "start = time.process_time()\n",
    "bspline = BSpline(start=0, end=10000, n_bases=4, spline_order=2)\n",
    "mat = bspline.predict(torch.tensor(data))\n",
    "prediction_2 = torch.matmul(mat,torch.tensor(c,dtype=torch.float32))\n",
    "end = time.process_time()\n",
    "end-start"
   ]
  },
  {
   "cell_type": "code",
   "execution_count": 6,
   "metadata": {
    "pycharm": {
     "name": "#%%\n"
    }
   },
   "outputs": [],
   "source": [
    "def deBoor(k: int, x: int, t, c, p: int):\n",
    "    \"\"\"Evaluates S(x).\n",
    "\n",
    "    Arguments\n",
    "    ---------\n",
    "    k: Index of knot interval that contains x.\n",
    "    x: Position.\n",
    "    t: Array of knot positions, needs to be padded as described above.\n",
    "    c: Array of control points.\n",
    "    p: Degree of B-spline.\n",
    "    \"\"\"\n",
    "    d = [c[j + k - p] for j in range(0, p + 1)]\n",
    "\n",
    "    for r in range(1, p + 1):\n",
    "        for j in range(p, r - 1, -1):\n",
    "            alpha = (x - t[j + k - p]) / (t[j + 1 + k - r] - t[j + k - p])\n",
    "            d[j] = (1.0 - alpha) * d[j - 1] + alpha * d[j]\n",
    "\n",
    "    return d[p]"
   ]
  },
  {
   "cell_type": "code",
   "execution_count": 63,
   "metadata": {},
   "outputs": [],
   "source": [
    "data = np.array(np.linspace((0,6),0.1))"
   ]
  },
  {
   "cell_type": "code",
   "execution_count": 64,
   "metadata": {},
   "outputs": [
    {
     "data": {
      "text/plain": [
       "array([[0.00000000e+00, 6.00000000e+00],\n",
       "       [2.04081633e-03, 5.87959184e+00],\n",
       "       [4.08163265e-03, 5.75918367e+00],\n",
       "       [6.12244898e-03, 5.63877551e+00],\n",
       "       [8.16326531e-03, 5.51836735e+00],\n",
       "       [1.02040816e-02, 5.39795918e+00],\n",
       "       [1.22448980e-02, 5.27755102e+00],\n",
       "       [1.42857143e-02, 5.15714286e+00],\n",
       "       [1.63265306e-02, 5.03673469e+00],\n",
       "       [1.83673469e-02, 4.91632653e+00],\n",
       "       [2.04081633e-02, 4.79591837e+00],\n",
       "       [2.24489796e-02, 4.67551020e+00],\n",
       "       [2.44897959e-02, 4.55510204e+00],\n",
       "       [2.65306122e-02, 4.43469388e+00],\n",
       "       [2.85714286e-02, 4.31428571e+00],\n",
       "       [3.06122449e-02, 4.19387755e+00],\n",
       "       [3.26530612e-02, 4.07346939e+00],\n",
       "       [3.46938776e-02, 3.95306122e+00],\n",
       "       [3.67346939e-02, 3.83265306e+00],\n",
       "       [3.87755102e-02, 3.71224490e+00],\n",
       "       [4.08163265e-02, 3.59183673e+00],\n",
       "       [4.28571429e-02, 3.47142857e+00],\n",
       "       [4.48979592e-02, 3.35102041e+00],\n",
       "       [4.69387755e-02, 3.23061224e+00],\n",
       "       [4.89795918e-02, 3.11020408e+00],\n",
       "       [5.10204082e-02, 2.98979592e+00],\n",
       "       [5.30612245e-02, 2.86938776e+00],\n",
       "       [5.51020408e-02, 2.74897959e+00],\n",
       "       [5.71428571e-02, 2.62857143e+00],\n",
       "       [5.91836735e-02, 2.50816327e+00],\n",
       "       [6.12244898e-02, 2.38775510e+00],\n",
       "       [6.32653061e-02, 2.26734694e+00],\n",
       "       [6.53061224e-02, 2.14693878e+00],\n",
       "       [6.73469388e-02, 2.02653061e+00],\n",
       "       [6.93877551e-02, 1.90612245e+00],\n",
       "       [7.14285714e-02, 1.78571429e+00],\n",
       "       [7.34693878e-02, 1.66530612e+00],\n",
       "       [7.55102041e-02, 1.54489796e+00],\n",
       "       [7.75510204e-02, 1.42448980e+00],\n",
       "       [7.95918367e-02, 1.30408163e+00],\n",
       "       [8.16326531e-02, 1.18367347e+00],\n",
       "       [8.36734694e-02, 1.06326531e+00],\n",
       "       [8.57142857e-02, 9.42857143e-01],\n",
       "       [8.77551020e-02, 8.22448980e-01],\n",
       "       [8.97959184e-02, 7.02040816e-01],\n",
       "       [9.18367347e-02, 5.81632653e-01],\n",
       "       [9.38775510e-02, 4.61224490e-01],\n",
       "       [9.59183673e-02, 3.40816327e-01],\n",
       "       [9.79591837e-02, 2.20408163e-01],\n",
       "       [1.00000000e-01, 1.00000000e-01]])"
      ]
     },
     "execution_count": 64,
     "metadata": {},
     "output_type": "execute_result"
    }
   ],
   "source": [
    "data"
   ]
  },
  {
   "cell_type": "code",
   "execution_count": 3,
   "metadata": {
    "pycharm": {
     "name": "#%%\n"
    }
   },
   "outputs": [],
   "source": [
    "#t = torch.tensor(t,dtype=torch.float32)\n",
    "#c = torch.tensor(c,dtype=torch.float32)\n",
    "import functorch"
   ]
  },
  {
   "cell_type": "code",
   "execution_count": 75,
   "outputs": [
    {
     "data": {
      "text/plain": "0.0034320000000001016"
     },
     "execution_count": 75,
     "metadata": {},
     "output_type": "execute_result"
    }
   ],
   "source": [
    "class deBoor():\n",
    "    def __init__(self,t,c,p,x):\n",
    "        self.t=t\n",
    "        self.c=c\n",
    "        self.p=p\n",
    "        self.n = t.size(0) - 2 * self.p\n",
    "\n",
    "\n",
    "    def compute(self, x, k):\n",
    "        \"\"\"Evaluates S(x).\n",
    "\n",
    "        Arguments\n",
    "        ---------\n",
    "        k: Index of knot interval that contains x.\n",
    "        x: Position.\n",
    "        t: Array of knot positions, needs to be padded as described above.\n",
    "        c: Array of control points.\n",
    "        p: Degree of B-spline.\n",
    "        \"\"\"\n",
    "\n",
    "        d = [self.c[j + k - self.p] for j in range(0, self.p + 1)]\n",
    "\n",
    "        for r in range(1, self.p + 1):\n",
    "            for j in range(self.p, r - 1, -1):\n",
    "                alpha = (x - self.t[j + k - self.p]) / (self.t[j + 1 + k - r] - self.t[j + k - self.p])\n",
    "                d[j] = (1.0 - alpha) * d[j - 1] + alpha * d[j]\n",
    "\n",
    "        return d[self.p]\n",
    "\n",
    "\n",
    "start = time.process_time()\n",
    "\n",
    "#k = torch.searchsorted(self.t, x) - 1\n",
    "n = t.size(0) - 2 * 2\n",
    "k = torch.searchsorted(t, data) - 1\n",
    "#k[k > (n - 1)] = 2 + 1\n",
    "#k[k > (n - 1)] = 2 + (n - 1) - 1\n",
    "\n",
    "deBoor_obj = deBoor(t=t,c=c,p=torch.tensor([2]),x=data)\n",
    "deBorr_vec = functorch.vmap(deBoor_obj.compute)\n",
    "\n",
    "prediction_3 = deBorr_vec(torch.unsqueeze(data,0), torch.unsqueeze(k,0))\n",
    "end = time.process_time()\n",
    "end-start"
   ],
   "metadata": {
    "collapsed": false,
    "pycharm": {
     "name": "#%%\n"
    }
   }
  },
  {
   "cell_type": "code",
   "execution_count": 76,
   "outputs": [
    {
     "data": {
      "text/plain": "tensor([[1.3750, 1.0000]])"
     },
     "execution_count": 76,
     "metadata": {},
     "output_type": "execute_result"
    }
   ],
   "source": [
    "prediction_3"
   ],
   "metadata": {
    "collapsed": false,
    "pycharm": {
     "name": "#%%\n"
    }
   }
  },
  {
   "cell_type": "code",
   "execution_count": 68,
   "outputs": [
    {
     "data": {
      "text/plain": "tensor([[2.5000, 3.0000],\n        [2.0000, 2.0000]])"
     },
     "execution_count": 68,
     "metadata": {},
     "output_type": "execute_result"
    }
   ],
   "source": [
    "data2 = torch.unsqueeze(data,0)\n",
    "k2 = torch.unsqueeze(k,0)\n",
    "input_dk = torch.cat((data2,k2))\n",
    "input_dk"
   ],
   "metadata": {
    "collapsed": false,
    "pycharm": {
     "name": "#%%\n"
    }
   }
  },
  {
   "cell_type": "code",
   "execution_count": 243,
   "outputs": [
    {
     "name": "stdout",
     "output_type": "stream",
     "text": [
      "Collecting functorch\r\n",
      "  Downloading functorch-1.13.1-py2.py3-none-any.whl (2.1 kB)\r\n",
      "Collecting torch<1.13.2,>=1.13.1\r\n",
      "  Using cached torch-1.13.1-cp37-none-macosx_10_9_x86_64.whl (135.3 MB)\r\n",
      "Requirement already satisfied: typing-extensions in /opt/anaconda3/envs/mctm_pytorch_37/lib/python3.7/site-packages (from torch<1.13.2,>=1.13.1->functorch) (4.4.0)\r\n",
      "Installing collected packages: torch, functorch\r\n",
      "  Attempting uninstall: torch\r\n",
      "    Found existing installation: torch 1.10.1\r\n",
      "    Uninstalling torch-1.10.1:\r\n",
      "      Successfully uninstalled torch-1.10.1\r\n",
      "Successfully installed functorch-1.13.1 torch-1.13.1\r\n",
      "Note: you may need to restart the kernel to use updated packages.\n"
     ]
    }
   ],
   "source": [
    "pip install functorch"
   ],
   "metadata": {
    "collapsed": false,
    "pycharm": {
     "name": "#%%\n"
    }
   }
  },
  {
   "cell_type": "code",
   "execution_count": 51,
   "metadata": {
    "pycharm": {
     "name": "#%%\n"
    }
   },
   "outputs": [
    {
     "name": "stdout",
     "output_type": "stream",
     "text": [
      "[1.375]\n"
     ]
    }
   ],
   "source": [
    "print(prediction_1)"
   ]
  },
  {
   "cell_type": "code",
   "execution_count": 52,
   "metadata": {},
   "outputs": [
    {
     "name": "stdout",
     "output_type": "stream",
     "text": [
      "tensor([0.5075])\n"
     ]
    }
   ],
   "source": [
    "print(prediction_2)"
   ]
  },
  {
   "cell_type": "code",
   "execution_count": 55,
   "metadata": {
    "pycharm": {
     "name": "#%%\n"
    }
   },
   "outputs": [
    {
     "name": "stdout",
     "output_type": "stream",
     "text": [
      "[1.375]\n"
     ]
    }
   ],
   "source": [
    "print(prediction_3)"
   ]
  }
 ],
 "metadata": {
  "kernelspec": {
   "display_name": "Python 3 (ipykernel)",
   "language": "python",
   "name": "python3"
  },
  "language_info": {
   "codemirror_mode": {
    "name": "ipython",
    "version": 3
   },
   "file_extension": ".py",
   "mimetype": "text/x-python",
   "name": "python",
   "nbconvert_exporter": "python",
   "pygments_lexer": "ipython3",
   "version": "3.10.9"
  }
 },
 "nbformat": 4,
 "nbformat_minor": 1
}