{
 "cells": [
  {
   "cell_type": "code",
   "execution_count": 1,
   "metadata": {
    "collapsed": true
   },
   "outputs": [],
   "source": [
    "import torch\n",
    "from torch import nn\n",
    "import numpy as np\n",
    "from torch.distributions import Normal, Laplace\n",
    "import matplotlib.pyplot as plt\n",
    "from torch import optim\n",
    "from tqdm import tqdm\n",
    "\n",
    "import seaborn as sns"
   ]
  },
  {
   "cell_type": "code",
   "execution_count": 2,
   "outputs": [],
   "source": [
    "# https://github.com/pytorch/pytorch/issues/47841\n",
    "# https://docs.scipy.org/doc/scipy/reference/generated/scipy.special.binom.html\n",
    "def torch_binom(n, v):\n",
    "    #mask = n.detach() >= v.detach()\n",
    "    #n = mask * n\n",
    "    #v = mask * v\n",
    "    a = torch.lgamma(n + 1) - torch.lgamma((n - v) + 1) - torch.lgamma(v + 1)\n",
    "    return torch.exp(a)# * mask"
   ],
   "metadata": {
    "collapsed": false,
    "pycharm": {
     "name": "#%%\n"
    }
   }
  },
  {
   "cell_type": "code",
   "execution_count": 3,
   "outputs": [],
   "source": [
    "# https://en.wikipedia.org/wiki/Bernstein_polynomial\n",
    "# https://docs.scipy.org/doc/scipy/reference/generated/scipy.interpolate.BPoly.html\n",
    "def b(v, n, x):\n",
    "    return torch_binom(n, v) * x**v * (1 - x)**(n - v)"
   ],
   "metadata": {
    "collapsed": false,
    "pycharm": {
     "name": "#%%\n"
    }
   }
  },
  {
   "cell_type": "code",
   "execution_count": 4,
   "outputs": [
    {
     "data": {
      "text/plain": "tensor([1.])"
     },
     "execution_count": 4,
     "metadata": {},
     "output_type": "execute_result"
    }
   ],
   "source": [
    "torch_binom(n=torch.tensor([5]), v=torch.tensor([2]))#10\n",
    "torch_binom(n=torch.tensor([10]), v=torch.tensor([2]))#45\n",
    "torch_binom(n=torch.tensor([1]), v=torch.tensor([1]))#1"
   ],
   "metadata": {
    "collapsed": false,
    "pycharm": {
     "name": "#%%\n"
    }
   }
  },
  {
   "cell_type": "code",
   "execution_count": 5,
   "outputs": [
    {
     "data": {
      "text/plain": "tensor([-729000.])"
     },
     "execution_count": 5,
     "metadata": {},
     "output_type": "execute_result"
    }
   ],
   "source": [
    "b(v = torch.tensor([2]),\n",
    "  n = torch.tensor([5]),\n",
    "  x = torch.tensor([10]))"
   ],
   "metadata": {
    "collapsed": false,
    "pycharm": {
     "name": "#%%\n"
    }
   }
  },
  {
   "cell_type": "code",
   "execution_count": 6,
   "outputs": [
    {
     "data": {
      "text/plain": "<Figure size 432x288 with 1 Axes>",
      "image/png": "[encoded data removed]"
     },
     "metadata": {
      "needs_background": "light"
     },
     "output_type": "display_data"
    }
   ],
   "source": [
    "x_space = torch.tensor(np.linspace(0, 1, 100))\n",
    "n=4\n",
    "\n",
    "fig, ax = plt.subplots()\n",
    "\n",
    "for v in range(n+1):\n",
    "    ax.plot(x_space, b(v = torch.tensor([v]),n = torch.tensor([n]), x = x_space), 'r-', lw=3, label=str(v))\n",
    "\n",
    "ax.grid(True)\n",
    "ax.legend(loc='best')\n",
    "plt.show()"
   ],
   "metadata": {
    "collapsed": false,
    "pycharm": {
     "name": "#%%\n"
    }
   }
  },
  {
   "cell_type": "code",
   "execution_count": 7,
   "outputs": [],
   "source": [
    "n = torch.tensor([5])\n",
    "x = torch.tensor([10])\n",
    "params = torch.tensor([1.5,1.5,1.5,1.5,1.5], requires_grad=True)\n",
    "true = torch.tensor([1])\n",
    "\n",
    "prediction = sum(params[v-1] * b(torch.tensor([v]), n, x) for v in range(n+1))\n",
    "\n",
    "loss = true - prediction"
   ],
   "metadata": {
    "collapsed": false,
    "pycharm": {
     "name": "#%%\n"
    }
   }
  },
  {
   "cell_type": "code",
   "execution_count": 8,
   "outputs": [],
   "source": [
    "def bernstein_prediction(params, input, degree):\n",
    "    n = degree\n",
    "    return sum(params[v] * b(torch.FloatTensor([v]), torch.FloatTensor([n]), input) for v in range(n+1))"
   ],
   "metadata": {
    "collapsed": false,
    "pycharm": {
     "name": "#%%\n"
    }
   }
  },
  {
   "cell_type": "code",
   "execution_count": 9,
   "outputs": [],
   "source": [
    "#def bernstein_inverse(params, input, degree):\n",
    "#    n = degree\n",
    "#    k = 1\n",
    "#    return 1 / torch_binom(torch.FloatTensor([n]), torch.FloatTensor([k])) * \\\n",
    "#           sum(1 / params[j-1] * torch_binom(torch.FloatTensor([j]), torch.FloatTensor([k])) * b(torch.FloatTensor([j]), torch.FloatTensor([n]), input) for j in range(k,n+1))"
   ],
   "metadata": {
    "collapsed": false,
    "pycharm": {
     "name": "#%%\n"
    }
   }
  },
  {
   "cell_type": "code",
   "execution_count": 10,
   "outputs": [
    {
     "ename": "NameError",
     "evalue": "name 'bernstein_inverse' is not defined",
     "output_type": "error",
     "traceback": [
      "\u001B[0;31m---------------------------------------------------------------------------\u001B[0m",
      "\u001B[0;31mNameError\u001B[0m                                 Traceback (most recent call last)",
      "\u001B[0;32m<ipython-input-10-abd4dc5f926c>\u001B[0m in \u001B[0;36m<module>\u001B[0;34m\u001B[0m\n\u001B[1;32m      4\u001B[0m \u001B[0;34m\u001B[0m\u001B[0m\n\u001B[1;32m      5\u001B[0m \u001B[0mz\u001B[0m \u001B[0;34m=\u001B[0m \u001B[0mbernstein_prediction\u001B[0m\u001B[0;34m(\u001B[0m\u001B[0mparams\u001B[0m\u001B[0;34m=\u001B[0m\u001B[0mp\u001B[0m\u001B[0;34m,\u001B[0m \u001B[0minput\u001B[0m\u001B[0;34m=\u001B[0m\u001B[0mx\u001B[0m\u001B[0;34m,\u001B[0m \u001B[0mdegree\u001B[0m\u001B[0;34m=\u001B[0m\u001B[0md\u001B[0m\u001B[0;34m)\u001B[0m\u001B[0;34m\u001B[0m\u001B[0;34m\u001B[0m\u001B[0m\n\u001B[0;32m----> 6\u001B[0;31m \u001B[0mx_2\u001B[0m \u001B[0;34m=\u001B[0m \u001B[0mbernstein_inverse\u001B[0m\u001B[0;34m(\u001B[0m\u001B[0mparams\u001B[0m\u001B[0;34m=\u001B[0m\u001B[0mp\u001B[0m\u001B[0;34m,\u001B[0m \u001B[0minput\u001B[0m\u001B[0;34m=\u001B[0m\u001B[0mz\u001B[0m\u001B[0;34m,\u001B[0m \u001B[0mdegree\u001B[0m\u001B[0;34m=\u001B[0m\u001B[0md\u001B[0m\u001B[0;34m)\u001B[0m\u001B[0;34m\u001B[0m\u001B[0;34m\u001B[0m\u001B[0m\n\u001B[0m\u001B[1;32m      7\u001B[0m \u001B[0;34m\u001B[0m\u001B[0m\n\u001B[1;32m      8\u001B[0m \u001B[0mx_2\u001B[0m\u001B[0;34m\u001B[0m\u001B[0;34m\u001B[0m\u001B[0m\n",
      "\u001B[0;31mNameError\u001B[0m: name 'bernstein_inverse' is not defined"
     ]
    }
   ],
   "source": [
    "x = torch.FloatTensor([1])\n",
    "p = torch.ones(6,dtype=torch.float)\n",
    "d = 5\n",
    "\n",
    "z = bernstein_prediction(params=p, input=x, degree=d)\n",
    "x_2 = bernstein_inverse(params=p, input=z, degree=d)\n",
    "\n",
    "x_2"
   ],
   "metadata": {
    "collapsed": false,
    "pycharm": {
     "name": "#%%\n"
    }
   }
  },
  {
   "cell_type": "code",
   "execution_count": null,
   "outputs": [],
   "source": [
    "x = torch.FloatTensor(np.linspace(0,1,100))\n",
    "p = torch.FloatTensor([1,2,3,4,5,6])\n",
    "d = 5\n",
    "\n",
    "z = bernstein_prediction(params=p, input=x, degree=d)\n",
    "x_2 = bernstein_inverse(params=p, input=z, degree=d)"
   ],
   "metadata": {
    "collapsed": false,
    "pycharm": {
     "name": "#%%\n"
    }
   }
  },
  {
   "cell_type": "code",
   "execution_count": null,
   "outputs": [],
   "source": [
    "x_2"
   ],
   "metadata": {
    "collapsed": false,
    "pycharm": {
     "name": "#%%\n"
    }
   }
  },
  {
   "cell_type": "code",
   "execution_count": null,
   "outputs": [],
   "source": [
    "fig, ax = plt.subplots()\n",
    "\n",
    "ax.plot(x, x, 'r-', lw=3, label=\"x\")\n",
    "ax.plot(x, x_2, 'r-', lw=3, label=\"x_2\")\n",
    "\n",
    "ax.grid(True)\n",
    "ax.legend(loc='best')\n",
    "plt.show()"
   ],
   "metadata": {
    "collapsed": false,
    "pycharm": {
     "name": "#%%\n"
    }
   }
  },
  {
   "cell_type": "code",
   "execution_count": null,
   "outputs": [],
   "source": [
    "stop"
   ],
   "metadata": {
    "collapsed": false,
    "pycharm": {
     "name": "#%%\n"
    }
   }
  },
  {
   "cell_type": "code",
   "execution_count": null,
   "outputs": [],
   "source": [
    "5 ** 1"
   ],
   "metadata": {
    "collapsed": false,
    "pycharm": {
     "name": "#%%\n"
    }
   }
  },
  {
   "cell_type": "code",
   "execution_count": null,
   "outputs": [],
   "source": [
    "torch.FloatTensor([1])"
   ],
   "metadata": {
    "collapsed": false,
    "pycharm": {
     "name": "#%%\n"
    }
   }
  },
  {
   "cell_type": "code",
   "execution_count": null,
   "outputs": [],
   "source": [
    "list(range(5,10))"
   ],
   "metadata": {
    "collapsed": false,
    "pycharm": {
     "name": "#%%\n"
    }
   }
  },
  {
   "cell_type": "code",
   "execution_count": null,
   "outputs": [],
   "source": [
    "loss.backward()\n",
    "print(params.grad)"
   ],
   "metadata": {
    "collapsed": false,
    "pycharm": {
     "name": "#%%\n"
    }
   }
  },
  {
   "cell_type": "code",
   "execution_count": null,
   "outputs": [],
   "source": [
    "print(loss.grad)"
   ],
   "metadata": {
    "collapsed": false,
    "pycharm": {
     "name": "#%%\n"
    }
   }
  },
  {
   "cell_type": "code",
   "execution_count": null,
   "outputs": [],
   "source": [
    "np.repeat(0.1,5)"
   ],
   "metadata": {
    "collapsed": false,
    "pycharm": {
     "name": "#%%\n"
    }
   }
  },
  {
   "cell_type": "code",
   "execution_count": null,
   "outputs": [],
   "source": [
    "a = torch.FloatTensor([[1,2],[2,2]]).size(1)"
   ],
   "metadata": {
    "collapsed": false,
    "pycharm": {
     "name": "#%%\n"
    }
   }
  },
  {
   "cell_type": "code",
   "execution_count": null,
   "outputs": [],
   "source": [
    "a = torch.FloatTensor(np.repeat(np.linspace(0,1/7,7),2))\n",
    "a = torch.reshape(a, (7, 2))"
   ],
   "metadata": {
    "collapsed": false,
    "pycharm": {
     "name": "#%%\n"
    }
   }
  },
  {
   "cell_type": "code",
   "execution_count": null,
   "outputs": [],
   "source": [
    "a"
   ],
   "metadata": {
    "collapsed": false,
    "pycharm": {
     "name": "#%%\n"
    }
   }
  },
  {
   "cell_type": "code",
   "execution_count": null,
   "outputs": [],
   "source": [
    "torch.zeros(a.size())"
   ],
   "metadata": {
    "collapsed": false,
    "pycharm": {
     "name": "#%%\n"
    }
   }
  },
  {
   "cell_type": "code",
   "execution_count": null,
   "outputs": [],
   "source": [
    "p = torch.FloatTensor(np.linspace(-1,0,7))\n",
    "p[1:] = torch.abs(p[1:])\n",
    "p @ torch.triu(torch.ones(7,7))"
   ],
   "metadata": {
    "collapsed": false,
    "pycharm": {
     "name": "#%%\n"
    }
   }
  },
  {
   "cell_type": "code",
   "execution_count": 106,
   "outputs": [
    {
     "data": {
      "text/plain": "array([1., 2., 3.])"
     },
     "execution_count": 106,
     "metadata": {},
     "output_type": "execute_result"
    }
   ],
   "source": [
    "from scipy.interpolate import BPoly\n",
    "x = [0, 1]\n",
    "c = [[1], [2], [3]]\n",
    "bp = BPoly(c, x)\n",
    "bp.__call__(np.array([0, 0.5, 1]))\n",
    "x = [4, 6]\n",
    "c = [[1], [2], [3]]\n",
    "bp = BPoly(c, x)\n",
    "bp.__call__(np.array([4, 5, 6]))"
   ],
   "metadata": {
    "collapsed": false,
    "pycharm": {
     "name": "#%%\n"
    }
   }
  },
  {
   "cell_type": "code",
   "execution_count": 109,
   "outputs": [
    {
     "data": {
      "text/plain": "tensor([ 9., 11., 13.])"
     },
     "execution_count": 109,
     "metadata": {},
     "output_type": "execute_result"
    }
   ],
   "source": [
    "bernstein_prediction(params_a=torch.FloatTensor([[1], [2], [3]]),\n",
    "                     input_a=torch.FloatTensor([0, 0.5, 1]),\n",
    "                     degree=2,\n",
    "                     monotonically_increasing=False)\n",
    "\n",
    "bernstein_prediction(params_a=torch.FloatTensor([[1], [2], [3]]),\n",
    "                     input_a=torch.FloatTensor([4, 5, 6]),\n",
    "                     degree=2,\n",
    "                     monotonically_increasing=False)"
   ],
   "metadata": {
    "collapsed": false,
    "pycharm": {
     "name": "#%%\n"
    }
   }
  },
  {
   "cell_type": "code",
   "execution_count": 166,
   "outputs": [],
   "source": [
    "mctm = Transformation(degree=10, number_variables=2, min_val=torch.FloatTensor([-19,-19]), max_val=torch.FloatTensor([32,32]))"
   ],
   "metadata": {
    "collapsed": false,
    "pycharm": {
     "name": "#%%\n"
    }
   }
  },
  {
   "cell_type": "code",
   "execution_count": 167,
   "outputs": [
    {
     "data": {
      "text/plain": "torch.Size([11])"
     },
     "execution_count": 167,
     "metadata": {},
     "output_type": "execute_result"
    }
   ],
   "source": [
    "mctm.params[:,0].size()\n",
    "#mctm.params[1:,0].size()"
   ],
   "metadata": {
    "collapsed": false,
    "pycharm": {
     "name": "#%%\n"
    }
   }
  },
  {
   "cell_type": "code",
   "execution_count": 168,
   "outputs": [
    {
     "data": {
      "text/plain": "tensor([-1., -1., -1., -1., -1., -1., -1., -1., -1., -1., -1.],\n       grad_fn=<SelectBackward0>)"
     },
     "execution_count": 168,
     "metadata": {},
     "output_type": "execute_result"
    }
   ],
   "source": [
    "mctm.params[:,0]"
   ],
   "metadata": {
    "collapsed": false,
    "pycharm": {
     "name": "#%%\n"
    }
   }
  },
  {
   "cell_type": "code",
   "execution_count": 169,
   "outputs": [
    {
     "data": {
      "text/plain": "tensor([[-1.0000, -1.0000],\n        [-0.6321, -0.6321],\n        [-0.2642, -0.2642],\n        [ 0.1036,  0.1036],\n        [ 0.4715,  0.4715],\n        [ 0.8394,  0.8394],\n        [ 1.2073,  1.2073],\n        [ 1.5752,  1.5752],\n        [ 1.9430,  1.9430],\n        [ 2.3109,  2.3109],\n        [ 2.6788,  2.6788]], grad_fn=<CopySlices>)"
     },
     "execution_count": 169,
     "metadata": {},
     "output_type": "execute_result"
    }
   ],
   "source": [
    "a = mctm.params.clone()\n",
    "a[1:,0] = torch.exp(mctm.params[1:,0]) @ torch.triu(torch.ones(10+1-1,10+1-1)) + mctm.params[1,0]\n",
    "a[1:,1] = torch.exp(mctm.params[1:,1]) @ torch.triu(torch.ones(10+1-1,10+1-1)) + mctm.params[1,1]\n",
    "a"
   ],
   "metadata": {
    "collapsed": false,
    "pycharm": {
     "name": "#%%\n"
    }
   }
  },
  {
   "cell_type": "code",
   "execution_count": 160,
   "outputs": [
    {
     "data": {
      "text/plain": "torch.Size([2000, 2])"
     },
     "execution_count": 160,
     "metadata": {},
     "output_type": "execute_result"
    }
   ],
   "source": [
    "y.size()"
   ],
   "metadata": {
    "collapsed": false,
    "pycharm": {
     "name": "#%%\n"
    }
   }
  },
  {
   "cell_type": "code",
   "execution_count": 187,
   "outputs": [
    {
     "data": {
      "text/plain": "<Figure size 432x288 with 1 Axes>",
      "image/png": "[encoded data removed]"
     },
     "metadata": {
      "needs_background": "light"
     },
     "output_type": "display_data"
    }
   ],
   "source": [
    "y_distribution = Laplace(5, 3)\n",
    "y = y_distribution.sample((2000,2)) # Generate training data\n",
    "plt.hist(y[:,0].numpy(), bins=100)\n",
    "plt.hist(y[:,1].numpy(), bins=100)\n",
    "plt.show()"
   ],
   "metadata": {
    "collapsed": false,
    "pycharm": {
     "name": "#%%\n"
    }
   }
  },
  {
   "cell_type": "code",
   "execution_count": 163,
   "outputs": [
    {
     "data": {
      "text/plain": "tensor(31.2892)"
     },
     "execution_count": 163,
     "metadata": {},
     "output_type": "execute_result"
    }
   ],
   "source": [
    "y.max()"
   ],
   "metadata": {
    "collapsed": false,
    "pycharm": {
     "name": "#%%\n"
    }
   }
  },
  {
   "cell_type": "code",
   "execution_count": 164,
   "outputs": [
    {
     "data": {
      "text/plain": "tensor(-18.7891)"
     },
     "execution_count": 164,
     "metadata": {},
     "output_type": "execute_result"
    }
   ],
   "source": [
    "y.min()"
   ],
   "metadata": {
    "collapsed": false,
    "pycharm": {
     "name": "#%%\n"
    }
   }
  },
  {
   "cell_type": "code",
   "execution_count": 170,
   "outputs": [
    {
     "data": {
      "text/plain": "<Figure size 432x288 with 1 Axes>",
      "image/png": "[encoded data removed]"
     },
     "metadata": {
      "needs_background": "light"
     },
     "output_type": "display_data"
    }
   ],
   "source": [
    "z, log_d = mctm.forward(y)\n",
    "plt.hist(z[:,0].detach().numpy(), bins=100)\n",
    "plt.hist(z[:,1].detach().numpy(), bins=100)\n",
    "plt.show()"
   ],
   "metadata": {
    "collapsed": false,
    "pycharm": {
     "name": "#%%\n"
    }
   }
  },
  {
   "cell_type": "code",
   "execution_count": 337,
   "outputs": [],
   "source": [
    "def bernstein_prediction(params_a, input_a, degree, min_val, max_val, monotonically_increasing=False, derivativ=0):\n",
    "    # Restricts Monotonically increasing my insuring that params increase\n",
    "    if monotonically_increasing:\n",
    "        params_restricted = params_a.clone()\n",
    "        #relu_obj = nn.ReLU()\n",
    "        params_restricted[1:] = torch.exp(params_a[1:]) @ torch.triu(torch.ones(degree+1-1,degree+1-1)) + params_a[1] #abs or exp\n",
    "        # cannot use exp as it destabilizes the optimisation using LBFGS, get inf for params fast?\n",
    "        # however with exp works really well and fast with adam\n",
    "        # Relu works for both, results are good except at lower end there is a cutoff somehow\n",
    "    else:\n",
    "        params_restricted = params_a.clone()\n",
    "    n = degree\n",
    "    #return sum((params[1] + sum(torch.abs(params[1:(v-1)]))) * b(torch.FloatTensor([v]), torch.FloatTensor([n]), input) for v in range(n+1))\n",
    "\n",
    "    input_a = (input_a - min_val) / (max_val - min_val)\n",
    "\n",
    "    #print(params_restricted)\n",
    "\n",
    "    if derivativ == 0:\n",
    "        return sum(params_restricted[v] * b(torch.FloatTensor([v]), torch.FloatTensor([n]), input_a) for v in range(n+1)) #before we had: params_restricted[v-1]\n",
    "    elif derivativ == 1:\n",
    "        return sum(params_restricted[v] * torch.FloatTensor([n]) * (b(torch.FloatTensor([v-1]), torch.FloatTensor([n-1]), input_a) -\n",
    "                                    b(torch.FloatTensor([v]), torch.FloatTensor([n-1]), input_a)) for v in range(n+1))\n",
    "\n",
    "def multivariable_bernstein_prediction(input, degree, number_variables, params, min_val, max_val, monotonically_increasing, derivativ=0):\n",
    "    # input dims: 0: observation number, 1: variable\n",
    "    # cloning tipp from here: https://discuss.pytorch.org/t/encounter-the-runtimeerror-one-of-the-variables-needed-for-gradient-computation-has-been-modified-by-an-inplace-operation/836/10\n",
    "    output = input.clone()\n",
    "    for var_num in range(number_variables):\n",
    "        output[:,var_num] = bernstein_prediction(params[:,var_num], input[:,var_num], degree, min_val[var_num], max_val[var_num], monotonically_increasing, derivativ)\n",
    "    return output\n",
    "\n",
    "class Transformation(nn.Module):\n",
    "    def __init__(self, degree, number_variables, min_val, max_val):\n",
    "        super().__init__()\n",
    "        self.degree  = degree\n",
    "        self.number_variables = number_variables\n",
    "        self.min_val = min_val\n",
    "        self.max_val = max_val\n",
    "        # param dims: 0: basis, 1: variable\n",
    "        p = torch.FloatTensor(np.repeat(np.repeat(1,self.degree+1),self.number_variables))\n",
    "        self.params = nn.Parameter(torch.reshape(p,(self.degree+1, self.number_variables)))\n",
    "\n",
    "    def forward(self, input, log_d = 0, inverse = False, monotonically_increasing = True):\n",
    "        # input dims: 0: observation number, 1: variable\n",
    "        if not inverse:\n",
    "            output = multivariable_bernstein_prediction(input, self.degree, self.number_variables, self.params, self.min_val, self.max_val, monotonically_increasing)\n",
    "            output_first_derivativ = multivariable_bernstein_prediction(input, self.degree, self.number_variables, self.params, self.min_val, self.max_val, monotonically_increasing, derivativ=1)\n",
    "            log_d = log_d + torch.log(torch.abs(output_first_derivativ)) # Error this is false we require the derivativ of the bernstein polynomial!332'\n",
    "        else:\n",
    "            output = multivariable_bernstein_prediction(input, self.degree, self.number_variables, self.params_inverse, self.min_val_inverse, self.max_val_inverse, monotonically_increasing=False)\n",
    "\n",
    "\n",
    "        return output, log_d\n",
    "\n",
    "    def approximate_inverse(self, input, min_val, max_val):\n",
    "        # optimization using linespace data and the forward berstein polynomial\n",
    "\n",
    "        self.min_val_inverse = min_val\n",
    "        self.max_val_inverse = max_val\n",
    "\n",
    "        #input_space = input\n",
    "        #output_space = multivariable_bernstein_prediction(input_space, self.degree, self.number_variables, self.params, monotonically_increasing=True)\n",
    "\n",
    "        inv_trans = Transformation(self.degree, self.number_variables, self.min_val_inverse, self.max_val_inverse)\n",
    "        loss_mse = nn.MSELoss()\n",
    "        opt_inv  = optim.Adam(inv_trans.parameters(), lr = 1e-2)\n",
    "        scheduler_inv = optim.lr_scheduler.StepLR(opt_inv, step_size = 500, gamma = 0.8)\n",
    "        l2_losses = []\n",
    "        for _ in tqdm(range(4000)):\n",
    "\n",
    "            # needs to be computed manually at each step\n",
    "            input_space = input\n",
    "            output_space = multivariable_bernstein_prediction(input_space, self.degree, self.number_variables, self.params, self.min_val, self.max_val, monotonically_increasing=True)\n",
    "\n",
    "            opt_inv.zero_grad() # zero out gradients first on the optimizer\n",
    "            input_space_pred, input_space_pred_log_d  = inv_trans.forward(output_space, inverse=False, monotonically_increasing=False)\n",
    "\n",
    "            l2_loss = loss_mse(input_space_pred, input_space) # use the `objective` function\n",
    "\n",
    "            l2_loss.backward() # backpropagate the loss\n",
    "            opt_inv.step()\n",
    "            scheduler_inv.step()\n",
    "            l2_losses.append(l2_loss.detach().numpy())\n",
    "\n",
    "        self.params_inverse = inv_trans.params\n",
    "\n",
    "        with sns.axes_style('ticks'):\n",
    "            plt.plot(l2_losses)\n",
    "            plt.xlabel(\"Iteration\")\n",
    "            plt.ylabel(\"Loss\")\n",
    "        sns.despine(trim = True)\n",
    "\n",
    "\n",
    "    def __repr__(self):\n",
    "        return \"Transformation(degree={degree:.2f}, params={params:.2f})\".format(degree = self.degree, params = self.params)"
   ],
   "metadata": {
    "collapsed": false,
    "pycharm": {
     "name": "#%%\n"
    }
   }
  },
  {
   "cell_type": "code",
   "execution_count": 185,
   "outputs": [],
   "source": [
    "def objective(y, mctm, avg = True):\n",
    "    z, log_d = mctm(y)\n",
    "    log_likelihood_latent = Normal(0, 1).log_prob(z) # log p_source(z)\n",
    "    #print(log_likelihood_latent.size())\n",
    "    #print(log_d.size())\n",
    "    #print(log_d)\n",
    "    if avg:\n",
    "        loss = 1 / (z.size(0)*z.size(1)) * (- log_likelihood_latent - log_d).sum()\n",
    "    else:\n",
    "        loss = - log_likelihood_latent.sum() - log_d.sum()\n",
    "    return loss"
   ],
   "metadata": {
    "collapsed": false,
    "pycharm": {
     "name": "#%%\n"
    }
   }
  },
  {
   "cell_type": "code",
   "execution_count": 173,
   "outputs": [
    {
     "data": {
      "text/plain": "tensor(1.6350, grad_fn=<MulBackward0>)"
     },
     "execution_count": 173,
     "metadata": {},
     "output_type": "execute_result"
    }
   ],
   "source": [
    "objective(y, mctm, avg = True)"
   ],
   "metadata": {
    "collapsed": false,
    "pycharm": {
     "name": "#%%\n"
    }
   }
  },
  {
   "cell_type": "code",
   "execution_count": 293,
   "outputs": [],
   "source": [
    "def optimize(y, mctm, objective, iterations = 2000):\n",
    "    opt                 = optim.Adam(mctm.parameters(), lr = 1e-2)\n",
    "    scheduler           = optim.lr_scheduler.StepLR(opt, step_size = 500, gamma = 0.8)\n",
    "    neg_log_likelihoods = []\n",
    "    for _ in tqdm(range(iterations)):\n",
    "        opt.zero_grad() # zero out gradients first on the optimizer\n",
    "        neg_log_likelihood = objective(y, mctm) # use the `objective` function\n",
    "        neg_log_likelihood.backward() # backpropagate the loss\n",
    "        opt.step()\n",
    "        scheduler.step()\n",
    "        neg_log_likelihoods.append(neg_log_likelihood.detach().numpy())\n",
    "    return neg_log_likelihoods"
   ],
   "metadata": {
    "collapsed": false,
    "pycharm": {
     "name": "#%%\n"
    }
   }
  },
  {
   "cell_type": "code",
   "execution_count": 281,
   "outputs": [],
   "source": [
    "def optimize(y, mctm, objective, iterations = 2000):\n",
    "    opt = torch.optim.LBFGS(mctm.parameters())\n",
    "\n",
    "    def closure():\n",
    "        opt.zero_grad()\n",
    "        neg_log_likelihood = objective(y, mctm) # use the `objective` function\n",
    "        neg_log_likelihood.backward() # backpropagate the loss\n",
    "        return neg_log_likelihood\n",
    "\n",
    "    neg_log_likelihoods = []\n",
    "    for _ in tqdm(range(iterations)):\n",
    "        neg_log_likelihood = objective(y, mctm)\n",
    "        opt.step(closure)\n",
    "        neg_log_likelihoods.append(neg_log_likelihood.detach().numpy())\n",
    "    return neg_log_likelihoods"
   ],
   "metadata": {
    "collapsed": false,
    "pycharm": {
     "name": "#%%\n"
    }
   }
  },
  {
   "cell_type": "code",
   "execution_count": 268,
   "outputs": [
    {
     "data": {
      "text/plain": "<Figure size 432x288 with 1 Axes>",
      "image/png": "[encoded data removed]"
     },
     "metadata": {
      "needs_background": "light"
     },
     "output_type": "display_data"
    }
   ],
   "source": [
    "y_distribution = Laplace(5, 3)\n",
    "y = y_distribution.sample((2000,2)) # Generate training data\n",
    "plt.hist(y[:,0].numpy(), bins=100)\n",
    "plt.hist(y[:,1].numpy(), bins=100)\n",
    "plt.show()"
   ],
   "metadata": {
    "collapsed": false,
    "pycharm": {
     "name": "#%%\n"
    }
   }
  },
  {
   "cell_type": "code",
   "execution_count": 260,
   "outputs": [
    {
     "data": {
      "text/plain": "<Figure size 432x288 with 1 Axes>",
      "image/png": "[encoded data removed]"
     },
     "metadata": {
      "needs_background": "light"
     },
     "output_type": "display_data"
    }
   ],
   "source": [
    "y_distribution = Normal(5, 2)\n",
    "y = y_distribution.sample((2000,2)) # Generate training data\n",
    "plt.hist(y[:,0].numpy(), bins=100)\n",
    "plt.hist(y[:,1].numpy(), bins=100)\n",
    "plt.show()"
   ],
   "metadata": {
    "collapsed": false,
    "pycharm": {
     "name": "#%%\n"
    }
   }
  },
  {
   "cell_type": "code",
   "execution_count": 113,
   "outputs": [],
   "source": [
    "mctm = Transformation(degree=10, number_variables=2) # Initialize the affine flow model"
   ],
   "metadata": {
    "collapsed": false,
    "pycharm": {
     "name": "#%%\n"
    }
   }
  },
  {
   "cell_type": "code",
   "execution_count": 331,
   "outputs": [],
   "source": [
    "mctm = Transformation(degree=10, number_variables=2, min_val=torch.FloatTensor([-20,-20]), max_val=torch.FloatTensor([35,35]))"
   ],
   "metadata": {
    "collapsed": false,
    "pycharm": {
     "name": "#%%\n"
    }
   }
  },
  {
   "cell_type": "code",
   "execution_count": 193,
   "outputs": [
    {
     "data": {
      "text/plain": "Parameter containing:\ntensor([[-1., -1.],\n        [-1., -1.],\n        [-1., -1.],\n        [-1., -1.],\n        [-1., -1.],\n        [-1., -1.],\n        [-1., -1.],\n        [-1., -1.],\n        [-1., -1.],\n        [-1., -1.],\n        [-1., -1.]], requires_grad=True)"
     },
     "execution_count": 193,
     "metadata": {},
     "output_type": "execute_result"
    }
   ],
   "source": [
    "mctm.params"
   ],
   "metadata": {
    "collapsed": false,
    "pycharm": {
     "name": "#%%\n"
    }
   }
  },
  {
   "cell_type": "code",
   "execution_count": null,
   "outputs": [],
   "source": [],
   "metadata": {
    "collapsed": false,
    "pycharm": {
     "name": "#%%\n"
    }
   }
  },
  {
   "cell_type": "code",
   "execution_count": 257,
   "outputs": [
    {
     "data": {
      "text/plain": "<Figure size 432x288 with 1 Axes>",
      "image/png": "[encoded data removed]"
     },
     "metadata": {
      "needs_background": "light"
     },
     "output_type": "display_data"
    }
   ],
   "source": [
    "z, log_d = mctm.forward(y)\n",
    "plt.hist(z[:,0].detach().numpy(), bins=100)\n",
    "plt.hist(z[:,1].detach().numpy(), bins=100)\n",
    "plt.show()"
   ],
   "metadata": {
    "collapsed": false,
    "pycharm": {
     "name": "#%%\n"
    }
   }
  },
  {
   "cell_type": "code",
   "execution_count": 332,
   "outputs": [
    {
     "name": "stderr",
     "output_type": "stream",
     "text": [
      "100%|██████████| 2000/2000 [00:26<00:00, 76.28it/s] \n"
     ]
    },
    {
     "data": {
      "text/plain": "<Figure size 432x288 with 1 Axes>",
      "image/png": "[encoded data removed]"
     },
     "metadata": {},
     "output_type": "display_data"
    }
   ],
   "source": [
    "def train(mctm, train_data):\n",
    "\n",
    "    neg_log_likelihoods = optimize(train_data, mctm, objective, iterations = 2000) # Run training\n",
    "\n",
    "    # Plot neg_log_likelihoods over training iterations:\n",
    "    with sns.axes_style('ticks'):\n",
    "        plt.plot(neg_log_likelihoods)\n",
    "        plt.xlabel(\"Iteration\")\n",
    "        plt.ylabel(\"Loss\")\n",
    "    sns.despine(trim = True)\n",
    "\n",
    "train(mctm, y)"
   ],
   "metadata": {
    "collapsed": false,
    "pycharm": {
     "name": "#%%\n"
    }
   }
  },
  {
   "cell_type": "code",
   "execution_count": 92,
   "outputs": [
    {
     "data": {
      "text/plain": "tensor([ 1.0000,  3.7183,  6.4366,  9.1548, 11.8731, 14.5914, 17.3097, 20.0280,\n        22.7463, 25.4645, 28.1828])"
     },
     "execution_count": 92,
     "metadata": {},
     "output_type": "execute_result"
    }
   ],
   "source": [
    "#p = torch.FloatTensor(torch.ones(11))\n",
    "#p2 = p.clone()\n",
    "#p2[1:] = torch.exp(p[1:]) @ torch.triu(torch.ones(10,10)) + p[0]\n",
    "#p2"
   ],
   "metadata": {
    "collapsed": false,
    "pycharm": {
     "name": "#%%\n"
    }
   }
  },
  {
   "cell_type": "code",
   "execution_count": null,
   "outputs": [],
   "source": [
    "#torch.abs(mctm.params[1:,0]) @ torch.triu(torch.ones(10,10)) + mctm.params[1,0]"
   ],
   "metadata": {
    "collapsed": false,
    "pycharm": {
     "name": "#%%\n"
    }
   }
  },
  {
   "cell_type": "code",
   "execution_count": null,
   "outputs": [],
   "source": [
    "#torch.abs(mctm.params[1:,1]) @ torch.triu(torch.ones(10,10)) + mctm.params[1,1]"
   ],
   "metadata": {
    "collapsed": false,
    "pycharm": {
     "name": "#%%\n"
    }
   }
  },
  {
   "cell_type": "code",
   "execution_count": 333,
   "outputs": [
    {
     "data": {
      "text/plain": "<Figure size 432x288 with 1 Axes>",
      "image/png": "[encoded data removed]"
     },
     "metadata": {
      "needs_background": "light"
     },
     "output_type": "display_data"
    },
    {
     "name": "stdout",
     "output_type": "stream",
     "text": [
      "tensor([[2.2333, 2.0848],\n",
      "        [2.1031, 2.4925],\n",
      "        [2.0028, 2.1231],\n",
      "        ...,\n",
      "        [1.9766, 2.0064],\n",
      "        [2.3102, 2.5001],\n",
      "        [2.1721, 2.0397]], grad_fn=<AddBackward0>)\n"
     ]
    }
   ],
   "source": [
    "z, log_d = mctm.forward(y)\n",
    "plt.hist(z[:,0].detach().numpy(), bins=100)\n",
    "plt.hist(z[:,1].detach().numpy(), bins=100)\n",
    "plt.show()\n",
    "print(log_d)"
   ],
   "metadata": {
    "collapsed": false,
    "pycharm": {
     "name": "#%%\n"
    }
   }
  },
  {
   "cell_type": "code",
   "execution_count": 94,
   "outputs": [
    {
     "data": {
      "text/plain": "<Figure size 432x288 with 1 Axes>",
      "image/png": "[encoded data removed]"
     },
     "metadata": {
      "needs_background": "light"
     },
     "output_type": "display_data"
    }
   ],
   "source": [
    "y_distribution = Normal(0, 1)\n",
    "y = y_distribution.sample((2000,2)) # Generate training data\n",
    "plt.hist(y[:,0].numpy(), bins=100)\n",
    "plt.hist(y[:,1].numpy(), bins=100)\n",
    "plt.show()"
   ],
   "metadata": {
    "collapsed": false,
    "pycharm": {
     "name": "#%%\n"
    }
   }
  },
  {
   "cell_type": "code",
   "execution_count": 54,
   "outputs": [
    {
     "data": {
      "text/plain": "[<matplotlib.lines.Line2D at 0x7fbee7496ed0>]"
     },
     "execution_count": 54,
     "metadata": {},
     "output_type": "execute_result"
    },
    {
     "data": {
      "text/plain": "<Figure size 432x288 with 1 Axes>",
      "image/png": "[encoded data removed]"
     },
     "metadata": {
      "needs_background": "light"
     },
     "output_type": "display_data"
    }
   ],
   "source": [
    "linespace_distr = - Normal(0, 1).log_prob(torch.FloatTensor(np.linspace(-5,5,100)))\n",
    "plt.plot(np.linspace(-5,5,100),linespace_distr.numpy())"
   ],
   "metadata": {
    "collapsed": false,
    "pycharm": {
     "name": "#%%\n"
    }
   }
  },
  {
   "cell_type": "code",
   "execution_count": 313,
   "outputs": [
    {
     "data": {
      "text/plain": "tensor([[ 6.2609,  3.3921],\n        [ 3.8692, 11.5850],\n        [ 1.4872, -5.2115],\n        ...,\n        [ 0.5509,  1.1018],\n        [ 7.5691, 11.7469],\n        [ 5.1789,  2.2201]])"
     },
     "execution_count": 313,
     "metadata": {},
     "output_type": "execute_result"
    }
   ],
   "source": [
    "y"
   ],
   "metadata": {
    "collapsed": false,
    "pycharm": {
     "name": "#%%\n"
    }
   }
  },
  {
   "cell_type": "code",
   "execution_count": 338,
   "outputs": [
    {
     "name": "stderr",
     "output_type": "stream",
     "text": [
      "100%|██████████| 2000/2000 [00:34<00:00, 57.44it/s]\n"
     ]
    },
    {
     "data": {
      "text/plain": "<Figure size 432x288 with 1 Axes>",
      "image/png": "[encoded data removed]"
     },
     "metadata": {},
     "output_type": "display_data"
    }
   ],
   "source": [
    "mctm.approximate_inverse(y, min_val= torch.FloatTensor([-7,-7]), max_val=torch.FloatTensor([7,7]))"
   ],
   "metadata": {
    "collapsed": false,
    "pycharm": {
     "name": "#%%\n"
    }
   }
  },
  {
   "cell_type": "code",
   "execution_count": 321,
   "outputs": [
    {
     "data": {
      "text/plain": "Parameter containing:\ntensor([[-14.2150, -14.6659],\n        [-15.7871, -15.6973],\n        [-11.3611, -12.0364],\n        [ -5.4739,  -6.4136],\n        [  1.4383,   0.8902],\n        [  6.5837,   6.5564],\n        [  9.2106,   9.2959],\n        [ 10.6924,  10.7900],\n        [ 11.6884,  11.8260],\n        [ 12.5125,  12.7306],\n        [ 13.5289,  13.5396]], requires_grad=True)"
     },
     "execution_count": 321,
     "metadata": {},
     "output_type": "execute_result"
    }
   ],
   "source": [
    "mctm.params_inverse"
   ],
   "metadata": {
    "collapsed": false,
    "pycharm": {
     "name": "#%%\n"
    }
   }
  },
  {
   "cell_type": "code",
   "execution_count": 335,
   "outputs": [],
   "source": [
    "def evaluate(mctm):\n",
    "    p_source = Normal(0, 1)\n",
    "    p_target = Laplace(5, 3)\n",
    "    x_true   = p_target.sample((2000, 2)) # samples to compare to\n",
    "\n",
    "    # Generate samples from source distribution\n",
    "    z = p_source.sample((2000, 2))\n",
    "\n",
    "    # Use our trained model get samples from the target distribution\n",
    "    x_flow, log_d = mctm.forward(z, inverse=True)\n",
    "\n",
    "    # Plot histogram of training samples `x` and generated samples `x_flow` to compare the two.\n",
    "    with sns.axes_style('ticks'):\n",
    "        fig, ax = plt.subplots(figsize = (4,4), dpi = 150)\n",
    "        ax.hist(x_true[:,0].detach().numpy().ravel(), bins = 50, alpha = 0.5,\n",
    "                histtype = 'step', label = \"true\", density = True);\n",
    "        ax.hist(x_flow[:,0].detach().numpy().ravel(), bins = 50, alpha = 0.5,\n",
    "                histtype = 'step', label = \"flow\", density = True);\n",
    "        plt.xlabel(\"x\")\n",
    "        plt.ylabel(\"Density\")\n",
    "        plt.legend(loc = \"upper right\")\n",
    "    sns.despine(trim = True)"
   ],
   "metadata": {
    "collapsed": false,
    "pycharm": {
     "name": "#%%\n"
    }
   }
  },
  {
   "cell_type": "code",
   "execution_count": 342,
   "outputs": [
    {
     "data": {
      "text/plain": "<Figure size 600x600 with 1 Axes>",
      "image/png": "[encoded data removed]"
     },
     "metadata": {},
     "output_type": "display_data"
    }
   ],
   "source": [
    "evaluate(mctm)"
   ],
   "metadata": {
    "collapsed": false,
    "pycharm": {
     "name": "#%%\n"
    }
   }
  },
  {
   "cell_type": "code",
   "execution_count": null,
   "outputs": [],
   "source": [
    "class Decorrelation(nn.Module):\n",
    "    def __init__(self):\n",
    "        super().__init__()\n",
    "        self.alpha = nn.Parameter(torch.FloatTensor(1).normal_())\n",
    "        self.beta  = nn.Parameter(torch.FloatTensor(1).normal_())\n",
    "\n",
    "    def forward(self, x, log_d = 0, inverse = False):\n",
    "        if not inverse:\n",
    "            z     = self.alpha * x + self.beta\n",
    "            log_d = log_d + torch.log(torch.abs(self.alpha))\n",
    "        else:\n",
    "            z     = (x - self.beta) / self.alpha\n",
    "            log_d = log_d + torch.log(torch.abs(self.alpha))\n",
    "        return z, log_d\n",
    "\n",
    "    def __repr__(self):\n",
    "        return \"Affine(alpha={alpha:.2f}, beta={beta:.2f})\".format(alpha = self.alpha[0], beta = self.beta[0])"
   ],
   "metadata": {
    "collapsed": false,
    "pycharm": {
     "name": "#%%\n"
    }
   }
  }
 ],
 "metadata": {
  "kernelspec": {
   "display_name": "Python 3",
   "language": "python",
   "name": "python3"
  },
  "language_info": {
   "codemirror_mode": {
    "name": "ipython",
    "version": 2
   },
   "file_extension": ".py",
   "mimetype": "text/x-python",
   "name": "python",
   "nbconvert_exporter": "python",
   "pygments_lexer": "ipython2",
   "version": "2.7.6"
  }
 },
 "nbformat": 4,
 "nbformat_minor": 0
}